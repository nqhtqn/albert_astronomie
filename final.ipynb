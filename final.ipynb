{
 "cells": [
  {
   "cell_type": "markdown",
   "metadata": {},
   "source": [
    "# Final Project"
   ]
  },
  {
   "cell_type": "markdown",
   "metadata": {},
   "source": [
    "This is a dataset consisting of several features of stars.\n",
    "\n",
    "Some of them are:\n",
    "\n",
    "Absolute Temperature (in K)\n",
    "Relative Luminosity (L/Lo)\n",
    "Relative Radius (R/Ro)\n",
    "Absolute Magnitude (Mv)\n",
    "Star Color (white,Red,Blue,Yellow,yellow-orange etc)\n",
    "Spectral Class (O,B,A,F,G,K,,M)\n",
    "Star Type (Red Dwarf, Brown Dwarf, White Dwarf, Main Sequence , SuperGiants, HyperGiants)\n",
    "Lo = 3.828 x 10^26 Watts (Avg Luminosity of Sun)\n",
    "Ro = 6.9551 x 10^8 m (Avg Radius of Sun)"
   ]
  },
  {
   "cell_type": "markdown",
   "metadata": {},
   "source": []
  }
 ],
 "metadata": {
  "language_info": {
   "name": "python"
  }
 },
 "nbformat": 4,
 "nbformat_minor": 2
}
