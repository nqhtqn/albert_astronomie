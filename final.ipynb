{
 "cells": [
  {
   "cell_type": "markdown",
   "metadata": {},
   "source": [
    "# Projet final"
   ]
  },
  {
   "cell_type": "markdown",
   "metadata": {},
   "source": [
    "Dans cette étude, nous nous pencherons sur l'analyse des différentes caractéristiques des étoiles de notre galaxie. Les étoiles, objets célestes fascinants, possèdent des propriétés physiques variées telles que la température, la luminosité, la taille et la couleur, qui permettent de les classer en différentes catégories et types spectraux. À partir de l'échantillon de données disponible, nous analyserons comment ces caractéristiques interagissent et influencent la classification des étoiles, tout en explorant leur distribution et leur relation au sein de l'univers. Cette exploration vise à enrichir notre compréhension des étoiles et à offrir un aperçu détaillé de leurs propriétés essentielles.\n",
    "\n",
    "Ces données ont été sélectionnées par Diaa ELdyin Essam Zaki, étudiante à la Faculté d'informatique et d'intelligence artificielle de l'Université du Caire. Nous les avons trouvées sur Kaggle."
   ]
  },
  {
   "cell_type": "code",
   "execution_count": 2,
   "metadata": {},
   "outputs": [],
   "source": [
    "# Import necessary libraries\n",
    "import numpy as np\n",
    "import pandas as pd\n",
    "from scipy.stats import linregress\n",
    "\n",
    "import plotly.express as px\n",
    "import plotly.graph_objects as go"
   ]
  },
  {
   "cell_type": "code",
   "execution_count": null,
   "metadata": {},
   "outputs": [],
   "source": [
    "stars = pd.read_csv ('https://github.com/YBIFoundation/Dataset/raw/main/Stars.csv')"
   ]
  },
  {
   "cell_type": "code",
   "execution_count": 10,
   "metadata": {},
   "outputs": [
    {
     "name": "stdout",
     "output_type": "stream",
     "text": [
      "Shape : (240, 8)\n",
      "Value counts : \n",
      " Star category\n",
      "Brown Dwarf      40\n",
      "Red Dwarf        40\n",
      "White Dwarf      40\n",
      "Main Sequence    40\n",
      "Supergiant       40\n",
      "Hypergiant       40\n",
      "Name: count, dtype: int64\n"
     ]
    }
   ],
   "source": [
    "print('Shape :', np.shape(stars))\n",
    "\n",
    "print('Value counts :', '\\n', stars['Star category'].value_counts())"
   ]
  },
  {
   "cell_type": "code",
   "execution_count": 11,
   "metadata": {},
   "outputs": [
    {
     "data": {
      "text/html": [
       "<div>\n",
       "<style scoped>\n",
       "    .dataframe tbody tr th:only-of-type {\n",
       "        vertical-align: middle;\n",
       "    }\n",
       "\n",
       "    .dataframe tbody tr th {\n",
       "        vertical-align: top;\n",
       "    }\n",
       "\n",
       "    .dataframe thead th {\n",
       "        text-align: right;\n",
       "    }\n",
       "</style>\n",
       "<table border=\"1\" class=\"dataframe\">\n",
       "  <thead>\n",
       "    <tr style=\"text-align: right;\">\n",
       "      <th></th>\n",
       "      <th>Temperature (K)</th>\n",
       "      <th>Luminosity (L/Lo)</th>\n",
       "      <th>Radius (R/Ro)</th>\n",
       "      <th>Absolute magnitude (Mv)</th>\n",
       "      <th>Star type</th>\n",
       "      <th>Star category</th>\n",
       "      <th>Star color</th>\n",
       "      <th>Spectral Class</th>\n",
       "    </tr>\n",
       "  </thead>\n",
       "  <tbody>\n",
       "    <tr>\n",
       "      <th>0</th>\n",
       "      <td>3068</td>\n",
       "      <td>0.002400</td>\n",
       "      <td>0.1700</td>\n",
       "      <td>16.12</td>\n",
       "      <td>0</td>\n",
       "      <td>Brown Dwarf</td>\n",
       "      <td>Red</td>\n",
       "      <td>M</td>\n",
       "    </tr>\n",
       "    <tr>\n",
       "      <th>1</th>\n",
       "      <td>3042</td>\n",
       "      <td>0.000500</td>\n",
       "      <td>0.1542</td>\n",
       "      <td>16.60</td>\n",
       "      <td>0</td>\n",
       "      <td>Brown Dwarf</td>\n",
       "      <td>Red</td>\n",
       "      <td>M</td>\n",
       "    </tr>\n",
       "    <tr>\n",
       "      <th>2</th>\n",
       "      <td>2600</td>\n",
       "      <td>0.000300</td>\n",
       "      <td>0.1020</td>\n",
       "      <td>18.70</td>\n",
       "      <td>0</td>\n",
       "      <td>Brown Dwarf</td>\n",
       "      <td>Red</td>\n",
       "      <td>M</td>\n",
       "    </tr>\n",
       "    <tr>\n",
       "      <th>3</th>\n",
       "      <td>2800</td>\n",
       "      <td>0.000200</td>\n",
       "      <td>0.1600</td>\n",
       "      <td>16.65</td>\n",
       "      <td>0</td>\n",
       "      <td>Brown Dwarf</td>\n",
       "      <td>Red</td>\n",
       "      <td>M</td>\n",
       "    </tr>\n",
       "    <tr>\n",
       "      <th>4</th>\n",
       "      <td>1939</td>\n",
       "      <td>0.000138</td>\n",
       "      <td>0.1030</td>\n",
       "      <td>20.06</td>\n",
       "      <td>0</td>\n",
       "      <td>Brown Dwarf</td>\n",
       "      <td>Red</td>\n",
       "      <td>M</td>\n",
       "    </tr>\n",
       "  </tbody>\n",
       "</table>\n",
       "</div>"
      ],
      "text/plain": [
       "   Temperature (K)  Luminosity (L/Lo)  Radius (R/Ro)  Absolute magnitude (Mv)  \\\n",
       "0             3068           0.002400         0.1700                    16.12   \n",
       "1             3042           0.000500         0.1542                    16.60   \n",
       "2             2600           0.000300         0.1020                    18.70   \n",
       "3             2800           0.000200         0.1600                    16.65   \n",
       "4             1939           0.000138         0.1030                    20.06   \n",
       "\n",
       "   Star type Star category Star color Spectral Class  \n",
       "0          0   Brown Dwarf        Red              M  \n",
       "1          0   Brown Dwarf        Red              M  \n",
       "2          0   Brown Dwarf        Red              M  \n",
       "3          0   Brown Dwarf        Red              M  \n",
       "4          0   Brown Dwarf        Red              M  "
      ]
     },
     "execution_count": 11,
     "metadata": {},
     "output_type": "execute_result"
    }
   ],
   "source": [
    "stars.head()"
   ]
  },
  {
   "cell_type": "markdown",
   "metadata": {},
   "source": [
    "**Quelques informations sur les unites dans notre dataframe :**"
   ]
  },
  {
   "cell_type": "markdown",
   "metadata": {},
   "source": [
    "Le dataframe comporte une partie des étoiles de la galaxie (240, soit 40 étoiles de chaque type) -> une ligne = une étoile"
   ]
  },
  {
   "cell_type": "markdown",
   "metadata": {},
   "source": [
    "On a donc bien 240 étoiles, choisies aléatoirement dans leur catégorie, et on a 8 colonnes. \n",
    "\n",
    "- Température absolue, en Kelvin\n",
    "- Luminosité relative, en L/Lo où L = luminosité de l'étoile et Lo = luminosité du Soleil\n",
    "- Rayon relatif, en R/RO où R = rayon de l'étoile et RO = rayon du Soleil\n",
    "- Magnitude absoluen, en Mv\n",
    "- Couleur de l'étoile\n",
    "- Classe spectrale\n",
    "- Type d'étoile"
   ]
  },
  {
   "cell_type": "markdown",
   "metadata": {},
   "source": [
    "Pour info, Lo = 3.828 x 10^26 Watts et Ro = 6.9551 x 10^8 m"
   ]
  },
  {
   "cell_type": "code",
   "execution_count": 12,
   "metadata": {},
   "outputs": [
    {
     "data": {
      "application/vnd.plotly.v1+json": {
       "config": {
        "plotlyServerURL": "https://plot.ly"
       },
       "data": [
        {
         "marker": {
          "color": "blue"
         },
         "mode": "markers",
         "name": "Données",
         "type": "scatter",
         "x": [
          3068,
          3042,
          2600,
          2800,
          1939,
          2840,
          2637,
          2600,
          2650,
          2700,
          3600,
          3129,
          3134,
          3628,
          2650,
          3340,
          2799,
          3692,
          3192,
          3441,
          25000,
          7740,
          7220,
          8500,
          16500,
          12990,
          8570,
          7700,
          11790,
          7230,
          39000,
          30000,
          15276,
          9700,
          5800,
          8052,
          6757,
          6380,
          5936,
          5587,
          3826,
          3365,
          3270,
          3200,
          3008,
          3600,
          3575,
          3574,
          3625,
          33750,
          3490,
          3750,
          3834,
          3749,
          3650,
          3450,
          3660,
          3450,
          3752,
          3535,
          3341,
          3432,
          2983,
          2835,
          2935,
          3295,
          2945,
          2817,
          2774,
          2871,
          3345,
          3607,
          3304,
          3150,
          3550,
          3180,
          2890,
          3342,
          2621,
          3158,
          7100,
          10574,
          8930,
          17200,
          14100,
          9675,
          12010,
          10980,
          13720,
          19860,
          5300,
          4526,
          4077,
          4980,
          9030,
          11250,
          5112,
          7720,
          12098,
          36108,
          33300,
          40000,
          23000,
          17120,
          11096,
          14245,
          24630,
          12893,
          24345,
          33421,
          3459,
          3605,
          3615,
          3399,
          3610,
          3553,
          4015,
          3625,
          6850,
          3780,
          3323,
          3531,
          3218,
          3146,
          3511,
          3225,
          2935,
          2861,
          2856,
          2731,
          3095,
          3607,
          3100,
          2989,
          3542,
          3243,
          3091,
          3598,
          3324,
          3541,
          13420,
          21020,
          18290,
          14520,
          11900,
          8924,
          12912,
          14732,
          7723,
          12984,
          29560,
          8945,
          14060,
          16390,
          25070,
          28700,
          26140,
          20120,
          13023,
          37800,
          25390,
          11567,
          12675,
          5752,
          8927,
          7282,
          19923,
          26373,
          17383,
          9373,
          3570,
          3500,
          4287,
          26000,
          3600,
          3614,
          18000,
          11000,
          12100,
          24490,
          2831,
          2914,
          3419,
          3218,
          3453,
          2889,
          2968,
          3484,
          2778,
          3523,
          3462,
          3257,
          2994,
          3212,
          3523,
          3598,
          3142,
          3496,
          3324,
          3463,
          16790,
          15680,
          14982,
          13340,
          18340,
          19920,
          24020,
          23092,
          17920,
          19360,
          22350,
          10012,
          13089,
          22012,
          34190,
          32460,
          9320,
          19400,
          17140,
          8250,
          23678,
          12749,
          9383,
          23440,
          16787,
          18734,
          9892,
          10930,
          23095,
          21738,
          24145,
          38234,
          32489,
          27739,
          21904,
          38940,
          30839,
          8829,
          9235,
          37882
         ],
         "y": [
          0.0024,
          0.0005,
          0.0003,
          0.0002,
          0.000138,
          0.00065,
          0.00073,
          0.0004,
          0.00069,
          0.00018,
          0.0029,
          0.0122,
          0.0004,
          0.0055,
          0.0006,
          0.0038,
          0.0018,
          0.00367,
          0.00362,
          0.039,
          0.056,
          0.00049,
          0.00017,
          0.0005,
          0.013,
          0.000085,
          0.00081,
          0.00011,
          0.00015,
          0.00008,
          204000,
          28840,
          1136,
          74,
          0.81,
          8.7,
          1.43,
          1.35,
          1.357,
          0.819,
          200000,
          340000,
          150000,
          195000,
          280000,
          320000,
          123000,
          200000,
          184000,
          220000,
          270000,
          283000,
          272000,
          550000,
          310000,
          263000,
          363000,
          174000,
          209000,
          195000,
          0.0056,
          0.00067,
          0.00024,
          0.00034,
          0.00014,
          0.00098,
          0.00032,
          0.00098,
          0.00036,
          0.00072,
          0.021,
          0.022,
          0.0085,
          0.0088,
          0.004,
          0.001,
          0.0034,
          0.0015,
          0.0006,
          0.00135,
          0.00029,
          0.00014,
          0.00056,
          0.00098,
          0.00067,
          0.00045,
          0.00078,
          0.00074,
          0.00018,
          0.0011,
          0.59,
          0.153,
          0.085,
          0.357,
          45,
          672,
          0.63,
          7.92,
          689,
          198000,
          240000,
          813000,
          127000,
          235000,
          112000,
          231000,
          363000,
          184000,
          142000,
          352000,
          100000,
          126000,
          200000,
          117000,
          132000,
          145000,
          282000,
          74000,
          229000,
          200000,
          0.00043,
          0.00093,
          0.00054,
          0.00015,
          0.00064,
          0.00076,
          0.00087,
          0.00019,
          0.000896,
          0.000437,
          0.00019,
          0.00023,
          0.008,
          0.0087,
          0.0009,
          0.0023,
          0.0081,
          0.0011,
          0.0034,
          0.0013,
          0.00059,
          0.0015,
          0.0013,
          0.00082,
          0.00067,
          0.00028,
          0.00071,
          0.00011,
          0.00014,
          0.00088,
          188000,
          38,
          1092,
          1278,
          14500,
          16790,
          14520,
          4720,
          998,
          202900,
          223000,
          251000,
          452000,
          245000,
          239000,
          131000,
          152000,
          198000,
          342900,
          424520,
          320000,
          138000,
          630000,
          316000,
          240000,
          145000,
          200000,
          170000,
          120000,
          248490,
          0.000231,
          0.000631,
          0.000245,
          0.000452,
          0.000621,
          0.000352,
          0.000461,
          0.000551,
          0.000849,
          0.000957,
          0.0053,
          0.0024,
          0.0072,
          0.0016,
          0.0054,
          0.0027,
          0.00132,
          0.00125,
          0.0065,
          0.0027,
          0.0014,
          0.00122,
          0.00118,
          0.00109,
          0.00134,
          0.00156,
          0.00159,
          0.00132,
          0.00111,
          0.00125,
          12450,
          552,
          788,
          6748,
          198200,
          173800,
          29,
          10920,
          883,
          9.25,
          244290,
          332520,
          342940,
          537430,
          246730,
          224780,
          593900,
          783930,
          347820,
          748890,
          382993,
          272830,
          648430,
          849420,
          748490,
          374830,
          834042,
          537493,
          404940,
          294903
         ]
        },
        {
         "line": {
          "color": "green",
          "dash": "dot",
          "width": 2
         },
         "mode": "lines",
         "name": "Régression linéaire: y=7.39x + 29615.46<br>R²=0.15",
         "type": "scatter",
         "x": [
          1939,
          2323.4545454545455,
          2707.909090909091,
          3092.363636363636,
          3476.818181818182,
          3861.272727272727,
          4245.727272727272,
          4630.181818181818,
          5014.636363636364,
          5399.090909090909,
          5783.545454545454,
          6168,
          6552.454545454545,
          6936.909090909091,
          7321.363636363636,
          7705.818181818182,
          8090.272727272727,
          8474.727272727272,
          8859.181818181818,
          9243.636363636364,
          9628.090909090908,
          10012.545454545454,
          10397,
          10781.454545454546,
          11165.90909090909,
          11550.363636363636,
          11934.818181818182,
          12319.272727272726,
          12703.727272727272,
          13088.181818181818,
          13472.636363636364,
          13857.090909090908,
          14241.545454545454,
          14626,
          15010.454545454544,
          15394.90909090909,
          15779.363636363636,
          16163.818181818182,
          16548.272727272728,
          16932.727272727272,
          17317.181818181816,
          17701.63636363636,
          18086.090909090908,
          18470.545454545452,
          18855,
          19239.454545454544,
          19623.909090909092,
          20008.363636363636,
          20392.81818181818,
          20777.272727272728,
          21161.727272727272,
          21546.181818181816,
          21930.636363636364,
          22315.090909090908,
          22699.545454545452,
          23084,
          23468.454545454544,
          23852.90909090909,
          24237.363636363636,
          24621.81818181818,
          25006.272727272728,
          25390.727272727272,
          25775.181818181816,
          26159.636363636364,
          26544.090909090908,
          26928.545454545452,
          27313,
          27697.454545454544,
          28081.90909090909,
          28466.363636363636,
          28850.81818181818,
          29235.272727272728,
          29619.727272727272,
          30004.181818181816,
          30388.636363636364,
          30773.090909090908,
          31157.545454545452,
          31542,
          31926.454545454544,
          32310.90909090909,
          32695.363636363636,
          33079.81818181818,
          33464.27272727272,
          33848.72727272727,
          34233.181818181816,
          34617.63636363637,
          35002.090909090904,
          35386.545454545456,
          35771,
          36155.454545454544,
          36539.90909090909,
          36924.36363636363,
          37308.818181818184,
          37693.27272727273,
          38077.72727272727,
          38462.181818181816,
          38846.63636363636,
          39231.090909090904,
          39615.545454545456,
          40000
         ],
         "y": [
          43944.051547170144,
          46785.0481031815,
          49626.04465919286,
          52467.04121520422,
          55308.03777121558,
          58149.03432722694,
          60990.030883238294,
          63831.02743924966,
          66672.02399526103,
          69513.02055127238,
          72354.01710728373,
          75195.0136632951,
          78036.01021930645,
          80877.00677531782,
          83718.00333132918,
          86558.99988734054,
          89399.9964433519,
          92240.99299936325,
          95081.98955537462,
          97922.98611138598,
          100763.98266739733,
          103604.97922340869,
          106445.97577942006,
          109286.97233543142,
          112127.96889144277,
          114968.96544745413,
          117809.9620034655,
          120650.95855947684,
          123491.9551154882,
          126332.95167149957,
          129173.94822751093,
          132014.94478352228,
          134855.94133953366,
          137696.937895545,
          140537.93445155636,
          143378.93100756773,
          146219.92756357908,
          149060.92411959043,
          151901.9206756018,
          154742.9172316132,
          157583.9137876245,
          160424.9103436359,
          163265.90689964726,
          166106.90345565858,
          168947.90001166996,
          171788.89656768134,
          174629.89312369272,
          177470.88967970404,
          180311.8862357154,
          183152.8827917268,
          185993.8793477381,
          188834.8759037495,
          191675.87245976087,
          194516.8690157722,
          197357.86557178356,
          200198.86212779494,
          203039.85868380626,
          205880.85523981764,
          208721.85179582902,
          211562.84835184034,
          214403.84490785172,
          217244.8414638631,
          220085.8380198744,
          222926.8345758858,
          225767.83113189717,
          228608.8276879085,
          231449.82424391987,
          234290.82079993124,
          237131.81735594256,
          239972.81391195394,
          242813.81046796532,
          245654.8070239767,
          248495.80357998802,
          251336.8001359994,
          254177.79669201077,
          257018.7932480221,
          259859.78980403347,
          262700.78636004485,
          265541.78291605617,
          268382.77947206754,
          271223.7760280789,
          274064.77258409024,
          276905.7691401016,
          279746.765696113,
          282587.7622521243,
          285428.75880813575,
          288269.7553641471,
          291110.75192015845,
          293951.74847616977,
          296792.74503218115,
          299633.74158819247,
          302474.73814420385,
          305315.7347002152,
          308156.7312562266,
          310997.7278122379,
          313838.7243682493,
          316679.7209242606,
          319520.717480272,
          322361.7140362834,
          325202.71059229475
         ]
        }
       ],
       "layout": {
        "legend": {
         "title": {
          "text": "Légende"
         },
         "x": 0.02,
         "y": 0.98
        },
        "template": {
         "data": {
          "bar": [
           {
            "error_x": {
             "color": "#2a3f5f"
            },
            "error_y": {
             "color": "#2a3f5f"
            },
            "marker": {
             "line": {
              "color": "white",
              "width": 0.5
             },
             "pattern": {
              "fillmode": "overlay",
              "size": 10,
              "solidity": 0.2
             }
            },
            "type": "bar"
           }
          ],
          "barpolar": [
           {
            "marker": {
             "line": {
              "color": "white",
              "width": 0.5
             },
             "pattern": {
              "fillmode": "overlay",
              "size": 10,
              "solidity": 0.2
             }
            },
            "type": "barpolar"
           }
          ],
          "carpet": [
           {
            "aaxis": {
             "endlinecolor": "#2a3f5f",
             "gridcolor": "#C8D4E3",
             "linecolor": "#C8D4E3",
             "minorgridcolor": "#C8D4E3",
             "startlinecolor": "#2a3f5f"
            },
            "baxis": {
             "endlinecolor": "#2a3f5f",
             "gridcolor": "#C8D4E3",
             "linecolor": "#C8D4E3",
             "minorgridcolor": "#C8D4E3",
             "startlinecolor": "#2a3f5f"
            },
            "type": "carpet"
           }
          ],
          "choropleth": [
           {
            "colorbar": {
             "outlinewidth": 0,
             "ticks": ""
            },
            "type": "choropleth"
           }
          ],
          "contour": [
           {
            "colorbar": {
             "outlinewidth": 0,
             "ticks": ""
            },
            "colorscale": [
             [
              0,
              "#0d0887"
             ],
             [
              0.1111111111111111,
              "#46039f"
             ],
             [
              0.2222222222222222,
              "#7201a8"
             ],
             [
              0.3333333333333333,
              "#9c179e"
             ],
             [
              0.4444444444444444,
              "#bd3786"
             ],
             [
              0.5555555555555556,
              "#d8576b"
             ],
             [
              0.6666666666666666,
              "#ed7953"
             ],
             [
              0.7777777777777778,
              "#fb9f3a"
             ],
             [
              0.8888888888888888,
              "#fdca26"
             ],
             [
              1,
              "#f0f921"
             ]
            ],
            "type": "contour"
           }
          ],
          "contourcarpet": [
           {
            "colorbar": {
             "outlinewidth": 0,
             "ticks": ""
            },
            "type": "contourcarpet"
           }
          ],
          "heatmap": [
           {
            "colorbar": {
             "outlinewidth": 0,
             "ticks": ""
            },
            "colorscale": [
             [
              0,
              "#0d0887"
             ],
             [
              0.1111111111111111,
              "#46039f"
             ],
             [
              0.2222222222222222,
              "#7201a8"
             ],
             [
              0.3333333333333333,
              "#9c179e"
             ],
             [
              0.4444444444444444,
              "#bd3786"
             ],
             [
              0.5555555555555556,
              "#d8576b"
             ],
             [
              0.6666666666666666,
              "#ed7953"
             ],
             [
              0.7777777777777778,
              "#fb9f3a"
             ],
             [
              0.8888888888888888,
              "#fdca26"
             ],
             [
              1,
              "#f0f921"
             ]
            ],
            "type": "heatmap"
           }
          ],
          "heatmapgl": [
           {
            "colorbar": {
             "outlinewidth": 0,
             "ticks": ""
            },
            "colorscale": [
             [
              0,
              "#0d0887"
             ],
             [
              0.1111111111111111,
              "#46039f"
             ],
             [
              0.2222222222222222,
              "#7201a8"
             ],
             [
              0.3333333333333333,
              "#9c179e"
             ],
             [
              0.4444444444444444,
              "#bd3786"
             ],
             [
              0.5555555555555556,
              "#d8576b"
             ],
             [
              0.6666666666666666,
              "#ed7953"
             ],
             [
              0.7777777777777778,
              "#fb9f3a"
             ],
             [
              0.8888888888888888,
              "#fdca26"
             ],
             [
              1,
              "#f0f921"
             ]
            ],
            "type": "heatmapgl"
           }
          ],
          "histogram": [
           {
            "marker": {
             "pattern": {
              "fillmode": "overlay",
              "size": 10,
              "solidity": 0.2
             }
            },
            "type": "histogram"
           }
          ],
          "histogram2d": [
           {
            "colorbar": {
             "outlinewidth": 0,
             "ticks": ""
            },
            "colorscale": [
             [
              0,
              "#0d0887"
             ],
             [
              0.1111111111111111,
              "#46039f"
             ],
             [
              0.2222222222222222,
              "#7201a8"
             ],
             [
              0.3333333333333333,
              "#9c179e"
             ],
             [
              0.4444444444444444,
              "#bd3786"
             ],
             [
              0.5555555555555556,
              "#d8576b"
             ],
             [
              0.6666666666666666,
              "#ed7953"
             ],
             [
              0.7777777777777778,
              "#fb9f3a"
             ],
             [
              0.8888888888888888,
              "#fdca26"
             ],
             [
              1,
              "#f0f921"
             ]
            ],
            "type": "histogram2d"
           }
          ],
          "histogram2dcontour": [
           {
            "colorbar": {
             "outlinewidth": 0,
             "ticks": ""
            },
            "colorscale": [
             [
              0,
              "#0d0887"
             ],
             [
              0.1111111111111111,
              "#46039f"
             ],
             [
              0.2222222222222222,
              "#7201a8"
             ],
             [
              0.3333333333333333,
              "#9c179e"
             ],
             [
              0.4444444444444444,
              "#bd3786"
             ],
             [
              0.5555555555555556,
              "#d8576b"
             ],
             [
              0.6666666666666666,
              "#ed7953"
             ],
             [
              0.7777777777777778,
              "#fb9f3a"
             ],
             [
              0.8888888888888888,
              "#fdca26"
             ],
             [
              1,
              "#f0f921"
             ]
            ],
            "type": "histogram2dcontour"
           }
          ],
          "mesh3d": [
           {
            "colorbar": {
             "outlinewidth": 0,
             "ticks": ""
            },
            "type": "mesh3d"
           }
          ],
          "parcoords": [
           {
            "line": {
             "colorbar": {
              "outlinewidth": 0,
              "ticks": ""
             }
            },
            "type": "parcoords"
           }
          ],
          "pie": [
           {
            "automargin": true,
            "type": "pie"
           }
          ],
          "scatter": [
           {
            "fillpattern": {
             "fillmode": "overlay",
             "size": 10,
             "solidity": 0.2
            },
            "type": "scatter"
           }
          ],
          "scatter3d": [
           {
            "line": {
             "colorbar": {
              "outlinewidth": 0,
              "ticks": ""
             }
            },
            "marker": {
             "colorbar": {
              "outlinewidth": 0,
              "ticks": ""
             }
            },
            "type": "scatter3d"
           }
          ],
          "scattercarpet": [
           {
            "marker": {
             "colorbar": {
              "outlinewidth": 0,
              "ticks": ""
             }
            },
            "type": "scattercarpet"
           }
          ],
          "scattergeo": [
           {
            "marker": {
             "colorbar": {
              "outlinewidth": 0,
              "ticks": ""
             }
            },
            "type": "scattergeo"
           }
          ],
          "scattergl": [
           {
            "marker": {
             "colorbar": {
              "outlinewidth": 0,
              "ticks": ""
             }
            },
            "type": "scattergl"
           }
          ],
          "scattermapbox": [
           {
            "marker": {
             "colorbar": {
              "outlinewidth": 0,
              "ticks": ""
             }
            },
            "type": "scattermapbox"
           }
          ],
          "scatterpolar": [
           {
            "marker": {
             "colorbar": {
              "outlinewidth": 0,
              "ticks": ""
             }
            },
            "type": "scatterpolar"
           }
          ],
          "scatterpolargl": [
           {
            "marker": {
             "colorbar": {
              "outlinewidth": 0,
              "ticks": ""
             }
            },
            "type": "scatterpolargl"
           }
          ],
          "scatterternary": [
           {
            "marker": {
             "colorbar": {
              "outlinewidth": 0,
              "ticks": ""
             }
            },
            "type": "scatterternary"
           }
          ],
          "surface": [
           {
            "colorbar": {
             "outlinewidth": 0,
             "ticks": ""
            },
            "colorscale": [
             [
              0,
              "#0d0887"
             ],
             [
              0.1111111111111111,
              "#46039f"
             ],
             [
              0.2222222222222222,
              "#7201a8"
             ],
             [
              0.3333333333333333,
              "#9c179e"
             ],
             [
              0.4444444444444444,
              "#bd3786"
             ],
             [
              0.5555555555555556,
              "#d8576b"
             ],
             [
              0.6666666666666666,
              "#ed7953"
             ],
             [
              0.7777777777777778,
              "#fb9f3a"
             ],
             [
              0.8888888888888888,
              "#fdca26"
             ],
             [
              1,
              "#f0f921"
             ]
            ],
            "type": "surface"
           }
          ],
          "table": [
           {
            "cells": {
             "fill": {
              "color": "#EBF0F8"
             },
             "line": {
              "color": "white"
             }
            },
            "header": {
             "fill": {
              "color": "#C8D4E3"
             },
             "line": {
              "color": "white"
             }
            },
            "type": "table"
           }
          ]
         },
         "layout": {
          "annotationdefaults": {
           "arrowcolor": "#2a3f5f",
           "arrowhead": 0,
           "arrowwidth": 1
          },
          "autotypenumbers": "strict",
          "coloraxis": {
           "colorbar": {
            "outlinewidth": 0,
            "ticks": ""
           }
          },
          "colorscale": {
           "diverging": [
            [
             0,
             "#8e0152"
            ],
            [
             0.1,
             "#c51b7d"
            ],
            [
             0.2,
             "#de77ae"
            ],
            [
             0.3,
             "#f1b6da"
            ],
            [
             0.4,
             "#fde0ef"
            ],
            [
             0.5,
             "#f7f7f7"
            ],
            [
             0.6,
             "#e6f5d0"
            ],
            [
             0.7,
             "#b8e186"
            ],
            [
             0.8,
             "#7fbc41"
            ],
            [
             0.9,
             "#4d9221"
            ],
            [
             1,
             "#276419"
            ]
           ],
           "sequential": [
            [
             0,
             "#0d0887"
            ],
            [
             0.1111111111111111,
             "#46039f"
            ],
            [
             0.2222222222222222,
             "#7201a8"
            ],
            [
             0.3333333333333333,
             "#9c179e"
            ],
            [
             0.4444444444444444,
             "#bd3786"
            ],
            [
             0.5555555555555556,
             "#d8576b"
            ],
            [
             0.6666666666666666,
             "#ed7953"
            ],
            [
             0.7777777777777778,
             "#fb9f3a"
            ],
            [
             0.8888888888888888,
             "#fdca26"
            ],
            [
             1,
             "#f0f921"
            ]
           ],
           "sequentialminus": [
            [
             0,
             "#0d0887"
            ],
            [
             0.1111111111111111,
             "#46039f"
            ],
            [
             0.2222222222222222,
             "#7201a8"
            ],
            [
             0.3333333333333333,
             "#9c179e"
            ],
            [
             0.4444444444444444,
             "#bd3786"
            ],
            [
             0.5555555555555556,
             "#d8576b"
            ],
            [
             0.6666666666666666,
             "#ed7953"
            ],
            [
             0.7777777777777778,
             "#fb9f3a"
            ],
            [
             0.8888888888888888,
             "#fdca26"
            ],
            [
             1,
             "#f0f921"
            ]
           ]
          },
          "colorway": [
           "#636efa",
           "#EF553B",
           "#00cc96",
           "#ab63fa",
           "#FFA15A",
           "#19d3f3",
           "#FF6692",
           "#B6E880",
           "#FF97FF",
           "#FECB52"
          ],
          "font": {
           "color": "#2a3f5f"
          },
          "geo": {
           "bgcolor": "white",
           "lakecolor": "white",
           "landcolor": "white",
           "showlakes": true,
           "showland": true,
           "subunitcolor": "#C8D4E3"
          },
          "hoverlabel": {
           "align": "left"
          },
          "hovermode": "closest",
          "mapbox": {
           "style": "light"
          },
          "paper_bgcolor": "white",
          "plot_bgcolor": "white",
          "polar": {
           "angularaxis": {
            "gridcolor": "#EBF0F8",
            "linecolor": "#EBF0F8",
            "ticks": ""
           },
           "bgcolor": "white",
           "radialaxis": {
            "gridcolor": "#EBF0F8",
            "linecolor": "#EBF0F8",
            "ticks": ""
           }
          },
          "scene": {
           "xaxis": {
            "backgroundcolor": "white",
            "gridcolor": "#DFE8F3",
            "gridwidth": 2,
            "linecolor": "#EBF0F8",
            "showbackground": true,
            "ticks": "",
            "zerolinecolor": "#EBF0F8"
           },
           "yaxis": {
            "backgroundcolor": "white",
            "gridcolor": "#DFE8F3",
            "gridwidth": 2,
            "linecolor": "#EBF0F8",
            "showbackground": true,
            "ticks": "",
            "zerolinecolor": "#EBF0F8"
           },
           "zaxis": {
            "backgroundcolor": "white",
            "gridcolor": "#DFE8F3",
            "gridwidth": 2,
            "linecolor": "#EBF0F8",
            "showbackground": true,
            "ticks": "",
            "zerolinecolor": "#EBF0F8"
           }
          },
          "shapedefaults": {
           "line": {
            "color": "#2a3f5f"
           }
          },
          "ternary": {
           "aaxis": {
            "gridcolor": "#DFE8F3",
            "linecolor": "#A2B1C6",
            "ticks": ""
           },
           "baxis": {
            "gridcolor": "#DFE8F3",
            "linecolor": "#A2B1C6",
            "ticks": ""
           },
           "bgcolor": "white",
           "caxis": {
            "gridcolor": "#DFE8F3",
            "linecolor": "#A2B1C6",
            "ticks": ""
           }
          },
          "title": {
           "x": 0.05
          },
          "xaxis": {
           "automargin": true,
           "gridcolor": "#EBF0F8",
           "linecolor": "#EBF0F8",
           "ticks": "",
           "title": {
            "standoff": 15
           },
           "zerolinecolor": "#EBF0F8",
           "zerolinewidth": 2
          },
          "yaxis": {
           "automargin": true,
           "gridcolor": "#EBF0F8",
           "linecolor": "#EBF0F8",
           "ticks": "",
           "title": {
            "standoff": 15
           },
           "zerolinecolor": "#EBF0F8",
           "zerolinewidth": 2
          }
         }
        },
        "title": {
         "text": "Relation entre la température et la luminosité des étoiles avec régression linéaire"
        },
        "xaxis": {
         "title": {
          "text": "Température (K)"
         }
        },
        "yaxis": {
         "title": {
          "text": "Luminosité (L/Lo)"
         }
        }
       }
      }
     },
     "metadata": {},
     "output_type": "display_data"
    }
   ],
   "source": [
    "# Calcul de la régression linéaire avec scipy\n",
    "x = stars['Temperature (K)']\n",
    "y = stars['Luminosity (L/Lo)']\n",
    "slope, intercept, r_value, p_value, std_err = linregress(x, y)\n",
    "\n",
    "# Calcul des valeurs de la ligne de régression\n",
    "x_line = np.linspace(min(x), max(x), 100)\n",
    "y_line = slope * x_line + intercept\n",
    "\n",
    "# Créer le graphique\n",
    "fig = go.Figure()\n",
    "\n",
    "# Ajouter le scatter plot des points de données\n",
    "fig.add_trace(go.Scatter(\n",
    "    x=x,\n",
    "    y=y,\n",
    "    mode='markers',\n",
    "    name='Données',\n",
    "    marker=dict(color='blue')\n",
    "))\n",
    "\n",
    "# Ajouter la ligne de régression avec l'équation et R^2\n",
    "fig.add_trace(go.Scatter(\n",
    "    x=x_line,\n",
    "    y=y_line,\n",
    "    mode='lines',\n",
    "    name=f'Régression linéaire: y={slope:.2f}x + {intercept:.2f}<br>R²={r_value**2:.2f}',\n",
    "    line=dict(color='green', width=2, dash='dot')\n",
    "))\n",
    "\n",
    "# Mise en forme du graphique\n",
    "fig.update_layout(\n",
    "    title='Relation entre la température et la luminosité des étoiles avec régression linéaire',\n",
    "    xaxis_title='Température (K)',\n",
    "    yaxis_title='Luminosité (L/Lo)',\n",
    "    template='plotly_white',\n",
    "    legend=dict(\n",
    "        x=0.02,\n",
    "        y=0.98,\n",
    "        title_text='Légende'\n",
    "    )\n",
    ")\n",
    "\n",
    "# Afficher le graphique\n",
    "fig.show()"
   ]
  },
  {
   "cell_type": "markdown",
   "metadata": {},
   "source": [
    "R^2 = 0.15 très éloigné de 1 donc pas du tout pertinent de faire une régression linéaire. Donc pas de corrélation entre la luminosité et la température."
   ]
  },
  {
   "cell_type": "code",
   "execution_count": null,
   "metadata": {},
   "outputs": [
    {
     "data": {
      "application/vnd.plotly.v1+json": {
       "config": {
        "plotlyServerURL": "https://plot.ly"
       },
       "data": [
        {
         "hovertemplate": "Spectral Class=M<br>Température (K)=%{x}<br>Luminosité (L/Lo)=%{y}<extra></extra>",
         "legendgroup": "M",
         "marker": {
          "color": "red",
          "symbol": "circle"
         },
         "mode": "markers",
         "name": "M",
         "orientation": "v",
         "showlegend": true,
         "type": "scatter",
         "x": [
          3068,
          3042,
          2600,
          2800,
          1939,
          2840,
          2637,
          2600,
          2650,
          2700,
          3600,
          3129,
          3134,
          3628,
          2650,
          3340,
          2799,
          3692,
          3192,
          3441,
          3826,
          3365,
          3270,
          3200,
          3008,
          3600,
          3575,
          3574,
          3625,
          3490,
          3750,
          3834,
          3749,
          3650,
          3450,
          3660,
          3450,
          3752,
          3535,
          3341,
          3432,
          2983,
          2835,
          2935,
          3295,
          2945,
          2817,
          2774,
          2871,
          3345,
          3607,
          3304,
          3150,
          3550,
          3180,
          2890,
          3342,
          2621,
          3158,
          3459,
          3605,
          3615,
          3399,
          3610,
          3553,
          3625,
          3780,
          3323,
          3531,
          3218,
          3146,
          3511,
          3225,
          2935,
          2861,
          2856,
          2731,
          3095,
          3607,
          3100,
          2989,
          3542,
          3243,
          3091,
          3598,
          3324,
          3541,
          3570,
          3500,
          3600,
          3614,
          2831,
          2914,
          3419,
          3218,
          3453,
          2889,
          2968,
          3484,
          2778,
          3523,
          3462,
          3257,
          2994,
          3212,
          3523,
          3598,
          3142,
          3496,
          3324,
          3463
         ],
         "xaxis": "x",
         "y": [
          0.0024,
          0.0005,
          0.0003,
          0.0002,
          0.000138,
          0.00065,
          0.00073,
          0.0004,
          0.00069,
          0.00018,
          0.0029,
          0.0122,
          0.0004,
          0.0055,
          0.0006,
          0.0038,
          0.0018,
          0.00367,
          0.00362,
          0.039,
          200000,
          340000,
          150000,
          195000,
          280000,
          320000,
          123000,
          200000,
          184000,
          270000,
          283000,
          272000,
          550000,
          310000,
          263000,
          363000,
          174000,
          209000,
          195000,
          0.0056,
          0.00067,
          0.00024,
          0.00034,
          0.00014,
          0.00098,
          0.00032,
          0.00098,
          0.00036,
          0.00072,
          0.021,
          0.022,
          0.0085,
          0.0088,
          0.004,
          0.001,
          0.0034,
          0.0015,
          0.0006,
          0.00135,
          100000,
          126000,
          200000,
          117000,
          132000,
          145000,
          74000,
          200000,
          0.00043,
          0.00093,
          0.00054,
          0.00015,
          0.00064,
          0.00076,
          0.00087,
          0.00019,
          0.000896,
          0.000437,
          0.00019,
          0.00023,
          0.008,
          0.0087,
          0.0009,
          0.0023,
          0.0081,
          0.0011,
          0.0034,
          0.0013,
          320000,
          138000,
          240000,
          145000,
          0.000231,
          0.000631,
          0.000245,
          0.000452,
          0.000621,
          0.000352,
          0.000461,
          0.000551,
          0.000849,
          0.000957,
          0.0053,
          0.0024,
          0.0072,
          0.0016,
          0.0054,
          0.0027,
          0.00132,
          0.00125,
          0.0065,
          0.0027
         ],
         "yaxis": "y"
        },
        {
         "hovertemplate": "Spectral Class=B<br>Température (K)=%{x}<br>Luminosité (L/Lo)=%{y}<extra></extra>",
         "legendgroup": "B",
         "marker": {
          "color": "lightskyblue",
          "symbol": "circle"
         },
         "mode": "markers",
         "name": "B",
         "orientation": "v",
         "showlegend": true,
         "type": "scatter",
         "x": [
          25000,
          16500,
          30000,
          15276,
          9700,
          33750,
          17200,
          14100,
          12010,
          10980,
          19860,
          33300,
          13420,
          21020,
          18290,
          14520,
          11900,
          12912,
          12984,
          29560,
          16390,
          25070,
          28700,
          26140,
          20120,
          26000,
          11000,
          12100,
          24490,
          16790,
          15680,
          14982,
          13340,
          18340,
          19920,
          24020,
          23092,
          17920,
          19360,
          22350,
          22012,
          19400,
          17140,
          24145,
          27739,
          21904
         ],
         "xaxis": "x",
         "y": [
          0.056,
          0.013,
          28840,
          1136,
          74,
          220000,
          0.00098,
          0.00067,
          0.00078,
          0.00074,
          0.0011,
          240000,
          0.00059,
          0.0015,
          0.0013,
          0.00082,
          0.00067,
          0.00071,
          0.00088,
          188000,
          1278,
          14500,
          16790,
          14520,
          4720,
          316000,
          170000,
          120000,
          248490,
          0.0014,
          0.00122,
          0.00118,
          0.00109,
          0.00134,
          0.00156,
          0.00159,
          0.00132,
          0.00111,
          0.00125,
          12450,
          6748,
          10920,
          883,
          382993,
          849420,
          748490
         ],
         "yaxis": "y"
        },
        {
         "hovertemplate": "Spectral Class=A<br>Température (K)=%{x}<br>Luminosité (L/Lo)=%{y}<extra></extra>",
         "legendgroup": "A",
         "marker": {
          "color": "gray",
          "symbol": "circle"
         },
         "mode": "markers",
         "name": "A",
         "orientation": "v",
         "showlegend": true,
         "type": "scatter",
         "x": [
          7740,
          8500,
          8570,
          8052,
          8930,
          9675,
          9030,
          11250,
          12098,
          8924,
          7723,
          8945,
          14060,
          13023,
          10012,
          13089,
          9320,
          8829,
          9235
         ],
         "xaxis": "x",
         "y": [
          0.00049,
          0.0005,
          0.00081,
          8.7,
          0.00056,
          0.00045,
          45,
          672,
          689,
          0.00028,
          0.00014,
          38,
          1092,
          998,
          552,
          788,
          29,
          537493,
          404940
         ],
         "yaxis": "y"
        },
        {
         "hovertemplate": "Spectral Class=F<br>Température (K)=%{x}<br>Luminosité (L/Lo)=%{y}<extra></extra>",
         "legendgroup": "F",
         "marker": {
          "color": "yellow",
          "symbol": "circle"
         },
         "mode": "markers",
         "name": "F",
         "orientation": "v",
         "showlegend": true,
         "type": "scatter",
         "x": [
          7220,
          12990,
          7700,
          11790,
          7230,
          5800,
          6757,
          6380,
          5936,
          5587,
          7100,
          10574,
          13720,
          5300,
          7720,
          14732,
          8250
         ],
         "xaxis": "x",
         "y": [
          0.00017,
          0.000085,
          0.00011,
          0.00015,
          0.00008,
          0.81,
          1.43,
          1.35,
          1.357,
          0.819,
          0.00029,
          0.00014,
          0.00018,
          0.59,
          7.92,
          0.00011,
          9.25
         ],
         "yaxis": "y"
        },
        {
         "hovertemplate": "Spectral Class=O<br>Température (K)=%{x}<br>Luminosité (L/Lo)=%{y}<extra></extra>",
         "legendgroup": "O",
         "marker": {
          "color": "blue",
          "symbol": "circle"
         },
         "mode": "markers",
         "name": "O",
         "orientation": "v",
         "showlegend": true,
         "type": "scatter",
         "x": [
          39000,
          36108,
          40000,
          23000,
          17120,
          11096,
          14245,
          24630,
          12893,
          24345,
          33421,
          37800,
          25390,
          11567,
          12675,
          5752,
          8927,
          7282,
          19923,
          26373,
          17383,
          9373,
          18000,
          34190,
          32460,
          23678,
          12749,
          9383,
          23440,
          16787,
          18734,
          9892,
          10930,
          23095,
          21738,
          38234,
          32489,
          38940,
          30839,
          37882
         ],
         "xaxis": "x",
         "y": [
          204000,
          198000,
          813000,
          127000,
          235000,
          112000,
          231000,
          363000,
          184000,
          142000,
          352000,
          202900,
          223000,
          251000,
          452000,
          245000,
          239000,
          131000,
          152000,
          198000,
          342900,
          424520,
          200000,
          198200,
          173800,
          244290,
          332520,
          342940,
          537430,
          246730,
          224780,
          593900,
          783930,
          347820,
          748890,
          272830,
          648430,
          374830,
          834042,
          294903
         ],
         "yaxis": "y"
        },
        {
         "hovertemplate": "Spectral Class=K<br>Température (K)=%{x}<br>Luminosité (L/Lo)=%{y}<extra></extra>",
         "legendgroup": "K",
         "marker": {
          "color": "orange",
          "symbol": "circle"
         },
         "mode": "markers",
         "name": "K",
         "orientation": "v",
         "showlegend": true,
         "type": "scatter",
         "x": [
          4526,
          4077,
          4980,
          5112,
          4015,
          4287
         ],
         "xaxis": "x",
         "y": [
          0.153,
          0.085,
          0.357,
          0.63,
          282000,
          630000
         ],
         "yaxis": "y"
        },
        {
         "hovertemplate": "Spectral Class=G<br>Température (K)=%{x}<br>Luminosité (L/Lo)=%{y}<extra></extra>",
         "legendgroup": "G",
         "marker": {
          "color": "gold",
          "symbol": "circle"
         },
         "mode": "markers",
         "name": "G",
         "orientation": "v",
         "showlegend": true,
         "type": "scatter",
         "x": [
          6850
         ],
         "xaxis": "x",
         "y": [
          229000
         ],
         "yaxis": "y"
        }
       ],
       "layout": {
        "legend": {
         "title": {
          "text": "Spectral Class"
         },
         "tracegroupgap": 0
        },
        "template": {
         "data": {
          "bar": [
           {
            "error_x": {
             "color": "#2a3f5f"
            },
            "error_y": {
             "color": "#2a3f5f"
            },
            "marker": {
             "line": {
              "color": "#E5ECF6",
              "width": 0.5
             },
             "pattern": {
              "fillmode": "overlay",
              "size": 10,
              "solidity": 0.2
             }
            },
            "type": "bar"
           }
          ],
          "barpolar": [
           {
            "marker": {
             "line": {
              "color": "#E5ECF6",
              "width": 0.5
             },
             "pattern": {
              "fillmode": "overlay",
              "size": 10,
              "solidity": 0.2
             }
            },
            "type": "barpolar"
           }
          ],
          "carpet": [
           {
            "aaxis": {
             "endlinecolor": "#2a3f5f",
             "gridcolor": "white",
             "linecolor": "white",
             "minorgridcolor": "white",
             "startlinecolor": "#2a3f5f"
            },
            "baxis": {
             "endlinecolor": "#2a3f5f",
             "gridcolor": "white",
             "linecolor": "white",
             "minorgridcolor": "white",
             "startlinecolor": "#2a3f5f"
            },
            "type": "carpet"
           }
          ],
          "choropleth": [
           {
            "colorbar": {
             "outlinewidth": 0,
             "ticks": ""
            },
            "type": "choropleth"
           }
          ],
          "contour": [
           {
            "colorbar": {
             "outlinewidth": 0,
             "ticks": ""
            },
            "colorscale": [
             [
              0,
              "#0d0887"
             ],
             [
              0.1111111111111111,
              "#46039f"
             ],
             [
              0.2222222222222222,
              "#7201a8"
             ],
             [
              0.3333333333333333,
              "#9c179e"
             ],
             [
              0.4444444444444444,
              "#bd3786"
             ],
             [
              0.5555555555555556,
              "#d8576b"
             ],
             [
              0.6666666666666666,
              "#ed7953"
             ],
             [
              0.7777777777777778,
              "#fb9f3a"
             ],
             [
              0.8888888888888888,
              "#fdca26"
             ],
             [
              1,
              "#f0f921"
             ]
            ],
            "type": "contour"
           }
          ],
          "contourcarpet": [
           {
            "colorbar": {
             "outlinewidth": 0,
             "ticks": ""
            },
            "type": "contourcarpet"
           }
          ],
          "heatmap": [
           {
            "colorbar": {
             "outlinewidth": 0,
             "ticks": ""
            },
            "colorscale": [
             [
              0,
              "#0d0887"
             ],
             [
              0.1111111111111111,
              "#46039f"
             ],
             [
              0.2222222222222222,
              "#7201a8"
             ],
             [
              0.3333333333333333,
              "#9c179e"
             ],
             [
              0.4444444444444444,
              "#bd3786"
             ],
             [
              0.5555555555555556,
              "#d8576b"
             ],
             [
              0.6666666666666666,
              "#ed7953"
             ],
             [
              0.7777777777777778,
              "#fb9f3a"
             ],
             [
              0.8888888888888888,
              "#fdca26"
             ],
             [
              1,
              "#f0f921"
             ]
            ],
            "type": "heatmap"
           }
          ],
          "heatmapgl": [
           {
            "colorbar": {
             "outlinewidth": 0,
             "ticks": ""
            },
            "colorscale": [
             [
              0,
              "#0d0887"
             ],
             [
              0.1111111111111111,
              "#46039f"
             ],
             [
              0.2222222222222222,
              "#7201a8"
             ],
             [
              0.3333333333333333,
              "#9c179e"
             ],
             [
              0.4444444444444444,
              "#bd3786"
             ],
             [
              0.5555555555555556,
              "#d8576b"
             ],
             [
              0.6666666666666666,
              "#ed7953"
             ],
             [
              0.7777777777777778,
              "#fb9f3a"
             ],
             [
              0.8888888888888888,
              "#fdca26"
             ],
             [
              1,
              "#f0f921"
             ]
            ],
            "type": "heatmapgl"
           }
          ],
          "histogram": [
           {
            "marker": {
             "pattern": {
              "fillmode": "overlay",
              "size": 10,
              "solidity": 0.2
             }
            },
            "type": "histogram"
           }
          ],
          "histogram2d": [
           {
            "colorbar": {
             "outlinewidth": 0,
             "ticks": ""
            },
            "colorscale": [
             [
              0,
              "#0d0887"
             ],
             [
              0.1111111111111111,
              "#46039f"
             ],
             [
              0.2222222222222222,
              "#7201a8"
             ],
             [
              0.3333333333333333,
              "#9c179e"
             ],
             [
              0.4444444444444444,
              "#bd3786"
             ],
             [
              0.5555555555555556,
              "#d8576b"
             ],
             [
              0.6666666666666666,
              "#ed7953"
             ],
             [
              0.7777777777777778,
              "#fb9f3a"
             ],
             [
              0.8888888888888888,
              "#fdca26"
             ],
             [
              1,
              "#f0f921"
             ]
            ],
            "type": "histogram2d"
           }
          ],
          "histogram2dcontour": [
           {
            "colorbar": {
             "outlinewidth": 0,
             "ticks": ""
            },
            "colorscale": [
             [
              0,
              "#0d0887"
             ],
             [
              0.1111111111111111,
              "#46039f"
             ],
             [
              0.2222222222222222,
              "#7201a8"
             ],
             [
              0.3333333333333333,
              "#9c179e"
             ],
             [
              0.4444444444444444,
              "#bd3786"
             ],
             [
              0.5555555555555556,
              "#d8576b"
             ],
             [
              0.6666666666666666,
              "#ed7953"
             ],
             [
              0.7777777777777778,
              "#fb9f3a"
             ],
             [
              0.8888888888888888,
              "#fdca26"
             ],
             [
              1,
              "#f0f921"
             ]
            ],
            "type": "histogram2dcontour"
           }
          ],
          "mesh3d": [
           {
            "colorbar": {
             "outlinewidth": 0,
             "ticks": ""
            },
            "type": "mesh3d"
           }
          ],
          "parcoords": [
           {
            "line": {
             "colorbar": {
              "outlinewidth": 0,
              "ticks": ""
             }
            },
            "type": "parcoords"
           }
          ],
          "pie": [
           {
            "automargin": true,
            "type": "pie"
           }
          ],
          "scatter": [
           {
            "marker": {
             "colorbar": {
              "outlinewidth": 0,
              "ticks": ""
             }
            },
            "type": "scatter"
           }
          ],
          "scatter3d": [
           {
            "line": {
             "colorbar": {
              "outlinewidth": 0,
              "ticks": ""
             }
            },
            "marker": {
             "colorbar": {
              "outlinewidth": 0,
              "ticks": ""
             }
            },
            "type": "scatter3d"
           }
          ],
          "scattercarpet": [
           {
            "marker": {
             "colorbar": {
              "outlinewidth": 0,
              "ticks": ""
             }
            },
            "type": "scattercarpet"
           }
          ],
          "scattergeo": [
           {
            "marker": {
             "colorbar": {
              "outlinewidth": 0,
              "ticks": ""
             }
            },
            "type": "scattergeo"
           }
          ],
          "scattergl": [
           {
            "marker": {
             "colorbar": {
              "outlinewidth": 0,
              "ticks": ""
             }
            },
            "type": "scattergl"
           }
          ],
          "scattermapbox": [
           {
            "marker": {
             "colorbar": {
              "outlinewidth": 0,
              "ticks": ""
             }
            },
            "type": "scattermapbox"
           }
          ],
          "scatterpolar": [
           {
            "marker": {
             "colorbar": {
              "outlinewidth": 0,
              "ticks": ""
             }
            },
            "type": "scatterpolar"
           }
          ],
          "scatterpolargl": [
           {
            "marker": {
             "colorbar": {
              "outlinewidth": 0,
              "ticks": ""
             }
            },
            "type": "scatterpolargl"
           }
          ],
          "scatterternary": [
           {
            "marker": {
             "colorbar": {
              "outlinewidth": 0,
              "ticks": ""
             }
            },
            "type": "scatterternary"
           }
          ],
          "surface": [
           {
            "colorbar": {
             "outlinewidth": 0,
             "ticks": ""
            },
            "colorscale": [
             [
              0,
              "#0d0887"
             ],
             [
              0.1111111111111111,
              "#46039f"
             ],
             [
              0.2222222222222222,
              "#7201a8"
             ],
             [
              0.3333333333333333,
              "#9c179e"
             ],
             [
              0.4444444444444444,
              "#bd3786"
             ],
             [
              0.5555555555555556,
              "#d8576b"
             ],
             [
              0.6666666666666666,
              "#ed7953"
             ],
             [
              0.7777777777777778,
              "#fb9f3a"
             ],
             [
              0.8888888888888888,
              "#fdca26"
             ],
             [
              1,
              "#f0f921"
             ]
            ],
            "type": "surface"
           }
          ],
          "table": [
           {
            "cells": {
             "fill": {
              "color": "#EBF0F8"
             },
             "line": {
              "color": "white"
             }
            },
            "header": {
             "fill": {
              "color": "#C8D4E3"
             },
             "line": {
              "color": "white"
             }
            },
            "type": "table"
           }
          ]
         },
         "layout": {
          "annotationdefaults": {
           "arrowcolor": "#2a3f5f",
           "arrowhead": 0,
           "arrowwidth": 1
          },
          "autotypenumbers": "strict",
          "coloraxis": {
           "colorbar": {
            "outlinewidth": 0,
            "ticks": ""
           }
          },
          "colorscale": {
           "diverging": [
            [
             0,
             "#8e0152"
            ],
            [
             0.1,
             "#c51b7d"
            ],
            [
             0.2,
             "#de77ae"
            ],
            [
             0.3,
             "#f1b6da"
            ],
            [
             0.4,
             "#fde0ef"
            ],
            [
             0.5,
             "#f7f7f7"
            ],
            [
             0.6,
             "#e6f5d0"
            ],
            [
             0.7,
             "#b8e186"
            ],
            [
             0.8,
             "#7fbc41"
            ],
            [
             0.9,
             "#4d9221"
            ],
            [
             1,
             "#276419"
            ]
           ],
           "sequential": [
            [
             0,
             "#0d0887"
            ],
            [
             0.1111111111111111,
             "#46039f"
            ],
            [
             0.2222222222222222,
             "#7201a8"
            ],
            [
             0.3333333333333333,
             "#9c179e"
            ],
            [
             0.4444444444444444,
             "#bd3786"
            ],
            [
             0.5555555555555556,
             "#d8576b"
            ],
            [
             0.6666666666666666,
             "#ed7953"
            ],
            [
             0.7777777777777778,
             "#fb9f3a"
            ],
            [
             0.8888888888888888,
             "#fdca26"
            ],
            [
             1,
             "#f0f921"
            ]
           ],
           "sequentialminus": [
            [
             0,
             "#0d0887"
            ],
            [
             0.1111111111111111,
             "#46039f"
            ],
            [
             0.2222222222222222,
             "#7201a8"
            ],
            [
             0.3333333333333333,
             "#9c179e"
            ],
            [
             0.4444444444444444,
             "#bd3786"
            ],
            [
             0.5555555555555556,
             "#d8576b"
            ],
            [
             0.6666666666666666,
             "#ed7953"
            ],
            [
             0.7777777777777778,
             "#fb9f3a"
            ],
            [
             0.8888888888888888,
             "#fdca26"
            ],
            [
             1,
             "#f0f921"
            ]
           ]
          },
          "colorway": [
           "#636efa",
           "#EF553B",
           "#00cc96",
           "#ab63fa",
           "#FFA15A",
           "#19d3f3",
           "#FF6692",
           "#B6E880",
           "#FF97FF",
           "#FECB52"
          ],
          "font": {
           "color": "#2a3f5f"
          },
          "geo": {
           "bgcolor": "white",
           "lakecolor": "white",
           "landcolor": "#E5ECF6",
           "showlakes": true,
           "showland": true,
           "subunitcolor": "white"
          },
          "hoverlabel": {
           "align": "left"
          },
          "hovermode": "closest",
          "mapbox": {
           "style": "light"
          },
          "paper_bgcolor": "white",
          "plot_bgcolor": "#E5ECF6",
          "polar": {
           "angularaxis": {
            "gridcolor": "white",
            "linecolor": "white",
            "ticks": ""
           },
           "bgcolor": "#E5ECF6",
           "radialaxis": {
            "gridcolor": "white",
            "linecolor": "white",
            "ticks": ""
           }
          },
          "scene": {
           "xaxis": {
            "backgroundcolor": "#E5ECF6",
            "gridcolor": "white",
            "gridwidth": 2,
            "linecolor": "white",
            "showbackground": true,
            "ticks": "",
            "zerolinecolor": "white"
           },
           "yaxis": {
            "backgroundcolor": "#E5ECF6",
            "gridcolor": "white",
            "gridwidth": 2,
            "linecolor": "white",
            "showbackground": true,
            "ticks": "",
            "zerolinecolor": "white"
           },
           "zaxis": {
            "backgroundcolor": "#E5ECF6",
            "gridcolor": "white",
            "gridwidth": 2,
            "linecolor": "white",
            "showbackground": true,
            "ticks": "",
            "zerolinecolor": "white"
           }
          },
          "shapedefaults": {
           "line": {
            "color": "#2a3f5f"
           }
          },
          "ternary": {
           "aaxis": {
            "gridcolor": "white",
            "linecolor": "white",
            "ticks": ""
           },
           "baxis": {
            "gridcolor": "white",
            "linecolor": "white",
            "ticks": ""
           },
           "bgcolor": "#E5ECF6",
           "caxis": {
            "gridcolor": "white",
            "linecolor": "white",
            "ticks": ""
           }
          },
          "title": {
           "x": 0.05
          },
          "xaxis": {
           "automargin": true,
           "gridcolor": "white",
           "linecolor": "white",
           "ticks": "",
           "title": {
            "standoff": 15
           },
           "zerolinecolor": "white",
           "zerolinewidth": 2
          },
          "yaxis": {
           "automargin": true,
           "gridcolor": "white",
           "linecolor": "white",
           "ticks": "",
           "title": {
            "standoff": 15
           },
           "zerolinecolor": "white",
           "zerolinewidth": 2
          }
         }
        },
        "title": {
         "text": "Luminosité des étoiles en fonction de leur température et classe spectrale"
        },
        "xaxis": {
         "anchor": "y",
         "domain": [
          0,
          1
         ],
         "title": {
          "text": "Température (K)"
         }
        },
        "yaxis": {
         "anchor": "x",
         "domain": [
          0,
          1
         ],
         "title": {
          "text": "Luminosité (L/Lo)"
         }
        }
       }
      }
     },
     "metadata": {},
     "output_type": "display_data"
    }
   ],
   "source": [
    "color_map = {\n",
    "    'O': 'blue',\n",
    "    'B': 'lightskyblue',\n",
    "    'A': 'gray',\n",
    "    'F': 'yellow',\n",
    "    'G': 'gold',\n",
    "    'K': 'orange',\n",
    "    'M': 'red'\n",
    "}\n",
    "\n",
    "fig = px.scatter(stars, x='Temperature (K)', y='Luminosity (L/Lo)', color='Spectral Class',\n",
    "                 color_discrete_map=color_map,\n",
    "                 title='Luminosité des étoiles en fonction de leur température et classe spectrale',\n",
    "                 labels={'Temperature (K)': 'Température (K)', 'Luminosity (L/Lo)': 'Luminosité (L/Lo)'})\n",
    "fig.show()"
   ]
  },
  {
   "cell_type": "code",
   "execution_count": 13,
   "metadata": {},
   "outputs": [
    {
     "data": {
      "application/vnd.plotly.v1+json": {
       "config": {
        "plotlyServerURL": "https://plot.ly"
       },
       "data": [
        {
         "hovertemplate": "Star color=Red<br>Luminosity (L/Lo)=%{marker.size}<br>Stars=%{y}<extra></extra>",
         "legendgroup": "Red",
         "marker": {
          "color": "red",
          "size": [
           0.0024,
           0.0005,
           0.0003,
           0.0002,
           0.000138,
           0.00065,
           0.00073,
           0.0004,
           0.00069,
           0.00018,
           0.0029,
           0.0122,
           0.0004,
           0.0055,
           0.0006,
           0.0038,
           0.0018,
           0.00367,
           0.00362,
           0.039,
           200000,
           340000,
           150000,
           195000,
           280000,
           320000,
           123000,
           200000,
           184000,
           270000,
           283000,
           272000,
           310000,
           263000,
           363000,
           174000,
           209000,
           195000,
           0.0056,
           0.00067,
           0.00024,
           0.00034,
           0.00014,
           0.00098,
           0.00032,
           0.00098,
           0.00036,
           0.00072,
           0.021,
           0.022,
           0.0085,
           0.0088,
           0.004,
           0.001,
           0.0034,
           0.0015,
           0.0006,
           0.00135,
           100000,
           126000,
           200000,
           117000,
           132000,
           145000,
           282000,
           74000,
           229000,
           200000,
           0.00043,
           0.00093,
           0.00054,
           0.00015,
           0.00064,
           0.00076,
           0.00087,
           0.00019,
           0.000896,
           0.000437,
           0.00019,
           0.00023,
           0.008,
           0.0087,
           0.0009,
           0.0023,
           0.0081,
           0.0011,
           0.0034,
           0.0013,
           320000,
           138000,
           240000,
           145000,
           0.000231,
           0.000631,
           0.000245,
           0.000452,
           0.000621,
           0.000352,
           0.000461,
           0.000551,
           0.000849,
           0.000957,
           0.0053,
           0.0024,
           0.0072,
           0.0016,
           0.0054,
           0.0027,
           0.00132,
           0.00125,
           0.0065,
           0.0027
          ],
          "sizemode": "area",
          "sizeref": 2123.55,
          "symbol": "circle"
         },
         "mode": "markers",
         "name": "Red",
         "orientation": "v",
         "showlegend": true,
         "type": "scatter",
         "x": [
          0.0024,
          0.0005,
          0.0003,
          0.0002,
          0.000138,
          0.00065,
          0.00073,
          0.0004,
          0.00069,
          0.00018,
          0.0029,
          0.0122,
          0.0004,
          0.0055,
          0.0006,
          0.0038,
          0.0018,
          0.00367,
          0.00362,
          0.039,
          200000,
          340000,
          150000,
          195000,
          280000,
          320000,
          123000,
          200000,
          184000,
          270000,
          283000,
          272000,
          310000,
          263000,
          363000,
          174000,
          209000,
          195000,
          0.0056,
          0.00067,
          0.00024,
          0.00034,
          0.00014,
          0.00098,
          0.00032,
          0.00098,
          0.00036,
          0.00072,
          0.021,
          0.022,
          0.0085,
          0.0088,
          0.004,
          0.001,
          0.0034,
          0.0015,
          0.0006,
          0.00135,
          100000,
          126000,
          200000,
          117000,
          132000,
          145000,
          282000,
          74000,
          229000,
          200000,
          0.00043,
          0.00093,
          0.00054,
          0.00015,
          0.00064,
          0.00076,
          0.00087,
          0.00019,
          0.000896,
          0.000437,
          0.00019,
          0.00023,
          0.008,
          0.0087,
          0.0009,
          0.0023,
          0.0081,
          0.0011,
          0.0034,
          0.0013,
          320000,
          138000,
          240000,
          145000,
          0.000231,
          0.000631,
          0.000245,
          0.000452,
          0.000621,
          0.000352,
          0.000461,
          0.000551,
          0.000849,
          0.000957,
          0.0053,
          0.0024,
          0.0072,
          0.0016,
          0.0054,
          0.0027,
          0.00132,
          0.00125,
          0.0065,
          0.0027
         ],
         "xaxis": "x",
         "y": [
          1,
          1,
          1,
          1,
          1,
          1,
          1,
          1,
          1,
          1,
          1,
          1,
          1,
          1,
          1,
          1,
          1,
          1,
          1,
          1,
          1,
          1,
          1,
          1,
          1,
          1,
          1,
          1,
          1,
          1,
          1,
          1,
          1,
          1,
          1,
          1,
          1,
          1,
          1,
          1,
          1,
          1,
          1,
          1,
          1,
          1,
          1,
          1,
          1,
          1,
          1,
          1,
          1,
          1,
          1,
          1,
          1,
          1,
          1,
          1,
          1,
          1,
          1,
          1,
          1,
          1,
          1,
          1,
          1,
          1,
          1,
          1,
          1,
          1,
          1,
          1,
          1,
          1,
          1,
          1,
          1,
          1,
          1,
          1,
          1,
          1,
          1,
          1,
          1,
          1,
          1,
          1,
          1,
          1,
          1,
          1,
          1,
          1,
          1,
          1,
          1,
          1,
          1,
          1,
          1,
          1,
          1,
          1,
          1,
          1,
          1,
          1
         ],
         "yaxis": "y"
        },
        {
         "hovertemplate": "Star color=Blue White<br>Luminosity (L/Lo)=%{marker.size}<br>Stars=%{y}<extra></extra>",
         "legendgroup": "Blue White",
         "marker": {
          "color": "dodgerblue",
          "size": [
           0.056,
           0.013,
           0.00098,
           0.00067,
           0.00045,
           0.00078,
           0.00074,
           0.00059,
           0.00082,
           0.00088
          ],
          "sizemode": "area",
          "sizeref": 2123.55,
          "symbol": "circle"
         },
         "mode": "markers",
         "name": "Blue White",
         "orientation": "v",
         "showlegend": true,
         "type": "scatter",
         "x": [
          0.056,
          0.013,
          0.00098,
          0.00067,
          0.00045,
          0.00078,
          0.00074,
          0.00059,
          0.00082,
          0.00088
         ],
         "xaxis": "x",
         "y": [
          1,
          1,
          1,
          1,
          1,
          1,
          1,
          1,
          1,
          1
         ],
         "yaxis": "y"
        },
        {
         "hovertemplate": "Star color=White<br>Luminosity (L/Lo)=%{marker.size}<br>Stars=%{y}<extra></extra>",
         "legendgroup": "White",
         "marker": {
          "color": "white",
          "size": [
           0.00049,
           0.00017,
           0.0005,
           0.00014,
           0.00014,
           537493,
           404940
          ],
          "sizemode": "area",
          "sizeref": 2123.55,
          "symbol": "circle"
         },
         "mode": "markers",
         "name": "White",
         "orientation": "v",
         "showlegend": true,
         "type": "scatter",
         "x": [
          0.00049,
          0.00017,
          0.0005,
          0.00014,
          0.00014,
          537493,
          404940
         ],
         "xaxis": "x",
         "y": [
          1,
          1,
          1,
          1,
          1,
          1,
          1
         ],
         "yaxis": "y"
        },
        {
         "hovertemplate": "Star color=Yellowish White<br>Luminosity (L/Lo)=%{marker.size}<br>Stars=%{y}<extra></extra>",
         "legendgroup": "Yellowish White",
         "marker": {
          "color": "lightyellow",
          "size": [
           0.000085,
           0.00011,
           0.00015
          ],
          "sizemode": "area",
          "sizeref": 2123.55,
          "symbol": "circle"
         },
         "mode": "markers",
         "name": "Yellowish White",
         "orientation": "v",
         "showlegend": true,
         "type": "scatter",
         "x": [
          0.000085,
          0.00011,
          0.00015
         ],
         "xaxis": "x",
         "y": [
          1,
          1,
          1
         ],
         "yaxis": "y"
        },
        {
         "hovertemplate": "Star color=Blue white<br>Luminosity (L/Lo)=%{marker.size}<br>Stars=%{y}<extra></extra>",
         "legendgroup": "Blue white",
         "marker": {
          "color": "#EF553B",
          "size": [
           0.00081,
           0.00028,
           0.00071
          ],
          "sizemode": "area",
          "sizeref": 2123.55,
          "symbol": "circle"
         },
         "mode": "markers",
         "name": "Blue white",
         "orientation": "v",
         "showlegend": true,
         "type": "scatter",
         "x": [
          0.00081,
          0.00028,
          0.00071
         ],
         "xaxis": "x",
         "y": [
          1,
          1,
          1
         ],
         "yaxis": "y"
        },
        {
         "hovertemplate": "Star color=Pale yellow orange<br>Luminosity (L/Lo)=%{marker.size}<br>Stars=%{y}<extra></extra>",
         "legendgroup": "Pale yellow orange",
         "marker": {
          "color": "#FFD580",
          "size": [
           0.00008
          ],
          "sizemode": "area",
          "sizeref": 2123.55,
          "symbol": "circle"
         },
         "mode": "markers",
         "name": "Pale yellow orange",
         "orientation": "v",
         "showlegend": true,
         "type": "scatter",
         "x": [
          0.00008
         ],
         "xaxis": "x",
         "y": [
          1
         ],
         "yaxis": "y"
        },
        {
         "hovertemplate": "Star color=Blue<br>Luminosity (L/Lo)=%{marker.size}<br>Stars=%{y}<extra></extra>",
         "legendgroup": "Blue",
         "marker": {
          "color": "blue",
          "size": [
           204000,
           220000,
           198000,
           240000,
           813000,
           127000,
           235000,
           112000,
           231000,
           363000,
           184000,
           142000,
           352000,
           0.0015,
           0.0013,
           202900,
           223000,
           251000,
           452000,
           245000,
           239000,
           131000,
           152000,
           198000,
           342900,
           424520,
           316000,
           200000,
           0.0014,
           0.00122,
           0.00118,
           0.00109,
           0.00134,
           0.00156,
           0.00159,
           0.00132,
           0.00111,
           0.00125,
           198200,
           173800,
           244290,
           332520,
           342940,
           537430,
           246730,
           224780,
           593900,
           783930,
           347820,
           748890,
           272830,
           648430,
           374830,
           834042,
           294903
          ],
          "sizemode": "area",
          "sizeref": 2123.55,
          "symbol": "circle"
         },
         "mode": "markers",
         "name": "Blue",
         "orientation": "v",
         "showlegend": true,
         "type": "scatter",
         "x": [
          204000,
          220000,
          198000,
          240000,
          813000,
          127000,
          235000,
          112000,
          231000,
          363000,
          184000,
          142000,
          352000,
          0.0015,
          0.0013,
          202900,
          223000,
          251000,
          452000,
          245000,
          239000,
          131000,
          152000,
          198000,
          342900,
          424520,
          316000,
          200000,
          0.0014,
          0.00122,
          0.00118,
          0.00109,
          0.00134,
          0.00156,
          0.00159,
          0.00132,
          0.00111,
          0.00125,
          198200,
          173800,
          244290,
          332520,
          342940,
          537430,
          246730,
          224780,
          593900,
          783930,
          347820,
          748890,
          272830,
          648430,
          374830,
          834042,
          294903
         ],
         "xaxis": "x",
         "y": [
          1,
          1,
          1,
          1,
          1,
          1,
          1,
          1,
          1,
          1,
          1,
          1,
          1,
          1,
          1,
          1,
          1,
          1,
          1,
          1,
          1,
          1,
          1,
          1,
          1,
          1,
          1,
          1,
          1,
          1,
          1,
          1,
          1,
          1,
          1,
          1,
          1,
          1,
          1,
          1,
          1,
          1,
          1,
          1,
          1,
          1,
          1,
          1,
          1,
          1,
          1,
          1,
          1,
          1,
          1
         ],
         "yaxis": "y"
        },
        {
         "hovertemplate": "Star color=Blue-white<br>Luminosity (L/Lo)=%{marker.size}<br>Stars=%{y}<extra></extra>",
         "legendgroup": "Blue-white",
         "marker": {
          "color": "#ADD8E6",
          "size": [
           28840,
           1136,
           45,
           672,
           689,
           188000,
           1092,
           1278,
           14500,
           16790,
           14520,
           4720,
           998,
           170000,
           120000,
           248490,
           12450,
           552,
           788,
           6748,
           29,
           10920,
           883,
           382993,
           849420,
           748490
          ],
          "sizemode": "area",
          "sizeref": 2123.55,
          "symbol": "circle"
         },
         "mode": "markers",
         "name": "Blue-white",
         "orientation": "v",
         "showlegend": true,
         "type": "scatter",
         "x": [
          28840,
          1136,
          45,
          672,
          689,
          188000,
          1092,
          1278,
          14500,
          16790,
          14520,
          4720,
          998,
          170000,
          120000,
          248490,
          12450,
          552,
          788,
          6748,
          29,
          10920,
          883,
          382993,
          849420,
          748490
         ],
         "xaxis": "x",
         "y": [
          1,
          1,
          1,
          1,
          1,
          1,
          1,
          1,
          1,
          1,
          1,
          1,
          1,
          1,
          1,
          1,
          1,
          1,
          1,
          1,
          1,
          1,
          1,
          1,
          1,
          1
         ],
         "yaxis": "y"
        },
        {
         "hovertemplate": "Star color=Whitish<br>Luminosity (L/Lo)=%{marker.size}<br>Stars=%{y}<extra></extra>",
         "legendgroup": "Whitish",
         "marker": {
          "color": "#F5F5F5",
          "size": [
           74,
           8.7
          ],
          "sizemode": "area",
          "sizeref": 2123.55,
          "symbol": "circle"
         },
         "mode": "markers",
         "name": "Whitish",
         "orientation": "v",
         "showlegend": true,
         "type": "scatter",
         "x": [
          74,
          8.7
         ],
         "xaxis": "x",
         "y": [
          1,
          1
         ],
         "yaxis": "y"
        },
        {
         "hovertemplate": "Star color=yellow-white<br>Luminosity (L/Lo)=%{marker.size}<br>Stars=%{y}<extra></extra>",
         "legendgroup": "yellow-white",
         "marker": {
          "color": "#FFFFE0",
          "size": [
           0.81,
           1.43,
           1.35,
           1.357,
           0.819,
           0.59,
           7.92,
           9.25
          ],
          "sizemode": "area",
          "sizeref": 2123.55,
          "symbol": "circle"
         },
         "mode": "markers",
         "name": "yellow-white",
         "orientation": "v",
         "showlegend": true,
         "type": "scatter",
         "x": [
          0.81,
          1.43,
          1.35,
          1.357,
          0.819,
          0.59,
          7.92,
          9.25
         ],
         "xaxis": "x",
         "y": [
          1,
          1,
          1,
          1,
          1,
          1,
          1,
          1
         ],
         "yaxis": "y"
        },
        {
         "hovertemplate": "Star color=Orange<br>Luminosity (L/Lo)=%{marker.size}<br>Stars=%{y}<extra></extra>",
         "legendgroup": "Orange",
         "marker": {
          "color": "orange",
          "size": [
           550000,
           630000
          ],
          "sizemode": "area",
          "sizeref": 2123.55,
          "symbol": "circle"
         },
         "mode": "markers",
         "name": "Orange",
         "orientation": "v",
         "showlegend": true,
         "type": "scatter",
         "x": [
          550000,
          630000
         ],
         "xaxis": "x",
         "y": [
          1,
          1
         ],
         "yaxis": "y"
        },
        {
         "hovertemplate": "Star color=White-Yellow<br>Luminosity (L/Lo)=%{marker.size}<br>Stars=%{y}<extra></extra>",
         "legendgroup": "White-Yellow",
         "marker": {
          "color": "#FFFACD",
          "size": [
           0.00029
          ],
          "sizemode": "area",
          "sizeref": 2123.55,
          "symbol": "circle"
         },
         "mode": "markers",
         "name": "White-Yellow",
         "orientation": "v",
         "showlegend": true,
         "type": "scatter",
         "x": [
          0.00029
         ],
         "xaxis": "x",
         "y": [
          1
         ],
         "yaxis": "y"
        },
        {
         "hovertemplate": "Star color=white<br>Luminosity (L/Lo)=%{marker.size}<br>Stars=%{y}<extra></extra>",
         "legendgroup": "white",
         "marker": {
          "color": "#00cc96",
          "size": [
           0.00056,
           0.00018,
           0.00011
          ],
          "sizemode": "area",
          "sizeref": 2123.55,
          "symbol": "circle"
         },
         "mode": "markers",
         "name": "white",
         "orientation": "v",
         "showlegend": true,
         "type": "scatter",
         "x": [
          0.00056,
          0.00018,
          0.00011
         ],
         "xaxis": "x",
         "y": [
          1,
          1,
          1
         ],
         "yaxis": "y"
        },
        {
         "hovertemplate": "Star color=Blue <br>Luminosity (L/Lo)=%{marker.size}<br>Stars=%{y}<extra></extra>",
         "legendgroup": "Blue ",
         "marker": {
          "color": "#ab63fa",
          "size": [
           0.0011
          ],
          "sizemode": "area",
          "sizeref": 2123.55,
          "symbol": "circle"
         },
         "mode": "markers",
         "name": "Blue ",
         "orientation": "v",
         "showlegend": true,
         "type": "scatter",
         "x": [
          0.0011
         ],
         "xaxis": "x",
         "y": [
          1
         ],
         "yaxis": "y"
        },
        {
         "hovertemplate": "Star color=yellowish<br>Luminosity (L/Lo)=%{marker.size}<br>Stars=%{y}<extra></extra>",
         "legendgroup": "yellowish",
         "marker": {
          "color": "#FFA15A",
          "size": [
           0.153,
           0.085
          ],
          "sizemode": "area",
          "sizeref": 2123.55,
          "symbol": "circle"
         },
         "mode": "markers",
         "name": "yellowish",
         "orientation": "v",
         "showlegend": true,
         "type": "scatter",
         "x": [
          0.153,
          0.085
         ],
         "xaxis": "x",
         "y": [
          1,
          1
         ],
         "yaxis": "y"
        },
        {
         "hovertemplate": "Star color=Yellowish<br>Luminosity (L/Lo)=%{marker.size}<br>Stars=%{y}<extra></extra>",
         "legendgroup": "Yellowish",
         "marker": {
          "color": "#19d3f3",
          "size": [
           0.357
          ],
          "sizemode": "area",
          "sizeref": 2123.55,
          "symbol": "circle"
         },
         "mode": "markers",
         "name": "Yellowish",
         "orientation": "v",
         "showlegend": true,
         "type": "scatter",
         "x": [
          0.357
         ],
         "xaxis": "x",
         "y": [
          1
         ],
         "yaxis": "y"
        },
        {
         "hovertemplate": "Star color=Orange-Red<br>Luminosity (L/Lo)=%{marker.size}<br>Stars=%{y}<extra></extra>",
         "legendgroup": "Orange-Red",
         "marker": {
          "color": "#FF6692",
          "size": [
           0.63
          ],
          "sizemode": "area",
          "sizeref": 2123.55,
          "symbol": "circle"
         },
         "mode": "markers",
         "name": "Orange-Red",
         "orientation": "v",
         "showlegend": true,
         "type": "scatter",
         "x": [
          0.63
         ],
         "xaxis": "x",
         "y": [
          1
         ],
         "yaxis": "y"
        },
        {
         "hovertemplate": "Star color=Blue white <br>Luminosity (L/Lo)=%{marker.size}<br>Stars=%{y}<extra></extra>",
         "legendgroup": "Blue white ",
         "marker": {
          "color": "#B6E880",
          "size": [
           0.00067
          ],
          "sizemode": "area",
          "sizeref": 2123.55,
          "symbol": "circle"
         },
         "mode": "markers",
         "name": "Blue white ",
         "orientation": "v",
         "showlegend": true,
         "type": "scatter",
         "x": [
          0.00067
         ],
         "xaxis": "x",
         "y": [
          1
         ],
         "yaxis": "y"
        },
        {
         "hovertemplate": "Star color=Blue-White<br>Luminosity (L/Lo)=%{marker.size}<br>Stars=%{y}<extra></extra>",
         "legendgroup": "Blue-White",
         "marker": {
          "color": "#FF97FF",
          "size": [
           38
          ],
          "sizemode": "area",
          "sizeref": 2123.55,
          "symbol": "circle"
         },
         "mode": "markers",
         "name": "Blue-White",
         "orientation": "v",
         "showlegend": true,
         "type": "scatter",
         "x": [
          38
         ],
         "xaxis": "x",
         "y": [
          1
         ],
         "yaxis": "y"
        }
       ],
       "layout": {
        "legend": {
         "itemsizing": "constant",
         "title": {
          "text": "Star color"
         },
         "tracegroupgap": 0
        },
        "template": {
         "data": {
          "bar": [
           {
            "error_x": {
             "color": "#2a3f5f"
            },
            "error_y": {
             "color": "#2a3f5f"
            },
            "marker": {
             "line": {
              "color": "#E5ECF6",
              "width": 0.5
             },
             "pattern": {
              "fillmode": "overlay",
              "size": 10,
              "solidity": 0.2
             }
            },
            "type": "bar"
           }
          ],
          "barpolar": [
           {
            "marker": {
             "line": {
              "color": "#E5ECF6",
              "width": 0.5
             },
             "pattern": {
              "fillmode": "overlay",
              "size": 10,
              "solidity": 0.2
             }
            },
            "type": "barpolar"
           }
          ],
          "carpet": [
           {
            "aaxis": {
             "endlinecolor": "#2a3f5f",
             "gridcolor": "white",
             "linecolor": "white",
             "minorgridcolor": "white",
             "startlinecolor": "#2a3f5f"
            },
            "baxis": {
             "endlinecolor": "#2a3f5f",
             "gridcolor": "white",
             "linecolor": "white",
             "minorgridcolor": "white",
             "startlinecolor": "#2a3f5f"
            },
            "type": "carpet"
           }
          ],
          "choropleth": [
           {
            "colorbar": {
             "outlinewidth": 0,
             "ticks": ""
            },
            "type": "choropleth"
           }
          ],
          "contour": [
           {
            "colorbar": {
             "outlinewidth": 0,
             "ticks": ""
            },
            "colorscale": [
             [
              0,
              "#0d0887"
             ],
             [
              0.1111111111111111,
              "#46039f"
             ],
             [
              0.2222222222222222,
              "#7201a8"
             ],
             [
              0.3333333333333333,
              "#9c179e"
             ],
             [
              0.4444444444444444,
              "#bd3786"
             ],
             [
              0.5555555555555556,
              "#d8576b"
             ],
             [
              0.6666666666666666,
              "#ed7953"
             ],
             [
              0.7777777777777778,
              "#fb9f3a"
             ],
             [
              0.8888888888888888,
              "#fdca26"
             ],
             [
              1,
              "#f0f921"
             ]
            ],
            "type": "contour"
           }
          ],
          "contourcarpet": [
           {
            "colorbar": {
             "outlinewidth": 0,
             "ticks": ""
            },
            "type": "contourcarpet"
           }
          ],
          "heatmap": [
           {
            "colorbar": {
             "outlinewidth": 0,
             "ticks": ""
            },
            "colorscale": [
             [
              0,
              "#0d0887"
             ],
             [
              0.1111111111111111,
              "#46039f"
             ],
             [
              0.2222222222222222,
              "#7201a8"
             ],
             [
              0.3333333333333333,
              "#9c179e"
             ],
             [
              0.4444444444444444,
              "#bd3786"
             ],
             [
              0.5555555555555556,
              "#d8576b"
             ],
             [
              0.6666666666666666,
              "#ed7953"
             ],
             [
              0.7777777777777778,
              "#fb9f3a"
             ],
             [
              0.8888888888888888,
              "#fdca26"
             ],
             [
              1,
              "#f0f921"
             ]
            ],
            "type": "heatmap"
           }
          ],
          "heatmapgl": [
           {
            "colorbar": {
             "outlinewidth": 0,
             "ticks": ""
            },
            "colorscale": [
             [
              0,
              "#0d0887"
             ],
             [
              0.1111111111111111,
              "#46039f"
             ],
             [
              0.2222222222222222,
              "#7201a8"
             ],
             [
              0.3333333333333333,
              "#9c179e"
             ],
             [
              0.4444444444444444,
              "#bd3786"
             ],
             [
              0.5555555555555556,
              "#d8576b"
             ],
             [
              0.6666666666666666,
              "#ed7953"
             ],
             [
              0.7777777777777778,
              "#fb9f3a"
             ],
             [
              0.8888888888888888,
              "#fdca26"
             ],
             [
              1,
              "#f0f921"
             ]
            ],
            "type": "heatmapgl"
           }
          ],
          "histogram": [
           {
            "marker": {
             "pattern": {
              "fillmode": "overlay",
              "size": 10,
              "solidity": 0.2
             }
            },
            "type": "histogram"
           }
          ],
          "histogram2d": [
           {
            "colorbar": {
             "outlinewidth": 0,
             "ticks": ""
            },
            "colorscale": [
             [
              0,
              "#0d0887"
             ],
             [
              0.1111111111111111,
              "#46039f"
             ],
             [
              0.2222222222222222,
              "#7201a8"
             ],
             [
              0.3333333333333333,
              "#9c179e"
             ],
             [
              0.4444444444444444,
              "#bd3786"
             ],
             [
              0.5555555555555556,
              "#d8576b"
             ],
             [
              0.6666666666666666,
              "#ed7953"
             ],
             [
              0.7777777777777778,
              "#fb9f3a"
             ],
             [
              0.8888888888888888,
              "#fdca26"
             ],
             [
              1,
              "#f0f921"
             ]
            ],
            "type": "histogram2d"
           }
          ],
          "histogram2dcontour": [
           {
            "colorbar": {
             "outlinewidth": 0,
             "ticks": ""
            },
            "colorscale": [
             [
              0,
              "#0d0887"
             ],
             [
              0.1111111111111111,
              "#46039f"
             ],
             [
              0.2222222222222222,
              "#7201a8"
             ],
             [
              0.3333333333333333,
              "#9c179e"
             ],
             [
              0.4444444444444444,
              "#bd3786"
             ],
             [
              0.5555555555555556,
              "#d8576b"
             ],
             [
              0.6666666666666666,
              "#ed7953"
             ],
             [
              0.7777777777777778,
              "#fb9f3a"
             ],
             [
              0.8888888888888888,
              "#fdca26"
             ],
             [
              1,
              "#f0f921"
             ]
            ],
            "type": "histogram2dcontour"
           }
          ],
          "mesh3d": [
           {
            "colorbar": {
             "outlinewidth": 0,
             "ticks": ""
            },
            "type": "mesh3d"
           }
          ],
          "parcoords": [
           {
            "line": {
             "colorbar": {
              "outlinewidth": 0,
              "ticks": ""
             }
            },
            "type": "parcoords"
           }
          ],
          "pie": [
           {
            "automargin": true,
            "type": "pie"
           }
          ],
          "scatter": [
           {
            "fillpattern": {
             "fillmode": "overlay",
             "size": 10,
             "solidity": 0.2
            },
            "type": "scatter"
           }
          ],
          "scatter3d": [
           {
            "line": {
             "colorbar": {
              "outlinewidth": 0,
              "ticks": ""
             }
            },
            "marker": {
             "colorbar": {
              "outlinewidth": 0,
              "ticks": ""
             }
            },
            "type": "scatter3d"
           }
          ],
          "scattercarpet": [
           {
            "marker": {
             "colorbar": {
              "outlinewidth": 0,
              "ticks": ""
             }
            },
            "type": "scattercarpet"
           }
          ],
          "scattergeo": [
           {
            "marker": {
             "colorbar": {
              "outlinewidth": 0,
              "ticks": ""
             }
            },
            "type": "scattergeo"
           }
          ],
          "scattergl": [
           {
            "marker": {
             "colorbar": {
              "outlinewidth": 0,
              "ticks": ""
             }
            },
            "type": "scattergl"
           }
          ],
          "scattermapbox": [
           {
            "marker": {
             "colorbar": {
              "outlinewidth": 0,
              "ticks": ""
             }
            },
            "type": "scattermapbox"
           }
          ],
          "scatterpolar": [
           {
            "marker": {
             "colorbar": {
              "outlinewidth": 0,
              "ticks": ""
             }
            },
            "type": "scatterpolar"
           }
          ],
          "scatterpolargl": [
           {
            "marker": {
             "colorbar": {
              "outlinewidth": 0,
              "ticks": ""
             }
            },
            "type": "scatterpolargl"
           }
          ],
          "scatterternary": [
           {
            "marker": {
             "colorbar": {
              "outlinewidth": 0,
              "ticks": ""
             }
            },
            "type": "scatterternary"
           }
          ],
          "surface": [
           {
            "colorbar": {
             "outlinewidth": 0,
             "ticks": ""
            },
            "colorscale": [
             [
              0,
              "#0d0887"
             ],
             [
              0.1111111111111111,
              "#46039f"
             ],
             [
              0.2222222222222222,
              "#7201a8"
             ],
             [
              0.3333333333333333,
              "#9c179e"
             ],
             [
              0.4444444444444444,
              "#bd3786"
             ],
             [
              0.5555555555555556,
              "#d8576b"
             ],
             [
              0.6666666666666666,
              "#ed7953"
             ],
             [
              0.7777777777777778,
              "#fb9f3a"
             ],
             [
              0.8888888888888888,
              "#fdca26"
             ],
             [
              1,
              "#f0f921"
             ]
            ],
            "type": "surface"
           }
          ],
          "table": [
           {
            "cells": {
             "fill": {
              "color": "#EBF0F8"
             },
             "line": {
              "color": "white"
             }
            },
            "header": {
             "fill": {
              "color": "#C8D4E3"
             },
             "line": {
              "color": "white"
             }
            },
            "type": "table"
           }
          ]
         },
         "layout": {
          "annotationdefaults": {
           "arrowcolor": "#2a3f5f",
           "arrowhead": 0,
           "arrowwidth": 1
          },
          "autotypenumbers": "strict",
          "coloraxis": {
           "colorbar": {
            "outlinewidth": 0,
            "ticks": ""
           }
          },
          "colorscale": {
           "diverging": [
            [
             0,
             "#8e0152"
            ],
            [
             0.1,
             "#c51b7d"
            ],
            [
             0.2,
             "#de77ae"
            ],
            [
             0.3,
             "#f1b6da"
            ],
            [
             0.4,
             "#fde0ef"
            ],
            [
             0.5,
             "#f7f7f7"
            ],
            [
             0.6,
             "#e6f5d0"
            ],
            [
             0.7,
             "#b8e186"
            ],
            [
             0.8,
             "#7fbc41"
            ],
            [
             0.9,
             "#4d9221"
            ],
            [
             1,
             "#276419"
            ]
           ],
           "sequential": [
            [
             0,
             "#0d0887"
            ],
            [
             0.1111111111111111,
             "#46039f"
            ],
            [
             0.2222222222222222,
             "#7201a8"
            ],
            [
             0.3333333333333333,
             "#9c179e"
            ],
            [
             0.4444444444444444,
             "#bd3786"
            ],
            [
             0.5555555555555556,
             "#d8576b"
            ],
            [
             0.6666666666666666,
             "#ed7953"
            ],
            [
             0.7777777777777778,
             "#fb9f3a"
            ],
            [
             0.8888888888888888,
             "#fdca26"
            ],
            [
             1,
             "#f0f921"
            ]
           ],
           "sequentialminus": [
            [
             0,
             "#0d0887"
            ],
            [
             0.1111111111111111,
             "#46039f"
            ],
            [
             0.2222222222222222,
             "#7201a8"
            ],
            [
             0.3333333333333333,
             "#9c179e"
            ],
            [
             0.4444444444444444,
             "#bd3786"
            ],
            [
             0.5555555555555556,
             "#d8576b"
            ],
            [
             0.6666666666666666,
             "#ed7953"
            ],
            [
             0.7777777777777778,
             "#fb9f3a"
            ],
            [
             0.8888888888888888,
             "#fdca26"
            ],
            [
             1,
             "#f0f921"
            ]
           ]
          },
          "colorway": [
           "#636efa",
           "#EF553B",
           "#00cc96",
           "#ab63fa",
           "#FFA15A",
           "#19d3f3",
           "#FF6692",
           "#B6E880",
           "#FF97FF",
           "#FECB52"
          ],
          "font": {
           "color": "#2a3f5f"
          },
          "geo": {
           "bgcolor": "white",
           "lakecolor": "white",
           "landcolor": "#E5ECF6",
           "showlakes": true,
           "showland": true,
           "subunitcolor": "white"
          },
          "hoverlabel": {
           "align": "left"
          },
          "hovermode": "closest",
          "mapbox": {
           "style": "light"
          },
          "paper_bgcolor": "white",
          "plot_bgcolor": "#E5ECF6",
          "polar": {
           "angularaxis": {
            "gridcolor": "white",
            "linecolor": "white",
            "ticks": ""
           },
           "bgcolor": "#E5ECF6",
           "radialaxis": {
            "gridcolor": "white",
            "linecolor": "white",
            "ticks": ""
           }
          },
          "scene": {
           "xaxis": {
            "backgroundcolor": "#E5ECF6",
            "gridcolor": "white",
            "gridwidth": 2,
            "linecolor": "white",
            "showbackground": true,
            "ticks": "",
            "zerolinecolor": "white"
           },
           "yaxis": {
            "backgroundcolor": "#E5ECF6",
            "gridcolor": "white",
            "gridwidth": 2,
            "linecolor": "white",
            "showbackground": true,
            "ticks": "",
            "zerolinecolor": "white"
           },
           "zaxis": {
            "backgroundcolor": "#E5ECF6",
            "gridcolor": "white",
            "gridwidth": 2,
            "linecolor": "white",
            "showbackground": true,
            "ticks": "",
            "zerolinecolor": "white"
           }
          },
          "shapedefaults": {
           "line": {
            "color": "#2a3f5f"
           }
          },
          "ternary": {
           "aaxis": {
            "gridcolor": "white",
            "linecolor": "white",
            "ticks": ""
           },
           "baxis": {
            "gridcolor": "white",
            "linecolor": "white",
            "ticks": ""
           },
           "bgcolor": "#E5ECF6",
           "caxis": {
            "gridcolor": "white",
            "linecolor": "white",
            "ticks": ""
           }
          },
          "title": {
           "x": 0.05
          },
          "xaxis": {
           "automargin": true,
           "gridcolor": "white",
           "linecolor": "white",
           "ticks": "",
           "title": {
            "standoff": 15
           },
           "zerolinecolor": "white",
           "zerolinewidth": 2
          },
          "yaxis": {
           "automargin": true,
           "gridcolor": "white",
           "linecolor": "white",
           "ticks": "",
           "title": {
            "standoff": 15
           },
           "zerolinecolor": "white",
           "zerolinewidth": 2
          }
         }
        },
        "title": {
         "text": "Couleur des étoiles en fonction de leur luminosité"
        },
        "xaxis": {
         "anchor": "y",
         "domain": [
          0,
          1
         ],
         "title": {
          "text": "Luminosity (L/Lo)"
         }
        },
        "yaxis": {
         "anchor": "x",
         "domain": [
          0,
          1
         ],
         "title": {
          "text": "Stars"
         }
        }
       }
      }
     },
     "metadata": {},
     "output_type": "display_data"
    }
   ],
   "source": [
    "# Dictionnaire des couleurs\n",
    "color_map = {\n",
    "    'Red': 'red',\n",
    "    'Blue White': 'dodgerblue',\n",
    "    'White': 'white',\n",
    "    'Yellowish White': 'lightyellow',\n",
    "    'Orange': 'orange',\n",
    "    'Blue': 'blue',\n",
    "    'Pale yellow orange': '#FFD580',\n",
    "    'Blue-white': '#ADD8E6',\n",
    "    'Whitish': '#F5F5F5',\n",
    "    'yellow-white': '#FFFFE0',\n",
    "    'White-Yellow': '#FFFACD'\n",
    "}\n",
    "\n",
    "# Graphique avec la palette de couleurs\n",
    "fig = px.scatter(\n",
    "    stars,\n",
    "    x='Luminosity (L/Lo)',\n",
    "    y=[1] * len(star),  # Une valeur constante pour l'axe y\n",
    "    color='Star color',\n",
    "    color_discrete_map=color_map,\n",
    "    size='Luminosity (L/Lo)',\n",
    "    labels={'y': 'Stars'},\n",
    "    title='Couleur des étoiles en fonction de leur luminosité'\n",
    ")\n",
    "\n",
    "fig.show()"
   ]
  },
  {
   "cell_type": "markdown",
   "metadata": {},
   "source": [
    "Apriori, on ne peut pas identifier de pattern clair entre la couleur et la luminosité des étoiles. En effet, nous verrons par la suite que la couleure de l'étoile est corrélée à la température, et non pas à la luminosité."
   ]
  },
  {
   "cell_type": "code",
   "execution_count": 15,
   "metadata": {},
   "outputs": [
    {
     "data": {
      "application/vnd.plotly.v1+json": {
       "config": {
        "plotlyServerURL": "https://plot.ly"
       },
       "data": [
        {
         "hovertemplate": "Couleur des étoiles=Red<br>Température (K)=%{x}<br>y=%{y}<extra></extra>",
         "legendgroup": "Red",
         "marker": {
          "color": "red",
          "symbol": "circle"
         },
         "mode": "markers",
         "name": "Red",
         "orientation": "v",
         "showlegend": true,
         "type": "scatter",
         "x": [
          3068,
          3042,
          2600,
          2800,
          1939,
          2840,
          2637,
          2600,
          2650,
          2700,
          3600,
          3129,
          3134,
          3628,
          2650,
          3340,
          2799,
          3692,
          3192,
          3441,
          3826,
          3365,
          3270,
          3200,
          3008,
          3600,
          3575,
          3574,
          3625,
          3490,
          3750,
          3834,
          3650,
          3450,
          3660,
          3450,
          3752,
          3535,
          3341,
          3432,
          2983,
          2835,
          2935,
          3295,
          2945,
          2817,
          2774,
          2871,
          3345,
          3607,
          3304,
          3150,
          3550,
          3180,
          2890,
          3342,
          2621,
          3158,
          3459,
          3605,
          3615,
          3399,
          3610,
          3553,
          4015,
          3625,
          6850,
          3780,
          3323,
          3531,
          3218,
          3146,
          3511,
          3225,
          2935,
          2861,
          2856,
          2731,
          3095,
          3607,
          3100,
          2989,
          3542,
          3243,
          3091,
          3598,
          3324,
          3541,
          3570,
          3500,
          3600,
          3614,
          2831,
          2914,
          3419,
          3218,
          3453,
          2889,
          2968,
          3484,
          2778,
          3523,
          3462,
          3257,
          2994,
          3212,
          3523,
          3598,
          3142,
          3496,
          3324,
          3463
         ],
         "xaxis": "x",
         "y": [
          1,
          1,
          1,
          1,
          1,
          1,
          1,
          1,
          1,
          1,
          1,
          1,
          1,
          1,
          1,
          1,
          1,
          1,
          1,
          1,
          1,
          1,
          1,
          1,
          1,
          1,
          1,
          1,
          1,
          1,
          1,
          1,
          1,
          1,
          1,
          1,
          1,
          1,
          1,
          1,
          1,
          1,
          1,
          1,
          1,
          1,
          1,
          1,
          1,
          1,
          1,
          1,
          1,
          1,
          1,
          1,
          1,
          1,
          1,
          1,
          1,
          1,
          1,
          1,
          1,
          1,
          1,
          1,
          1,
          1,
          1,
          1,
          1,
          1,
          1,
          1,
          1,
          1,
          1,
          1,
          1,
          1,
          1,
          1,
          1,
          1,
          1,
          1,
          1,
          1,
          1,
          1,
          1,
          1,
          1,
          1,
          1,
          1,
          1,
          1,
          1,
          1,
          1,
          1,
          1,
          1,
          1,
          1,
          1,
          1,
          1,
          1
         ],
         "yaxis": "y"
        },
        {
         "hovertemplate": "Couleur des étoiles=Blue White<br>Température (K)=%{x}<br>y=%{y}<extra></extra>",
         "legendgroup": "Blue White",
         "marker": {
          "color": "lightblue",
          "symbol": "circle"
         },
         "mode": "markers",
         "name": "Blue White",
         "orientation": "v",
         "showlegend": true,
         "type": "scatter",
         "x": [
          25000,
          16500,
          17200,
          14100,
          9675,
          12010,
          10980,
          13420,
          14520,
          12984
         ],
         "xaxis": "x",
         "y": [
          1,
          1,
          1,
          1,
          1,
          1,
          1,
          1,
          1,
          1
         ],
         "yaxis": "y"
        },
        {
         "hovertemplate": "Couleur des étoiles=White<br>Température (K)=%{x}<br>y=%{y}<extra></extra>",
         "legendgroup": "White",
         "marker": {
          "color": "white",
          "symbol": "circle"
         },
         "mode": "markers",
         "name": "White",
         "orientation": "v",
         "showlegend": true,
         "type": "scatter",
         "x": [
          7740,
          7220,
          8500,
          10574,
          7723,
          8829,
          9235
         ],
         "xaxis": "x",
         "y": [
          1,
          1,
          1,
          1,
          1,
          1,
          1
         ],
         "yaxis": "y"
        },
        {
         "hovertemplate": "Couleur des étoiles=Yellowish White<br>Température (K)=%{x}<br>y=%{y}<extra></extra>",
         "legendgroup": "Yellowish White",
         "marker": {
          "color": "#00cc96",
          "symbol": "circle"
         },
         "mode": "markers",
         "name": "Yellowish White",
         "orientation": "v",
         "showlegend": true,
         "type": "scatter",
         "x": [
          12990,
          7700,
          11790
         ],
         "xaxis": "x",
         "y": [
          1,
          1,
          1
         ],
         "yaxis": "y"
        },
        {
         "hovertemplate": "Couleur des étoiles=Blue white<br>Température (K)=%{x}<br>y=%{y}<extra></extra>",
         "legendgroup": "Blue white",
         "marker": {
          "color": "#ab63fa",
          "symbol": "circle"
         },
         "mode": "markers",
         "name": "Blue white",
         "orientation": "v",
         "showlegend": true,
         "type": "scatter",
         "x": [
          8570,
          8924,
          12912
         ],
         "xaxis": "x",
         "y": [
          1,
          1,
          1
         ],
         "yaxis": "y"
        },
        {
         "hovertemplate": "Couleur des étoiles=Pale yellow orange<br>Température (K)=%{x}<br>y=%{y}<extra></extra>",
         "legendgroup": "Pale yellow orange",
         "marker": {
          "color": "#FFD580",
          "symbol": "circle"
         },
         "mode": "markers",
         "name": "Pale yellow orange",
         "orientation": "v",
         "showlegend": true,
         "type": "scatter",
         "x": [
          7230
         ],
         "xaxis": "x",
         "y": [
          1
         ],
         "yaxis": "y"
        },
        {
         "hovertemplate": "Couleur des étoiles=Blue<br>Température (K)=%{x}<br>y=%{y}<extra></extra>",
         "legendgroup": "Blue",
         "marker": {
          "color": "blue",
          "symbol": "circle"
         },
         "mode": "markers",
         "name": "Blue",
         "orientation": "v",
         "showlegend": true,
         "type": "scatter",
         "x": [
          39000,
          33750,
          36108,
          33300,
          40000,
          23000,
          17120,
          11096,
          14245,
          24630,
          12893,
          24345,
          33421,
          21020,
          18290,
          37800,
          25390,
          11567,
          12675,
          5752,
          8927,
          7282,
          19923,
          26373,
          17383,
          9373,
          26000,
          18000,
          16790,
          15680,
          14982,
          13340,
          18340,
          19920,
          24020,
          23092,
          17920,
          19360,
          34190,
          32460,
          23678,
          12749,
          9383,
          23440,
          16787,
          18734,
          9892,
          10930,
          23095,
          21738,
          38234,
          32489,
          38940,
          30839,
          37882
         ],
         "xaxis": "x",
         "y": [
          1,
          1,
          1,
          1,
          1,
          1,
          1,
          1,
          1,
          1,
          1,
          1,
          1,
          1,
          1,
          1,
          1,
          1,
          1,
          1,
          1,
          1,
          1,
          1,
          1,
          1,
          1,
          1,
          1,
          1,
          1,
          1,
          1,
          1,
          1,
          1,
          1,
          1,
          1,
          1,
          1,
          1,
          1,
          1,
          1,
          1,
          1,
          1,
          1,
          1,
          1,
          1,
          1,
          1,
          1
         ],
         "yaxis": "y"
        },
        {
         "hovertemplate": "Couleur des étoiles=Blue-white<br>Température (K)=%{x}<br>y=%{y}<extra></extra>",
         "legendgroup": "Blue-white",
         "marker": {
          "color": "#ADD8E6",
          "symbol": "circle"
         },
         "mode": "markers",
         "name": "Blue-white",
         "orientation": "v",
         "showlegend": true,
         "type": "scatter",
         "x": [
          30000,
          15276,
          9030,
          11250,
          12098,
          29560,
          14060,
          16390,
          25070,
          28700,
          26140,
          20120,
          13023,
          11000,
          12100,
          24490,
          22350,
          10012,
          13089,
          22012,
          9320,
          19400,
          17140,
          24145,
          27739,
          21904
         ],
         "xaxis": "x",
         "y": [
          1,
          1,
          1,
          1,
          1,
          1,
          1,
          1,
          1,
          1,
          1,
          1,
          1,
          1,
          1,
          1,
          1,
          1,
          1,
          1,
          1,
          1,
          1,
          1,
          1,
          1
         ],
         "yaxis": "y"
        },
        {
         "hovertemplate": "Couleur des étoiles=Whitish<br>Température (K)=%{x}<br>y=%{y}<extra></extra>",
         "legendgroup": "Whitish",
         "marker": {
          "color": "#F5F5F5",
          "symbol": "circle"
         },
         "mode": "markers",
         "name": "Whitish",
         "orientation": "v",
         "showlegend": true,
         "type": "scatter",
         "x": [
          9700,
          8052
         ],
         "xaxis": "x",
         "y": [
          1,
          1
         ],
         "yaxis": "y"
        },
        {
         "hovertemplate": "Couleur des étoiles=yellow-white<br>Température (K)=%{x}<br>y=%{y}<extra></extra>",
         "legendgroup": "yellow-white",
         "marker": {
          "color": "#FFA15A",
          "symbol": "circle"
         },
         "mode": "markers",
         "name": "yellow-white",
         "orientation": "v",
         "showlegend": true,
         "type": "scatter",
         "x": [
          5800,
          6757,
          6380,
          5936,
          5587,
          5300,
          7720,
          8250
         ],
         "xaxis": "x",
         "y": [
          1,
          1,
          1,
          1,
          1,
          1,
          1,
          1
         ],
         "yaxis": "y"
        },
        {
         "hovertemplate": "Couleur des étoiles=Orange<br>Température (K)=%{x}<br>y=%{y}<extra></extra>",
         "legendgroup": "Orange",
         "marker": {
          "color": "orange",
          "symbol": "circle"
         },
         "mode": "markers",
         "name": "Orange",
         "orientation": "v",
         "showlegend": true,
         "type": "scatter",
         "x": [
          3749,
          4287
         ],
         "xaxis": "x",
         "y": [
          1,
          1
         ],
         "yaxis": "y"
        },
        {
         "hovertemplate": "Couleur des étoiles=White-Yellow<br>Température (K)=%{x}<br>y=%{y}<extra></extra>",
         "legendgroup": "White-Yellow",
         "marker": {
          "color": "#FFFACD",
          "symbol": "circle"
         },
         "mode": "markers",
         "name": "White-Yellow",
         "orientation": "v",
         "showlegend": true,
         "type": "scatter",
         "x": [
          7100
         ],
         "xaxis": "x",
         "y": [
          1
         ],
         "yaxis": "y"
        },
        {
         "hovertemplate": "Couleur des étoiles=white<br>Température (K)=%{x}<br>y=%{y}<extra></extra>",
         "legendgroup": "white",
         "marker": {
          "color": "#19d3f3",
          "symbol": "circle"
         },
         "mode": "markers",
         "name": "white",
         "orientation": "v",
         "showlegend": true,
         "type": "scatter",
         "x": [
          8930,
          13720,
          14732
         ],
         "xaxis": "x",
         "y": [
          1,
          1,
          1
         ],
         "yaxis": "y"
        },
        {
         "hovertemplate": "Couleur des étoiles=Blue <br>Température (K)=%{x}<br>y=%{y}<extra></extra>",
         "legendgroup": "Blue ",
         "marker": {
          "color": "#FF6692",
          "symbol": "circle"
         },
         "mode": "markers",
         "name": "Blue ",
         "orientation": "v",
         "showlegend": true,
         "type": "scatter",
         "x": [
          19860
         ],
         "xaxis": "x",
         "y": [
          1
         ],
         "yaxis": "y"
        },
        {
         "hovertemplate": "Couleur des étoiles=yellowish<br>Température (K)=%{x}<br>y=%{y}<extra></extra>",
         "legendgroup": "yellowish",
         "marker": {
          "color": "#B6E880",
          "symbol": "circle"
         },
         "mode": "markers",
         "name": "yellowish",
         "orientation": "v",
         "showlegend": true,
         "type": "scatter",
         "x": [
          4526,
          4077
         ],
         "xaxis": "x",
         "y": [
          1,
          1
         ],
         "yaxis": "y"
        },
        {
         "hovertemplate": "Couleur des étoiles=Yellowish<br>Température (K)=%{x}<br>y=%{y}<extra></extra>",
         "legendgroup": "Yellowish",
         "marker": {
          "color": "#FFFF00",
          "symbol": "circle"
         },
         "mode": "markers",
         "name": "Yellowish",
         "orientation": "v",
         "showlegend": true,
         "type": "scatter",
         "x": [
          4980
         ],
         "xaxis": "x",
         "y": [
          1
         ],
         "yaxis": "y"
        },
        {
         "hovertemplate": "Couleur des étoiles=Orange-Red<br>Température (K)=%{x}<br>y=%{y}<extra></extra>",
         "legendgroup": "Orange-Red",
         "marker": {
          "color": "#FF4500",
          "symbol": "circle"
         },
         "mode": "markers",
         "name": "Orange-Red",
         "orientation": "v",
         "showlegend": true,
         "type": "scatter",
         "x": [
          5112
         ],
         "xaxis": "x",
         "y": [
          1
         ],
         "yaxis": "y"
        },
        {
         "hovertemplate": "Couleur des étoiles=Blue white <br>Température (K)=%{x}<br>y=%{y}<extra></extra>",
         "legendgroup": "Blue white ",
         "marker": {
          "color": "#FF97FF",
          "symbol": "circle"
         },
         "mode": "markers",
         "name": "Blue white ",
         "orientation": "v",
         "showlegend": true,
         "type": "scatter",
         "x": [
          11900
         ],
         "xaxis": "x",
         "y": [
          1
         ],
         "yaxis": "y"
        },
        {
         "hovertemplate": "Couleur des étoiles=Blue-White<br>Température (K)=%{x}<br>y=%{y}<extra></extra>",
         "legendgroup": "Blue-White",
         "marker": {
          "color": "#FECB52",
          "symbol": "circle"
         },
         "mode": "markers",
         "name": "Blue-White",
         "orientation": "v",
         "showlegend": true,
         "type": "scatter",
         "x": [
          8945
         ],
         "xaxis": "x",
         "y": [
          1
         ],
         "yaxis": "y"
        }
       ],
       "layout": {
        "legend": {
         "title": {
          "text": "Couleur des étoiles"
         },
         "tracegroupgap": 0
        },
        "template": {
         "data": {
          "bar": [
           {
            "error_x": {
             "color": "#2a3f5f"
            },
            "error_y": {
             "color": "#2a3f5f"
            },
            "marker": {
             "line": {
              "color": "white",
              "width": 0.5
             },
             "pattern": {
              "fillmode": "overlay",
              "size": 10,
              "solidity": 0.2
             }
            },
            "type": "bar"
           }
          ],
          "barpolar": [
           {
            "marker": {
             "line": {
              "color": "white",
              "width": 0.5
             },
             "pattern": {
              "fillmode": "overlay",
              "size": 10,
              "solidity": 0.2
             }
            },
            "type": "barpolar"
           }
          ],
          "carpet": [
           {
            "aaxis": {
             "endlinecolor": "#2a3f5f",
             "gridcolor": "#C8D4E3",
             "linecolor": "#C8D4E3",
             "minorgridcolor": "#C8D4E3",
             "startlinecolor": "#2a3f5f"
            },
            "baxis": {
             "endlinecolor": "#2a3f5f",
             "gridcolor": "#C8D4E3",
             "linecolor": "#C8D4E3",
             "minorgridcolor": "#C8D4E3",
             "startlinecolor": "#2a3f5f"
            },
            "type": "carpet"
           }
          ],
          "choropleth": [
           {
            "colorbar": {
             "outlinewidth": 0,
             "ticks": ""
            },
            "type": "choropleth"
           }
          ],
          "contour": [
           {
            "colorbar": {
             "outlinewidth": 0,
             "ticks": ""
            },
            "colorscale": [
             [
              0,
              "#0d0887"
             ],
             [
              0.1111111111111111,
              "#46039f"
             ],
             [
              0.2222222222222222,
              "#7201a8"
             ],
             [
              0.3333333333333333,
              "#9c179e"
             ],
             [
              0.4444444444444444,
              "#bd3786"
             ],
             [
              0.5555555555555556,
              "#d8576b"
             ],
             [
              0.6666666666666666,
              "#ed7953"
             ],
             [
              0.7777777777777778,
              "#fb9f3a"
             ],
             [
              0.8888888888888888,
              "#fdca26"
             ],
             [
              1,
              "#f0f921"
             ]
            ],
            "type": "contour"
           }
          ],
          "contourcarpet": [
           {
            "colorbar": {
             "outlinewidth": 0,
             "ticks": ""
            },
            "type": "contourcarpet"
           }
          ],
          "heatmap": [
           {
            "colorbar": {
             "outlinewidth": 0,
             "ticks": ""
            },
            "colorscale": [
             [
              0,
              "#0d0887"
             ],
             [
              0.1111111111111111,
              "#46039f"
             ],
             [
              0.2222222222222222,
              "#7201a8"
             ],
             [
              0.3333333333333333,
              "#9c179e"
             ],
             [
              0.4444444444444444,
              "#bd3786"
             ],
             [
              0.5555555555555556,
              "#d8576b"
             ],
             [
              0.6666666666666666,
              "#ed7953"
             ],
             [
              0.7777777777777778,
              "#fb9f3a"
             ],
             [
              0.8888888888888888,
              "#fdca26"
             ],
             [
              1,
              "#f0f921"
             ]
            ],
            "type": "heatmap"
           }
          ],
          "heatmapgl": [
           {
            "colorbar": {
             "outlinewidth": 0,
             "ticks": ""
            },
            "colorscale": [
             [
              0,
              "#0d0887"
             ],
             [
              0.1111111111111111,
              "#46039f"
             ],
             [
              0.2222222222222222,
              "#7201a8"
             ],
             [
              0.3333333333333333,
              "#9c179e"
             ],
             [
              0.4444444444444444,
              "#bd3786"
             ],
             [
              0.5555555555555556,
              "#d8576b"
             ],
             [
              0.6666666666666666,
              "#ed7953"
             ],
             [
              0.7777777777777778,
              "#fb9f3a"
             ],
             [
              0.8888888888888888,
              "#fdca26"
             ],
             [
              1,
              "#f0f921"
             ]
            ],
            "type": "heatmapgl"
           }
          ],
          "histogram": [
           {
            "marker": {
             "pattern": {
              "fillmode": "overlay",
              "size": 10,
              "solidity": 0.2
             }
            },
            "type": "histogram"
           }
          ],
          "histogram2d": [
           {
            "colorbar": {
             "outlinewidth": 0,
             "ticks": ""
            },
            "colorscale": [
             [
              0,
              "#0d0887"
             ],
             [
              0.1111111111111111,
              "#46039f"
             ],
             [
              0.2222222222222222,
              "#7201a8"
             ],
             [
              0.3333333333333333,
              "#9c179e"
             ],
             [
              0.4444444444444444,
              "#bd3786"
             ],
             [
              0.5555555555555556,
              "#d8576b"
             ],
             [
              0.6666666666666666,
              "#ed7953"
             ],
             [
              0.7777777777777778,
              "#fb9f3a"
             ],
             [
              0.8888888888888888,
              "#fdca26"
             ],
             [
              1,
              "#f0f921"
             ]
            ],
            "type": "histogram2d"
           }
          ],
          "histogram2dcontour": [
           {
            "colorbar": {
             "outlinewidth": 0,
             "ticks": ""
            },
            "colorscale": [
             [
              0,
              "#0d0887"
             ],
             [
              0.1111111111111111,
              "#46039f"
             ],
             [
              0.2222222222222222,
              "#7201a8"
             ],
             [
              0.3333333333333333,
              "#9c179e"
             ],
             [
              0.4444444444444444,
              "#bd3786"
             ],
             [
              0.5555555555555556,
              "#d8576b"
             ],
             [
              0.6666666666666666,
              "#ed7953"
             ],
             [
              0.7777777777777778,
              "#fb9f3a"
             ],
             [
              0.8888888888888888,
              "#fdca26"
             ],
             [
              1,
              "#f0f921"
             ]
            ],
            "type": "histogram2dcontour"
           }
          ],
          "mesh3d": [
           {
            "colorbar": {
             "outlinewidth": 0,
             "ticks": ""
            },
            "type": "mesh3d"
           }
          ],
          "parcoords": [
           {
            "line": {
             "colorbar": {
              "outlinewidth": 0,
              "ticks": ""
             }
            },
            "type": "parcoords"
           }
          ],
          "pie": [
           {
            "automargin": true,
            "type": "pie"
           }
          ],
          "scatter": [
           {
            "fillpattern": {
             "fillmode": "overlay",
             "size": 10,
             "solidity": 0.2
            },
            "type": "scatter"
           }
          ],
          "scatter3d": [
           {
            "line": {
             "colorbar": {
              "outlinewidth": 0,
              "ticks": ""
             }
            },
            "marker": {
             "colorbar": {
              "outlinewidth": 0,
              "ticks": ""
             }
            },
            "type": "scatter3d"
           }
          ],
          "scattercarpet": [
           {
            "marker": {
             "colorbar": {
              "outlinewidth": 0,
              "ticks": ""
             }
            },
            "type": "scattercarpet"
           }
          ],
          "scattergeo": [
           {
            "marker": {
             "colorbar": {
              "outlinewidth": 0,
              "ticks": ""
             }
            },
            "type": "scattergeo"
           }
          ],
          "scattergl": [
           {
            "marker": {
             "colorbar": {
              "outlinewidth": 0,
              "ticks": ""
             }
            },
            "type": "scattergl"
           }
          ],
          "scattermapbox": [
           {
            "marker": {
             "colorbar": {
              "outlinewidth": 0,
              "ticks": ""
             }
            },
            "type": "scattermapbox"
           }
          ],
          "scatterpolar": [
           {
            "marker": {
             "colorbar": {
              "outlinewidth": 0,
              "ticks": ""
             }
            },
            "type": "scatterpolar"
           }
          ],
          "scatterpolargl": [
           {
            "marker": {
             "colorbar": {
              "outlinewidth": 0,
              "ticks": ""
             }
            },
            "type": "scatterpolargl"
           }
          ],
          "scatterternary": [
           {
            "marker": {
             "colorbar": {
              "outlinewidth": 0,
              "ticks": ""
             }
            },
            "type": "scatterternary"
           }
          ],
          "surface": [
           {
            "colorbar": {
             "outlinewidth": 0,
             "ticks": ""
            },
            "colorscale": [
             [
              0,
              "#0d0887"
             ],
             [
              0.1111111111111111,
              "#46039f"
             ],
             [
              0.2222222222222222,
              "#7201a8"
             ],
             [
              0.3333333333333333,
              "#9c179e"
             ],
             [
              0.4444444444444444,
              "#bd3786"
             ],
             [
              0.5555555555555556,
              "#d8576b"
             ],
             [
              0.6666666666666666,
              "#ed7953"
             ],
             [
              0.7777777777777778,
              "#fb9f3a"
             ],
             [
              0.8888888888888888,
              "#fdca26"
             ],
             [
              1,
              "#f0f921"
             ]
            ],
            "type": "surface"
           }
          ],
          "table": [
           {
            "cells": {
             "fill": {
              "color": "#EBF0F8"
             },
             "line": {
              "color": "white"
             }
            },
            "header": {
             "fill": {
              "color": "#C8D4E3"
             },
             "line": {
              "color": "white"
             }
            },
            "type": "table"
           }
          ]
         },
         "layout": {
          "annotationdefaults": {
           "arrowcolor": "#2a3f5f",
           "arrowhead": 0,
           "arrowwidth": 1
          },
          "autotypenumbers": "strict",
          "coloraxis": {
           "colorbar": {
            "outlinewidth": 0,
            "ticks": ""
           }
          },
          "colorscale": {
           "diverging": [
            [
             0,
             "#8e0152"
            ],
            [
             0.1,
             "#c51b7d"
            ],
            [
             0.2,
             "#de77ae"
            ],
            [
             0.3,
             "#f1b6da"
            ],
            [
             0.4,
             "#fde0ef"
            ],
            [
             0.5,
             "#f7f7f7"
            ],
            [
             0.6,
             "#e6f5d0"
            ],
            [
             0.7,
             "#b8e186"
            ],
            [
             0.8,
             "#7fbc41"
            ],
            [
             0.9,
             "#4d9221"
            ],
            [
             1,
             "#276419"
            ]
           ],
           "sequential": [
            [
             0,
             "#0d0887"
            ],
            [
             0.1111111111111111,
             "#46039f"
            ],
            [
             0.2222222222222222,
             "#7201a8"
            ],
            [
             0.3333333333333333,
             "#9c179e"
            ],
            [
             0.4444444444444444,
             "#bd3786"
            ],
            [
             0.5555555555555556,
             "#d8576b"
            ],
            [
             0.6666666666666666,
             "#ed7953"
            ],
            [
             0.7777777777777778,
             "#fb9f3a"
            ],
            [
             0.8888888888888888,
             "#fdca26"
            ],
            [
             1,
             "#f0f921"
            ]
           ],
           "sequentialminus": [
            [
             0,
             "#0d0887"
            ],
            [
             0.1111111111111111,
             "#46039f"
            ],
            [
             0.2222222222222222,
             "#7201a8"
            ],
            [
             0.3333333333333333,
             "#9c179e"
            ],
            [
             0.4444444444444444,
             "#bd3786"
            ],
            [
             0.5555555555555556,
             "#d8576b"
            ],
            [
             0.6666666666666666,
             "#ed7953"
            ],
            [
             0.7777777777777778,
             "#fb9f3a"
            ],
            [
             0.8888888888888888,
             "#fdca26"
            ],
            [
             1,
             "#f0f921"
            ]
           ]
          },
          "colorway": [
           "#636efa",
           "#EF553B",
           "#00cc96",
           "#ab63fa",
           "#FFA15A",
           "#19d3f3",
           "#FF6692",
           "#B6E880",
           "#FF97FF",
           "#FECB52"
          ],
          "font": {
           "color": "#2a3f5f"
          },
          "geo": {
           "bgcolor": "white",
           "lakecolor": "white",
           "landcolor": "white",
           "showlakes": true,
           "showland": true,
           "subunitcolor": "#C8D4E3"
          },
          "hoverlabel": {
           "align": "left"
          },
          "hovermode": "closest",
          "mapbox": {
           "style": "light"
          },
          "paper_bgcolor": "white",
          "plot_bgcolor": "white",
          "polar": {
           "angularaxis": {
            "gridcolor": "#EBF0F8",
            "linecolor": "#EBF0F8",
            "ticks": ""
           },
           "bgcolor": "white",
           "radialaxis": {
            "gridcolor": "#EBF0F8",
            "linecolor": "#EBF0F8",
            "ticks": ""
           }
          },
          "scene": {
           "xaxis": {
            "backgroundcolor": "white",
            "gridcolor": "#DFE8F3",
            "gridwidth": 2,
            "linecolor": "#EBF0F8",
            "showbackground": true,
            "ticks": "",
            "zerolinecolor": "#EBF0F8"
           },
           "yaxis": {
            "backgroundcolor": "white",
            "gridcolor": "#DFE8F3",
            "gridwidth": 2,
            "linecolor": "#EBF0F8",
            "showbackground": true,
            "ticks": "",
            "zerolinecolor": "#EBF0F8"
           },
           "zaxis": {
            "backgroundcolor": "white",
            "gridcolor": "#DFE8F3",
            "gridwidth": 2,
            "linecolor": "#EBF0F8",
            "showbackground": true,
            "ticks": "",
            "zerolinecolor": "#EBF0F8"
           }
          },
          "shapedefaults": {
           "line": {
            "color": "#2a3f5f"
           }
          },
          "ternary": {
           "aaxis": {
            "gridcolor": "#DFE8F3",
            "linecolor": "#A2B1C6",
            "ticks": ""
           },
           "baxis": {
            "gridcolor": "#DFE8F3",
            "linecolor": "#A2B1C6",
            "ticks": ""
           },
           "bgcolor": "white",
           "caxis": {
            "gridcolor": "#DFE8F3",
            "linecolor": "#A2B1C6",
            "ticks": ""
           }
          },
          "title": {
           "x": 0.05
          },
          "xaxis": {
           "automargin": true,
           "gridcolor": "#EBF0F8",
           "linecolor": "#EBF0F8",
           "ticks": "",
           "title": {
            "standoff": 15
           },
           "zerolinecolor": "#EBF0F8",
           "zerolinewidth": 2
          },
          "yaxis": {
           "automargin": true,
           "gridcolor": "#EBF0F8",
           "linecolor": "#EBF0F8",
           "ticks": "",
           "title": {
            "standoff": 15
           },
           "zerolinecolor": "#EBF0F8",
           "zerolinewidth": 2
          }
         }
        },
        "title": {
         "text": "Couleur des étoiles en fonction de leur température"
        },
        "xaxis": {
         "anchor": "y",
         "domain": [
          0,
          1
         ],
         "title": {
          "text": "Température (K)"
         }
        },
        "yaxis": {
         "anchor": "x",
         "domain": [
          0,
          1
         ],
         "title": {
          "text": "y"
         },
         "visible": false
        }
       }
      }
     },
     "metadata": {},
     "output_type": "display_data"
    }
   ],
   "source": [
    "# Dictionnaire des couleurs\n",
    "color_map = {\n",
    "    'Red': 'red',\n",
    "    'Blue': 'blue',\n",
    "    'White': 'white',\n",
    "    'Orange': 'orange',\n",
    "    'Yellow': 'yellow',\n",
    "    'Blue White': 'lightblue',\n",
    "    'Blue-white': '#ADD8E6',\n",
    "    'Orange-Red': '#FF4500',\n",
    "    'White-Yellow': '#FFFACD',\n",
    "    'Yellowish': '#FFFF00',\n",
    "    'Pale yellow orange': '#FFD580',\n",
    "    'Whitish': '#F5F5F5'\n",
    "}\n",
    "\n",
    "# Créer le graphique de dispersion avec les couleurs personnalisées\n",
    "fig = px.scatter(\n",
    "    stars,\n",
    "    x='Temperature (K)',\n",
    "    y=[1] * len(star),  # Valeur constante pour l'axe des ordonnées\n",
    "    color='Star color',\n",
    "    color_discrete_map=color_map,\n",
    "    title='Couleur des étoiles en fonction de leur température',\n",
    "    labels={'Temperature (K)': 'Température (K)', 'Star color': 'Couleur des étoiles'},\n",
    "    template='plotly_white'\n",
    ")\n",
    "\n",
    "# Modifier l'apparence pour rendre le graphe plus intuitif\n",
    "fig.update_yaxes(visible=False)  # Masquer l'axe des ordonnées\n",
    "\n",
    "# Afficher le graphique\n",
    "fig.show()"
   ]
  },
  {
   "cell_type": "markdown",
   "metadata": {},
   "source": [
    "On observe que les étoiles de température plus basse tendent à être rouges ou oranges, correspondant aux étoiles plus froides. À mesure que la température augmente, les couleurs des étoiles se déplacent vers le bleu et le blanc, ce qui est caractéristique des étoiles plus chaudes. Cette transition confirme la relation bien établie entre la couleur et la température des étoiles, où des températures plus élevées entraînent un spectre plus bleu. Cela met en évidence les variations spectrales selon l'intensité de la chaleur des étoiles."
   ]
  },
  {
   "cell_type": "code",
   "execution_count": 16,
   "metadata": {},
   "outputs": [
    {
     "data": {
      "application/vnd.plotly.v1+json": {
       "config": {
        "plotlyServerURL": "https://plot.ly"
       },
       "data": [
        {
         "hovertemplate": "Star category=Brown Dwarf<br>Absolute magnitude (Mv)=%{x}<br>Radius (R/Ro)=%{y}<extra></extra>",
         "legendgroup": "Brown Dwarf",
         "marker": {
          "color": "#B6E880",
          "symbol": "circle"
         },
         "mode": "markers",
         "name": "Brown Dwarf",
         "orientation": "v",
         "showlegend": true,
         "type": "scatter",
         "x": [
          16.12,
          16.6,
          18.7,
          16.65,
          20.06,
          16.98,
          17.22,
          17.4,
          17.45,
          16.05,
          16.23,
          16.94,
          16.09,
          16.96,
          18.89,
          17.13,
          18.34,
          16.45,
          17.39,
          19.43,
          17.16,
          19.94,
          20.02,
          16.92,
          17.12,
          19.63,
          16.88,
          16.71,
          19.56,
          18.09,
          16.21,
          18.39,
          17.56,
          17.34,
          17.08,
          16.93,
          17.45,
          16.67,
          19.45,
          16.35
         ],
         "xaxis": "x",
         "y": [
          0.17,
          0.1542,
          0.102,
          0.16,
          0.103,
          0.11,
          0.127,
          0.096,
          0.11,
          0.13,
          0.057,
          0.19,
          0.094,
          0.0918,
          0.116,
          0.132,
          0.093,
          0.0911,
          0.118,
          0.12,
          0.0912,
          0.0976,
          0.11,
          0.0932,
          0.109,
          0.121,
          0.0932,
          0.0899,
          0.0782,
          0.0856,
          0.0915,
          0.116,
          0.126,
          0.0987,
          0.0773,
          0.0973,
          0.119,
          0.0998,
          0.112,
          0.129
         ],
         "yaxis": "y"
        },
        {
         "hovertemplate": "Star category=Red Dwarf<br>Absolute magnitude (Mv)=%{x}<br>Radius (R/Ro)=%{y}<extra></extra>",
         "legendgroup": "Red Dwarf",
         "marker": {
          "color": "#FF97FF",
          "symbol": "circle"
         },
         "mode": "markers",
         "name": "Red Dwarf",
         "orientation": "v",
         "showlegend": true,
         "type": "scatter",
         "x": [
          10.69,
          11.79,
          13.21,
          10.48,
          11.782,
          13.07,
          14.79,
          10.8,
          13.53,
          11.18,
          12.3,
          10.12,
          13.2,
          11.94,
          10.89,
          11.76,
          13.46,
          11.87,
          12.81,
          13.98,
          10.87,
          10.34,
          11.17,
          13.12,
          14.23,
          14.75,
          11.43,
          14.26,
          12.23,
          14.33,
          11.47,
          10.73,
          13.45,
          12.854,
          12.43,
          13.667,
          14.12,
          14.94,
          12.78,
          14.776
         ],
         "xaxis": "x",
         "y": [
          0.51,
          0.3761,
          0.196,
          0.393,
          0.14,
          0.24,
          0.16,
          0.47,
          0.1967,
          0.351,
          0.273,
          0.38,
          0.18,
          0.35,
          0.291,
          0.35,
          0.24,
          0.307,
          0.098,
          0.161,
          0.492,
          0.38,
          0.31,
          0.34,
          0.62,
          0.73,
          0.24,
          0.56,
          0.34,
          0.256,
          0.148,
          0.46,
          0.28,
          0.378,
          0.319,
          0.67,
          0.258,
          0.336,
          0.471,
          0.675
         ],
         "yaxis": "y"
        },
        {
         "hovertemplate": "Star category=White Dwarf<br>Absolute magnitude (Mv)=%{x}<br>Radius (R/Ro)=%{y}<extra></extra>",
         "legendgroup": "White Dwarf",
         "marker": {
          "color": "#FECB52",
          "symbol": "circle"
         },
         "mode": "markers",
         "name": "White Dwarf",
         "orientation": "v",
         "showlegend": true,
         "type": "scatter",
         "x": [
          10.58,
          14.02,
          14.23,
          14.5,
          11.89,
          12.23,
          14.2,
          14.47,
          12.59,
          14.08,
          14.09,
          12.02,
          13.78,
          12.45,
          12.17,
          13.98,
          12.13,
          11.19,
          12.97,
          11.34,
          13.67,
          11.52,
          12.78,
          11.92,
          11.38,
          14.87,
          12.83,
          12.89,
          14.81,
          11.23,
          12.87,
          11.92,
          12.23,
          12.9,
          11.22,
          11.34,
          10.55,
          10.18,
          11.66,
          11.62
         ],
         "xaxis": "x",
         "y": [
          0.0084,
          0.01234,
          0.011,
          0.01,
          0.014,
          0.00984,
          0.0097,
          0.0128,
          0.011,
          0.013,
          0.012,
          0.0092,
          0.0095,
          0.015,
          0.0089,
          0.0109,
          0.0092,
          0.0087,
          0.00892,
          0.0131,
          0.00981,
          0.0112,
          0.00934,
          0.00972,
          0.00898,
          0.00879,
          0.00945,
          0.00892,
          0.00878,
          0.00996,
          0.0121,
          0.0114,
          0.0113,
          0.0116,
          0.0124,
          0.0142,
          0.0127,
          0.0104,
          0.0106,
          0.00998
         ],
         "yaxis": "y"
        },
        {
         "hovertemplate": "Star category=Main Sequence<br>Absolute magnitude (Mv)=%{x}<br>Radius (R/Ro)=%{y}<extra></extra>",
         "legendgroup": "Main Sequence",
         "marker": {
          "color": "#636efa",
          "symbol": "circle"
         },
         "mode": "markers",
         "name": "Main Sequence",
         "orientation": "v",
         "showlegend": true,
         "type": "scatter",
         "x": [
          -4.7,
          -4.2,
          -1.97,
          0.16,
          5.05,
          2.42,
          2.41,
          2.93,
          4.46,
          5.03,
          5.49,
          6.506,
          6.228,
          4.78,
          1.45,
          -2.3,
          4.68,
          2.44,
          0.02,
          -4.4,
          -4.01,
          0.12,
          -2.04,
          -3.32,
          -3.98,
          -4.09,
          -3.8,
          -3.4,
          -1.38,
          -4.56,
          -3.67,
          0.013,
          -0.12,
          -2.55,
          -4.57,
          -4.36,
          1.236,
          -3.08,
          -2.64,
          -0.98
         ],
         "xaxis": "x",
         "y": [
          10.6,
          6.3,
          7.2,
          2.89,
          0.9,
          1.8,
          1.12,
          0.98,
          1.106,
          0.99,
          0.91,
          0.865,
          0.795,
          1.13,
          2.63,
          6.98,
          0.876,
          1.34,
          7.01,
          10.2,
          6.02,
          2.487,
          5.745,
          5.68,
          5.92,
          6.4,
          5.49,
          6.78,
          6.21,
          6.86,
          6.36,
          5.856,
          5.992,
          6.64,
          6.39,
          6.237,
          1.91,
          6.03,
          5.653,
          1.93
         ],
         "yaxis": "y"
        },
        {
         "hovertemplate": "Star category=Supergiant<br>Absolute magnitude (Mv)=%{x}<br>Radius (R/Ro)=%{y}<extra></extra>",
         "legendgroup": "Supergiant",
         "marker": {
          "color": "#EF553B",
          "symbol": "circle"
         },
         "mode": "markers",
         "name": "Supergiant",
         "orientation": "v",
         "showlegend": true,
         "type": "scatter",
         "x": [
          -6.93,
          -6.2,
          -6.02,
          -7.22,
          -6,
          -6.6,
          -6.78,
          -5.24,
          -6.74,
          -6.1,
          -6.5,
          -6.23,
          -5.76,
          -6.89,
          -5.91,
          -6.12,
          -5.83,
          -6.34,
          -6.24,
          -5.79,
          -5.92,
          -6.245,
          -5.62,
          -6.63,
          -7.34,
          -7.22,
          -5.69,
          -5.83,
          -6.09,
          -5.99,
          -6.27,
          -7.02,
          -6.98,
          -5.975,
          -6.35,
          -7.45,
          -7.262,
          -6.224,
          -5.905,
          -7.346
         ],
         "xaxis": "x",
         "y": [
          19,
          23,
          88,
          17,
          25,
          29,
          45,
          89,
          84,
          26,
          12,
          14,
          36,
          83,
          12,
          42,
          63,
          36,
          57,
          67,
          57,
          36,
          83,
          97,
          35,
          24,
          73,
          39,
          30,
          24,
          35,
          76,
          98,
          81,
          62,
          46,
          80,
          25,
          86,
          92
         ],
         "yaxis": "y"
        },
        {
         "hovertemplate": "Star category=Hypergiant<br>Absolute magnitude (Mv)=%{x}<br>Radius (R/Ro)=%{y}<extra></extra>",
         "legendgroup": "Hypergiant",
         "marker": {
          "color": "#00cc96",
          "symbol": "circle"
         },
         "mode": "markers",
         "name": "Hypergiant",
         "orientation": "v",
         "showlegend": true,
         "type": "scatter",
         "x": [
          -9.4,
          -7.63,
          -9.2,
          -8.05,
          -7.79,
          -11.75,
          -11.92,
          -11.28,
          -11.24,
          -11.36,
          -10.7,
          -10.81,
          -11.33,
          -10.92,
          -10.86,
          -11.03,
          -11.39,
          -10.25,
          -10.07,
          -10.7,
          -7.58,
          -8.18,
          -9.2,
          -9.1,
          -7.89,
          -7.71,
          -8.3,
          -9.9,
          -7.84,
          -8.24,
          -8.84,
          -9.29,
          -10.84,
          -7.59,
          -7.67,
          -9.93,
          -10.63,
          -10.73,
          -11.23,
          -7.8
         ],
         "xaxis": "x",
         "y": [
          1520,
          1260,
          1183,
          1648,
          1324,
          1349,
          1673,
          1284,
          955,
          1546,
          1289,
          1124,
          1635,
          1486,
          1522,
          1324,
          1534,
          876,
          1467,
          1324,
          1480,
          1420,
          1315,
          1679,
          1190,
          1553,
          1045,
          1779,
          708.9,
          1134.5,
          1494,
          1356,
          1948.5,
          1252,
          1130,
          1356,
          1194,
          1423,
          1112,
          1783
         ],
         "yaxis": "y"
        }
       ],
       "layout": {
        "legend": {
         "title": {
          "text": "Star category"
         },
         "tracegroupgap": 0
        },
        "template": {
         "data": {
          "bar": [
           {
            "error_x": {
             "color": "#2a3f5f"
            },
            "error_y": {
             "color": "#2a3f5f"
            },
            "marker": {
             "line": {
              "color": "#E5ECF6",
              "width": 0.5
             },
             "pattern": {
              "fillmode": "overlay",
              "size": 10,
              "solidity": 0.2
             }
            },
            "type": "bar"
           }
          ],
          "barpolar": [
           {
            "marker": {
             "line": {
              "color": "#E5ECF6",
              "width": 0.5
             },
             "pattern": {
              "fillmode": "overlay",
              "size": 10,
              "solidity": 0.2
             }
            },
            "type": "barpolar"
           }
          ],
          "carpet": [
           {
            "aaxis": {
             "endlinecolor": "#2a3f5f",
             "gridcolor": "white",
             "linecolor": "white",
             "minorgridcolor": "white",
             "startlinecolor": "#2a3f5f"
            },
            "baxis": {
             "endlinecolor": "#2a3f5f",
             "gridcolor": "white",
             "linecolor": "white",
             "minorgridcolor": "white",
             "startlinecolor": "#2a3f5f"
            },
            "type": "carpet"
           }
          ],
          "choropleth": [
           {
            "colorbar": {
             "outlinewidth": 0,
             "ticks": ""
            },
            "type": "choropleth"
           }
          ],
          "contour": [
           {
            "colorbar": {
             "outlinewidth": 0,
             "ticks": ""
            },
            "colorscale": [
             [
              0,
              "#0d0887"
             ],
             [
              0.1111111111111111,
              "#46039f"
             ],
             [
              0.2222222222222222,
              "#7201a8"
             ],
             [
              0.3333333333333333,
              "#9c179e"
             ],
             [
              0.4444444444444444,
              "#bd3786"
             ],
             [
              0.5555555555555556,
              "#d8576b"
             ],
             [
              0.6666666666666666,
              "#ed7953"
             ],
             [
              0.7777777777777778,
              "#fb9f3a"
             ],
             [
              0.8888888888888888,
              "#fdca26"
             ],
             [
              1,
              "#f0f921"
             ]
            ],
            "type": "contour"
           }
          ],
          "contourcarpet": [
           {
            "colorbar": {
             "outlinewidth": 0,
             "ticks": ""
            },
            "type": "contourcarpet"
           }
          ],
          "heatmap": [
           {
            "colorbar": {
             "outlinewidth": 0,
             "ticks": ""
            },
            "colorscale": [
             [
              0,
              "#0d0887"
             ],
             [
              0.1111111111111111,
              "#46039f"
             ],
             [
              0.2222222222222222,
              "#7201a8"
             ],
             [
              0.3333333333333333,
              "#9c179e"
             ],
             [
              0.4444444444444444,
              "#bd3786"
             ],
             [
              0.5555555555555556,
              "#d8576b"
             ],
             [
              0.6666666666666666,
              "#ed7953"
             ],
             [
              0.7777777777777778,
              "#fb9f3a"
             ],
             [
              0.8888888888888888,
              "#fdca26"
             ],
             [
              1,
              "#f0f921"
             ]
            ],
            "type": "heatmap"
           }
          ],
          "heatmapgl": [
           {
            "colorbar": {
             "outlinewidth": 0,
             "ticks": ""
            },
            "colorscale": [
             [
              0,
              "#0d0887"
             ],
             [
              0.1111111111111111,
              "#46039f"
             ],
             [
              0.2222222222222222,
              "#7201a8"
             ],
             [
              0.3333333333333333,
              "#9c179e"
             ],
             [
              0.4444444444444444,
              "#bd3786"
             ],
             [
              0.5555555555555556,
              "#d8576b"
             ],
             [
              0.6666666666666666,
              "#ed7953"
             ],
             [
              0.7777777777777778,
              "#fb9f3a"
             ],
             [
              0.8888888888888888,
              "#fdca26"
             ],
             [
              1,
              "#f0f921"
             ]
            ],
            "type": "heatmapgl"
           }
          ],
          "histogram": [
           {
            "marker": {
             "pattern": {
              "fillmode": "overlay",
              "size": 10,
              "solidity": 0.2
             }
            },
            "type": "histogram"
           }
          ],
          "histogram2d": [
           {
            "colorbar": {
             "outlinewidth": 0,
             "ticks": ""
            },
            "colorscale": [
             [
              0,
              "#0d0887"
             ],
             [
              0.1111111111111111,
              "#46039f"
             ],
             [
              0.2222222222222222,
              "#7201a8"
             ],
             [
              0.3333333333333333,
              "#9c179e"
             ],
             [
              0.4444444444444444,
              "#bd3786"
             ],
             [
              0.5555555555555556,
              "#d8576b"
             ],
             [
              0.6666666666666666,
              "#ed7953"
             ],
             [
              0.7777777777777778,
              "#fb9f3a"
             ],
             [
              0.8888888888888888,
              "#fdca26"
             ],
             [
              1,
              "#f0f921"
             ]
            ],
            "type": "histogram2d"
           }
          ],
          "histogram2dcontour": [
           {
            "colorbar": {
             "outlinewidth": 0,
             "ticks": ""
            },
            "colorscale": [
             [
              0,
              "#0d0887"
             ],
             [
              0.1111111111111111,
              "#46039f"
             ],
             [
              0.2222222222222222,
              "#7201a8"
             ],
             [
              0.3333333333333333,
              "#9c179e"
             ],
             [
              0.4444444444444444,
              "#bd3786"
             ],
             [
              0.5555555555555556,
              "#d8576b"
             ],
             [
              0.6666666666666666,
              "#ed7953"
             ],
             [
              0.7777777777777778,
              "#fb9f3a"
             ],
             [
              0.8888888888888888,
              "#fdca26"
             ],
             [
              1,
              "#f0f921"
             ]
            ],
            "type": "histogram2dcontour"
           }
          ],
          "mesh3d": [
           {
            "colorbar": {
             "outlinewidth": 0,
             "ticks": ""
            },
            "type": "mesh3d"
           }
          ],
          "parcoords": [
           {
            "line": {
             "colorbar": {
              "outlinewidth": 0,
              "ticks": ""
             }
            },
            "type": "parcoords"
           }
          ],
          "pie": [
           {
            "automargin": true,
            "type": "pie"
           }
          ],
          "scatter": [
           {
            "fillpattern": {
             "fillmode": "overlay",
             "size": 10,
             "solidity": 0.2
            },
            "type": "scatter"
           }
          ],
          "scatter3d": [
           {
            "line": {
             "colorbar": {
              "outlinewidth": 0,
              "ticks": ""
             }
            },
            "marker": {
             "colorbar": {
              "outlinewidth": 0,
              "ticks": ""
             }
            },
            "type": "scatter3d"
           }
          ],
          "scattercarpet": [
           {
            "marker": {
             "colorbar": {
              "outlinewidth": 0,
              "ticks": ""
             }
            },
            "type": "scattercarpet"
           }
          ],
          "scattergeo": [
           {
            "marker": {
             "colorbar": {
              "outlinewidth": 0,
              "ticks": ""
             }
            },
            "type": "scattergeo"
           }
          ],
          "scattergl": [
           {
            "marker": {
             "colorbar": {
              "outlinewidth": 0,
              "ticks": ""
             }
            },
            "type": "scattergl"
           }
          ],
          "scattermapbox": [
           {
            "marker": {
             "colorbar": {
              "outlinewidth": 0,
              "ticks": ""
             }
            },
            "type": "scattermapbox"
           }
          ],
          "scatterpolar": [
           {
            "marker": {
             "colorbar": {
              "outlinewidth": 0,
              "ticks": ""
             }
            },
            "type": "scatterpolar"
           }
          ],
          "scatterpolargl": [
           {
            "marker": {
             "colorbar": {
              "outlinewidth": 0,
              "ticks": ""
             }
            },
            "type": "scatterpolargl"
           }
          ],
          "scatterternary": [
           {
            "marker": {
             "colorbar": {
              "outlinewidth": 0,
              "ticks": ""
             }
            },
            "type": "scatterternary"
           }
          ],
          "surface": [
           {
            "colorbar": {
             "outlinewidth": 0,
             "ticks": ""
            },
            "colorscale": [
             [
              0,
              "#0d0887"
             ],
             [
              0.1111111111111111,
              "#46039f"
             ],
             [
              0.2222222222222222,
              "#7201a8"
             ],
             [
              0.3333333333333333,
              "#9c179e"
             ],
             [
              0.4444444444444444,
              "#bd3786"
             ],
             [
              0.5555555555555556,
              "#d8576b"
             ],
             [
              0.6666666666666666,
              "#ed7953"
             ],
             [
              0.7777777777777778,
              "#fb9f3a"
             ],
             [
              0.8888888888888888,
              "#fdca26"
             ],
             [
              1,
              "#f0f921"
             ]
            ],
            "type": "surface"
           }
          ],
          "table": [
           {
            "cells": {
             "fill": {
              "color": "#EBF0F8"
             },
             "line": {
              "color": "white"
             }
            },
            "header": {
             "fill": {
              "color": "#C8D4E3"
             },
             "line": {
              "color": "white"
             }
            },
            "type": "table"
           }
          ]
         },
         "layout": {
          "annotationdefaults": {
           "arrowcolor": "#2a3f5f",
           "arrowhead": 0,
           "arrowwidth": 1
          },
          "autotypenumbers": "strict",
          "coloraxis": {
           "colorbar": {
            "outlinewidth": 0,
            "ticks": ""
           }
          },
          "colorscale": {
           "diverging": [
            [
             0,
             "#8e0152"
            ],
            [
             0.1,
             "#c51b7d"
            ],
            [
             0.2,
             "#de77ae"
            ],
            [
             0.3,
             "#f1b6da"
            ],
            [
             0.4,
             "#fde0ef"
            ],
            [
             0.5,
             "#f7f7f7"
            ],
            [
             0.6,
             "#e6f5d0"
            ],
            [
             0.7,
             "#b8e186"
            ],
            [
             0.8,
             "#7fbc41"
            ],
            [
             0.9,
             "#4d9221"
            ],
            [
             1,
             "#276419"
            ]
           ],
           "sequential": [
            [
             0,
             "#0d0887"
            ],
            [
             0.1111111111111111,
             "#46039f"
            ],
            [
             0.2222222222222222,
             "#7201a8"
            ],
            [
             0.3333333333333333,
             "#9c179e"
            ],
            [
             0.4444444444444444,
             "#bd3786"
            ],
            [
             0.5555555555555556,
             "#d8576b"
            ],
            [
             0.6666666666666666,
             "#ed7953"
            ],
            [
             0.7777777777777778,
             "#fb9f3a"
            ],
            [
             0.8888888888888888,
             "#fdca26"
            ],
            [
             1,
             "#f0f921"
            ]
           ],
           "sequentialminus": [
            [
             0,
             "#0d0887"
            ],
            [
             0.1111111111111111,
             "#46039f"
            ],
            [
             0.2222222222222222,
             "#7201a8"
            ],
            [
             0.3333333333333333,
             "#9c179e"
            ],
            [
             0.4444444444444444,
             "#bd3786"
            ],
            [
             0.5555555555555556,
             "#d8576b"
            ],
            [
             0.6666666666666666,
             "#ed7953"
            ],
            [
             0.7777777777777778,
             "#fb9f3a"
            ],
            [
             0.8888888888888888,
             "#fdca26"
            ],
            [
             1,
             "#f0f921"
            ]
           ]
          },
          "colorway": [
           "#636efa",
           "#EF553B",
           "#00cc96",
           "#ab63fa",
           "#FFA15A",
           "#19d3f3",
           "#FF6692",
           "#B6E880",
           "#FF97FF",
           "#FECB52"
          ],
          "font": {
           "color": "#2a3f5f"
          },
          "geo": {
           "bgcolor": "white",
           "lakecolor": "white",
           "landcolor": "#E5ECF6",
           "showlakes": true,
           "showland": true,
           "subunitcolor": "white"
          },
          "hoverlabel": {
           "align": "left"
          },
          "hovermode": "closest",
          "mapbox": {
           "style": "light"
          },
          "paper_bgcolor": "white",
          "plot_bgcolor": "#E5ECF6",
          "polar": {
           "angularaxis": {
            "gridcolor": "white",
            "linecolor": "white",
            "ticks": ""
           },
           "bgcolor": "#E5ECF6",
           "radialaxis": {
            "gridcolor": "white",
            "linecolor": "white",
            "ticks": ""
           }
          },
          "scene": {
           "xaxis": {
            "backgroundcolor": "#E5ECF6",
            "gridcolor": "white",
            "gridwidth": 2,
            "linecolor": "white",
            "showbackground": true,
            "ticks": "",
            "zerolinecolor": "white"
           },
           "yaxis": {
            "backgroundcolor": "#E5ECF6",
            "gridcolor": "white",
            "gridwidth": 2,
            "linecolor": "white",
            "showbackground": true,
            "ticks": "",
            "zerolinecolor": "white"
           },
           "zaxis": {
            "backgroundcolor": "#E5ECF6",
            "gridcolor": "white",
            "gridwidth": 2,
            "linecolor": "white",
            "showbackground": true,
            "ticks": "",
            "zerolinecolor": "white"
           }
          },
          "shapedefaults": {
           "line": {
            "color": "#2a3f5f"
           }
          },
          "ternary": {
           "aaxis": {
            "gridcolor": "white",
            "linecolor": "white",
            "ticks": ""
           },
           "baxis": {
            "gridcolor": "white",
            "linecolor": "white",
            "ticks": ""
           },
           "bgcolor": "#E5ECF6",
           "caxis": {
            "gridcolor": "white",
            "linecolor": "white",
            "ticks": ""
           }
          },
          "title": {
           "x": 0.05
          },
          "xaxis": {
           "automargin": true,
           "gridcolor": "white",
           "linecolor": "white",
           "ticks": "",
           "title": {
            "standoff": 15
           },
           "zerolinecolor": "white",
           "zerolinewidth": 2
          },
          "yaxis": {
           "automargin": true,
           "gridcolor": "white",
           "linecolor": "white",
           "ticks": "",
           "title": {
            "standoff": 15
           },
           "zerolinecolor": "white",
           "zerolinewidth": 2
          }
         }
        },
        "title": {
         "text": "Rayon des étoiles en fonction de leur magnitude et classe spectrale"
        },
        "xaxis": {
         "anchor": "y",
         "domain": [
          0,
          1
         ],
         "title": {
          "text": "Absolute magnitude (Mv)"
         }
        },
        "yaxis": {
         "anchor": "x",
         "domain": [
          0,
          1
         ],
         "title": {
          "text": "Radius (R/Ro)"
         }
        }
       }
      }
     },
     "metadata": {},
     "output_type": "display_data"
    }
   ],
   "source": [
    "color_map = {\n",
    "    'O': 'blue',\n",
    "    'B': 'lightskyblue',\n",
    "    'A': 'gray',\n",
    "    'F': 'yellow',\n",
    "    'G': 'gold',\n",
    "    'K': 'orange',\n",
    "    'M': 'red'\n",
    "}\n",
    "\n",
    "fig = px.scatter(stars, x='Absolute magnitude (Mv)', y='Radius (R/Ro)', color='Star category',\n",
    "                 color_discrete_map=color_map,\n",
    "                 title='Rayon des étoiles en fonction de leur magnitude et de leur catégorie')\n",
    "fig.show()"
   ]
  },
  {
   "cell_type": "markdown",
   "metadata": {},
   "source": [
    "Ainsi, les phases de la vie d'une étoile sont très liées à leur magnitude."
   ]
  },
  {
   "cell_type": "code",
   "execution_count": null,
   "metadata": {},
   "outputs": [],
   "source": []
  }
 ],
 "metadata": {
  "kernelspec": {
   "display_name": ".venv",
   "language": "python",
   "name": "python3"
  },
  "language_info": {
   "codemirror_mode": {
    "name": "ipython",
    "version": 3
   },
   "file_extension": ".py",
   "mimetype": "text/x-python",
   "name": "python",
   "nbconvert_exporter": "python",
   "pygments_lexer": "ipython3",
   "version": "3.11.0"
  }
 },
 "nbformat": 4,
 "nbformat_minor": 2
}
