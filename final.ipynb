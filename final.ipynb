{
 "cells": [
  {
   "cell_type": "markdown",
   "metadata": {},
   "source": [
    "# Projet final"
   ]
  },
  {
   "cell_type": "code",
   "execution_count": null,
   "metadata": {},
   "outputs": [],
   "source": [
    "import pandas as pd\n",
    "import numpy as np\n",
    "import plotly.express as px\n",
    "\n",
    "stars = pd.read_csv ('https://github.com/YBIFoundation/Dataset/raw/main/Stars.csv')"
   ]
  },
  {
   "cell_type": "markdown",
   "metadata": {},
   "source": [
    "Le dataframe comporte une partie des étoiles de la galaxie (240, soit 40 étoiles de chaque type) -> une ligne = une étoile"
   ]
  },
  {
   "cell_type": "code",
   "execution_count": 6,
   "metadata": {},
   "outputs": [
    {
     "data": {
      "text/plain": [
       "Brown Dwarf      40\n",
       "Red Dwarf        40\n",
       "White Dwarf      40\n",
       "Main Sequence    40\n",
       "Supergiant       40\n",
       "Hypergiant       40\n",
       "Name: Star category, dtype: int64"
      ]
     },
     "execution_count": 6,
     "metadata": {},
     "output_type": "execute_result"
    }
   ],
   "source": [
    "stars['Star category'].value_counts()"
   ]
  },
  {
   "cell_type": "markdown",
   "metadata": {},
   "source": [
    "**Quelques informations sur les unites dans notre dataframe :**"
   ]
  },
  {
   "cell_type": "code",
   "execution_count": 4,
   "metadata": {},
   "outputs": [
    {
     "data": {
      "text/plain": [
       "(240, 8)"
      ]
     },
     "execution_count": 4,
     "metadata": {},
     "output_type": "execute_result"
    }
   ],
   "source": [
    "stars.shape"
   ]
  },
  {
   "cell_type": "markdown",
   "metadata": {},
   "source": [
    "On a donc bien 240 étoiles, choisies aléatoirement dans leur catégorie, et on a 8 colonnes. \n",
    "\n",
    "- Température absolue, en Kelvin\n",
    "- Luminosité relative, en L/Lo où L = luminosité de l'étoile et Lo = luminosité du Soleil\n",
    "- Rayon relatif, en R/RO où R = rayon de l'étoile et RO = rayon du Soleil\n",
    "- Magnitude absoluen, en Mv\n",
    "- Couleur de l'étoile\n",
    "- Classe spectrale\n",
    "- Type d'étoile"
   ]
  },
  {
   "cell_type": "markdown",
   "metadata": {},
   "source": [
    "Pour info, Lo = 3.828 x 10^26 Watts et Ro = 6.9551 x 10^8 m"
   ]
  },
  {
   "cell_type": "code",
   "execution_count": null,
   "metadata": {},
   "outputs": [],
   "source": [
    "color_map = {\n",
    "    'O': 'blue',\n",
    "    'B': 'lightskyblue',\n",
    "    'A': 'gray',\n",
    "    'F': 'yellow',\n",
    "    'G': 'gold',\n",
    "    'K': 'orange',\n",
    "    'M': 'red'\n",
    "}\n",
    "\n",
    "fig = px.scatter(stars, x='Temperature (K)', y='Luminosity (L/Lo)', color='Spectral Class',\n",
    "                 color_discrete_map=color_map,\n",
    "                 title='Luminosité des étoiles en fonction de leur température et classe spectrale',\n",
    "                 labels={'Temperature (K)': 'Température (K)', 'Luminosity (L/Lo)': 'Luminosité (L/Lo)'})\n",
    "fig.show()"
   ]
  },
  {
   "cell_type": "markdown",
   "metadata": {},
   "source": []
  }
 ],
 "metadata": {
  "kernelspec": {
   "display_name": "base",
   "language": "python",
   "name": "python3"
  },
  "language_info": {
   "codemirror_mode": {
    "name": "ipython",
    "version": 3
   },
   "file_extension": ".py",
   "mimetype": "text/x-python",
   "name": "python",
   "nbconvert_exporter": "python",
   "pygments_lexer": "ipython3",
   "version": "3.9.12"
  }
 },
 "nbformat": 4,
 "nbformat_minor": 2
}
