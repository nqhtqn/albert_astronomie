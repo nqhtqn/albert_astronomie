{
 "cells": [
  {
   "cell_type": "markdown",
   "metadata": {},
   "source": [
    "# Projet final"
   ]
  },
  {
   "cell_type": "code",
   "execution_count": 8,
   "metadata": {},
   "outputs": [],
   "source": [
    "import pandas as pd\n",
    "import numpy as np\n",
    "import plotly.express as px\n",
    "\n",
    "stars = pd.read_csv ('https://github.com/YBIFoundation/Dataset/raw/main/Stars.csv')"
   ]
  },
  {
   "cell_type": "markdown",
   "metadata": {},
   "source": [
    "Le dataframe comporte une partie des étoiles de la galaxie (240, soit 40 étoiles de chaque type) -> une ligne = une étoile"
   ]
  },
  {
   "cell_type": "code",
   "execution_count": 9,
   "metadata": {},
   "outputs": [
    {
     "data": {
      "text/plain": [
       "Brown Dwarf      40\n",
       "Red Dwarf        40\n",
       "White Dwarf      40\n",
       "Main Sequence    40\n",
       "Supergiant       40\n",
       "Hypergiant       40\n",
       "Name: Star category, dtype: int64"
      ]
     },
     "execution_count": 9,
     "metadata": {},
     "output_type": "execute_result"
    }
   ],
   "source": [
    "stars['Star category'].value_counts()"
   ]
  },
  {
   "cell_type": "markdown",
   "metadata": {},
   "source": [
    "**Quelques informations sur les unites dans notre dataframe :**"
   ]
  },
  {
   "cell_type": "code",
   "execution_count": 10,
   "metadata": {},
   "outputs": [
    {
     "data": {
      "text/plain": [
       "(240, 8)"
      ]
     },
     "execution_count": 10,
     "metadata": {},
     "output_type": "execute_result"
    }
   ],
   "source": [
    "stars.shape"
   ]
  },
  {
   "cell_type": "markdown",
   "metadata": {},
   "source": [
    "On a donc bien 240 étoiles, choisies aléatoirement dans leur catégorie, et on a 8 colonnes. \n",
    "\n",
    "- Température absolue, en Kelvin\n",
    "- Luminosité relative, en L/Lo où L = luminosité de l'étoile et Lo = luminosité du Soleil\n",
    "- Rayon relatif, en R/RO où R = rayon de l'étoile et RO = rayon du Soleil\n",
    "- Magnitude absoluen, en Mv\n",
    "- Couleur de l'étoile\n",
    "- Classe spectrale\n",
    "- Type d'étoile"
   ]
  },
  {
   "cell_type": "markdown",
   "metadata": {},
   "source": [
    "Pour info, Lo = 3.828 x 10^26 Watts et Ro = 6.9551 x 10^8 m"
   ]
  },
  {
   "cell_type": "code",
   "execution_count": 11,
   "metadata": {},
   "outputs": [
    {
     "data": {
      "application/vnd.plotly.v1+json": {
       "config": {
        "plotlyServerURL": "https://plot.ly"
       },
       "data": [
        {
         "hovertemplate": "Spectral Class=M<br>Température (K)=%{x}<br>Luminosité (L/Lo)=%{y}<extra></extra>",
         "legendgroup": "M",
         "marker": {
          "color": "red",
          "symbol": "circle"
         },
         "mode": "markers",
         "name": "M",
         "orientation": "v",
         "showlegend": true,
         "type": "scatter",
         "x": [
          3068,
          3042,
          2600,
          2800,
          1939,
          2840,
          2637,
          2600,
          2650,
          2700,
          3600,
          3129,
          3134,
          3628,
          2650,
          3340,
          2799,
          3692,
          3192,
          3441,
          3826,
          3365,
          3270,
          3200,
          3008,
          3600,
          3575,
          3574,
          3625,
          3490,
          3750,
          3834,
          3749,
          3650,
          3450,
          3660,
          3450,
          3752,
          3535,
          3341,
          3432,
          2983,
          2835,
          2935,
          3295,
          2945,
          2817,
          2774,
          2871,
          3345,
          3607,
          3304,
          3150,
          3550,
          3180,
          2890,
          3342,
          2621,
          3158,
          3459,
          3605,
          3615,
          3399,
          3610,
          3553,
          3625,
          3780,
          3323,
          3531,
          3218,
          3146,
          3511,
          3225,
          2935,
          2861,
          2856,
          2731,
          3095,
          3607,
          3100,
          2989,
          3542,
          3243,
          3091,
          3598,
          3324,
          3541,
          3570,
          3500,
          3600,
          3614,
          2831,
          2914,
          3419,
          3218,
          3453,
          2889,
          2968,
          3484,
          2778,
          3523,
          3462,
          3257,
          2994,
          3212,
          3523,
          3598,
          3142,
          3496,
          3324,
          3463
         ],
         "xaxis": "x",
         "y": [
          0.0024,
          0.0005,
          0.0003,
          0.0002,
          0.000138,
          0.00065,
          0.00073,
          0.0004,
          0.00069,
          0.00018,
          0.0029,
          0.0122,
          0.0004,
          0.0055,
          0.0006,
          0.0038,
          0.0018,
          0.00367,
          0.00362,
          0.039,
          200000,
          340000,
          150000,
          195000,
          280000,
          320000,
          123000,
          200000,
          184000,
          270000,
          283000,
          272000,
          550000,
          310000,
          263000,
          363000,
          174000,
          209000,
          195000,
          0.0056,
          0.00067,
          0.00024,
          0.00034,
          0.00014,
          0.00098,
          0.00032,
          0.00098,
          0.00036,
          0.00072,
          0.021,
          0.022,
          0.0085,
          0.0088,
          0.004,
          0.001,
          0.0034,
          0.0015,
          0.0006,
          0.00135,
          100000,
          126000,
          200000,
          117000,
          132000,
          145000,
          74000,
          200000,
          0.00043,
          0.00093,
          0.00054,
          0.00015,
          0.00064,
          0.00076,
          0.00087,
          0.00019,
          0.000896,
          0.000437,
          0.00019,
          0.00023,
          0.008,
          0.0087,
          0.0009,
          0.0023,
          0.0081,
          0.0011,
          0.0034,
          0.0013,
          320000,
          138000,
          240000,
          145000,
          0.000231,
          0.000631,
          0.000245,
          0.000452,
          0.000621,
          0.000352,
          0.000461,
          0.000551,
          0.000849,
          0.000957,
          0.0053,
          0.0024,
          0.0072,
          0.0016,
          0.0054,
          0.0027,
          0.00132,
          0.00125,
          0.0065,
          0.0027
         ],
         "yaxis": "y"
        },
        {
         "hovertemplate": "Spectral Class=B<br>Température (K)=%{x}<br>Luminosité (L/Lo)=%{y}<extra></extra>",
         "legendgroup": "B",
         "marker": {
          "color": "lightskyblue",
          "symbol": "circle"
         },
         "mode": "markers",
         "name": "B",
         "orientation": "v",
         "showlegend": true,
         "type": "scatter",
         "x": [
          25000,
          16500,
          30000,
          15276,
          9700,
          33750,
          17200,
          14100,
          12010,
          10980,
          19860,
          33300,
          13420,
          21020,
          18290,
          14520,
          11900,
          12912,
          12984,
          29560,
          16390,
          25070,
          28700,
          26140,
          20120,
          26000,
          11000,
          12100,
          24490,
          16790,
          15680,
          14982,
          13340,
          18340,
          19920,
          24020,
          23092,
          17920,
          19360,
          22350,
          22012,
          19400,
          17140,
          24145,
          27739,
          21904
         ],
         "xaxis": "x",
         "y": [
          0.056,
          0.013,
          28840,
          1136,
          74,
          220000,
          0.00098,
          0.00067,
          0.00078,
          0.00074,
          0.0011,
          240000,
          0.00059,
          0.0015,
          0.0013,
          0.00082,
          0.00067,
          0.00071,
          0.00088,
          188000,
          1278,
          14500,
          16790,
          14520,
          4720,
          316000,
          170000,
          120000,
          248490,
          0.0014,
          0.00122,
          0.00118,
          0.00109,
          0.00134,
          0.00156,
          0.00159,
          0.00132,
          0.00111,
          0.00125,
          12450,
          6748,
          10920,
          883,
          382993,
          849420,
          748490
         ],
         "yaxis": "y"
        },
        {
         "hovertemplate": "Spectral Class=A<br>Température (K)=%{x}<br>Luminosité (L/Lo)=%{y}<extra></extra>",
         "legendgroup": "A",
         "marker": {
          "color": "gray",
          "symbol": "circle"
         },
         "mode": "markers",
         "name": "A",
         "orientation": "v",
         "showlegend": true,
         "type": "scatter",
         "x": [
          7740,
          8500,
          8570,
          8052,
          8930,
          9675,
          9030,
          11250,
          12098,
          8924,
          7723,
          8945,
          14060,
          13023,
          10012,
          13089,
          9320,
          8829,
          9235
         ],
         "xaxis": "x",
         "y": [
          0.00049,
          0.0005,
          0.00081,
          8.7,
          0.00056,
          0.00045,
          45,
          672,
          689,
          0.00028,
          0.00014,
          38,
          1092,
          998,
          552,
          788,
          29,
          537493,
          404940
         ],
         "yaxis": "y"
        },
        {
         "hovertemplate": "Spectral Class=F<br>Température (K)=%{x}<br>Luminosité (L/Lo)=%{y}<extra></extra>",
         "legendgroup": "F",
         "marker": {
          "color": "yellow",
          "symbol": "circle"
         },
         "mode": "markers",
         "name": "F",
         "orientation": "v",
         "showlegend": true,
         "type": "scatter",
         "x": [
          7220,
          12990,
          7700,
          11790,
          7230,
          5800,
          6757,
          6380,
          5936,
          5587,
          7100,
          10574,
          13720,
          5300,
          7720,
          14732,
          8250
         ],
         "xaxis": "x",
         "y": [
          0.00017,
          0.000085,
          0.00011,
          0.00015,
          0.00008,
          0.81,
          1.43,
          1.35,
          1.357,
          0.819,
          0.00029,
          0.00014,
          0.00018,
          0.59,
          7.92,
          0.00011,
          9.25
         ],
         "yaxis": "y"
        },
        {
         "hovertemplate": "Spectral Class=O<br>Température (K)=%{x}<br>Luminosité (L/Lo)=%{y}<extra></extra>",
         "legendgroup": "O",
         "marker": {
          "color": "blue",
          "symbol": "circle"
         },
         "mode": "markers",
         "name": "O",
         "orientation": "v",
         "showlegend": true,
         "type": "scatter",
         "x": [
          39000,
          36108,
          40000,
          23000,
          17120,
          11096,
          14245,
          24630,
          12893,
          24345,
          33421,
          37800,
          25390,
          11567,
          12675,
          5752,
          8927,
          7282,
          19923,
          26373,
          17383,
          9373,
          18000,
          34190,
          32460,
          23678,
          12749,
          9383,
          23440,
          16787,
          18734,
          9892,
          10930,
          23095,
          21738,
          38234,
          32489,
          38940,
          30839,
          37882
         ],
         "xaxis": "x",
         "y": [
          204000,
          198000,
          813000,
          127000,
          235000,
          112000,
          231000,
          363000,
          184000,
          142000,
          352000,
          202900,
          223000,
          251000,
          452000,
          245000,
          239000,
          131000,
          152000,
          198000,
          342900,
          424520,
          200000,
          198200,
          173800,
          244290,
          332520,
          342940,
          537430,
          246730,
          224780,
          593900,
          783930,
          347820,
          748890,
          272830,
          648430,
          374830,
          834042,
          294903
         ],
         "yaxis": "y"
        },
        {
         "hovertemplate": "Spectral Class=K<br>Température (K)=%{x}<br>Luminosité (L/Lo)=%{y}<extra></extra>",
         "legendgroup": "K",
         "marker": {
          "color": "orange",
          "symbol": "circle"
         },
         "mode": "markers",
         "name": "K",
         "orientation": "v",
         "showlegend": true,
         "type": "scatter",
         "x": [
          4526,
          4077,
          4980,
          5112,
          4015,
          4287
         ],
         "xaxis": "x",
         "y": [
          0.153,
          0.085,
          0.357,
          0.63,
          282000,
          630000
         ],
         "yaxis": "y"
        },
        {
         "hovertemplate": "Spectral Class=G<br>Température (K)=%{x}<br>Luminosité (L/Lo)=%{y}<extra></extra>",
         "legendgroup": "G",
         "marker": {
          "color": "gold",
          "symbol": "circle"
         },
         "mode": "markers",
         "name": "G",
         "orientation": "v",
         "showlegend": true,
         "type": "scatter",
         "x": [
          6850
         ],
         "xaxis": "x",
         "y": [
          229000
         ],
         "yaxis": "y"
        }
       ],
       "layout": {
        "legend": {
         "title": {
          "text": "Spectral Class"
         },
         "tracegroupgap": 0
        },
        "template": {
         "data": {
          "bar": [
           {
            "error_x": {
             "color": "#2a3f5f"
            },
            "error_y": {
             "color": "#2a3f5f"
            },
            "marker": {
             "line": {
              "color": "#E5ECF6",
              "width": 0.5
             },
             "pattern": {
              "fillmode": "overlay",
              "size": 10,
              "solidity": 0.2
             }
            },
            "type": "bar"
           }
          ],
          "barpolar": [
           {
            "marker": {
             "line": {
              "color": "#E5ECF6",
              "width": 0.5
             },
             "pattern": {
              "fillmode": "overlay",
              "size": 10,
              "solidity": 0.2
             }
            },
            "type": "barpolar"
           }
          ],
          "carpet": [
           {
            "aaxis": {
             "endlinecolor": "#2a3f5f",
             "gridcolor": "white",
             "linecolor": "white",
             "minorgridcolor": "white",
             "startlinecolor": "#2a3f5f"
            },
            "baxis": {
             "endlinecolor": "#2a3f5f",
             "gridcolor": "white",
             "linecolor": "white",
             "minorgridcolor": "white",
             "startlinecolor": "#2a3f5f"
            },
            "type": "carpet"
           }
          ],
          "choropleth": [
           {
            "colorbar": {
             "outlinewidth": 0,
             "ticks": ""
            },
            "type": "choropleth"
           }
          ],
          "contour": [
           {
            "colorbar": {
             "outlinewidth": 0,
             "ticks": ""
            },
            "colorscale": [
             [
              0,
              "#0d0887"
             ],
             [
              0.1111111111111111,
              "#46039f"
             ],
             [
              0.2222222222222222,
              "#7201a8"
             ],
             [
              0.3333333333333333,
              "#9c179e"
             ],
             [
              0.4444444444444444,
              "#bd3786"
             ],
             [
              0.5555555555555556,
              "#d8576b"
             ],
             [
              0.6666666666666666,
              "#ed7953"
             ],
             [
              0.7777777777777778,
              "#fb9f3a"
             ],
             [
              0.8888888888888888,
              "#fdca26"
             ],
             [
              1,
              "#f0f921"
             ]
            ],
            "type": "contour"
           }
          ],
          "contourcarpet": [
           {
            "colorbar": {
             "outlinewidth": 0,
             "ticks": ""
            },
            "type": "contourcarpet"
           }
          ],
          "heatmap": [
           {
            "colorbar": {
             "outlinewidth": 0,
             "ticks": ""
            },
            "colorscale": [
             [
              0,
              "#0d0887"
             ],
             [
              0.1111111111111111,
              "#46039f"
             ],
             [
              0.2222222222222222,
              "#7201a8"
             ],
             [
              0.3333333333333333,
              "#9c179e"
             ],
             [
              0.4444444444444444,
              "#bd3786"
             ],
             [
              0.5555555555555556,
              "#d8576b"
             ],
             [
              0.6666666666666666,
              "#ed7953"
             ],
             [
              0.7777777777777778,
              "#fb9f3a"
             ],
             [
              0.8888888888888888,
              "#fdca26"
             ],
             [
              1,
              "#f0f921"
             ]
            ],
            "type": "heatmap"
           }
          ],
          "heatmapgl": [
           {
            "colorbar": {
             "outlinewidth": 0,
             "ticks": ""
            },
            "colorscale": [
             [
              0,
              "#0d0887"
             ],
             [
              0.1111111111111111,
              "#46039f"
             ],
             [
              0.2222222222222222,
              "#7201a8"
             ],
             [
              0.3333333333333333,
              "#9c179e"
             ],
             [
              0.4444444444444444,
              "#bd3786"
             ],
             [
              0.5555555555555556,
              "#d8576b"
             ],
             [
              0.6666666666666666,
              "#ed7953"
             ],
             [
              0.7777777777777778,
              "#fb9f3a"
             ],
             [
              0.8888888888888888,
              "#fdca26"
             ],
             [
              1,
              "#f0f921"
             ]
            ],
            "type": "heatmapgl"
           }
          ],
          "histogram": [
           {
            "marker": {
             "pattern": {
              "fillmode": "overlay",
              "size": 10,
              "solidity": 0.2
             }
            },
            "type": "histogram"
           }
          ],
          "histogram2d": [
           {
            "colorbar": {
             "outlinewidth": 0,
             "ticks": ""
            },
            "colorscale": [
             [
              0,
              "#0d0887"
             ],
             [
              0.1111111111111111,
              "#46039f"
             ],
             [
              0.2222222222222222,
              "#7201a8"
             ],
             [
              0.3333333333333333,
              "#9c179e"
             ],
             [
              0.4444444444444444,
              "#bd3786"
             ],
             [
              0.5555555555555556,
              "#d8576b"
             ],
             [
              0.6666666666666666,
              "#ed7953"
             ],
             [
              0.7777777777777778,
              "#fb9f3a"
             ],
             [
              0.8888888888888888,
              "#fdca26"
             ],
             [
              1,
              "#f0f921"
             ]
            ],
            "type": "histogram2d"
           }
          ],
          "histogram2dcontour": [
           {
            "colorbar": {
             "outlinewidth": 0,
             "ticks": ""
            },
            "colorscale": [
             [
              0,
              "#0d0887"
             ],
             [
              0.1111111111111111,
              "#46039f"
             ],
             [
              0.2222222222222222,
              "#7201a8"
             ],
             [
              0.3333333333333333,
              "#9c179e"
             ],
             [
              0.4444444444444444,
              "#bd3786"
             ],
             [
              0.5555555555555556,
              "#d8576b"
             ],
             [
              0.6666666666666666,
              "#ed7953"
             ],
             [
              0.7777777777777778,
              "#fb9f3a"
             ],
             [
              0.8888888888888888,
              "#fdca26"
             ],
             [
              1,
              "#f0f921"
             ]
            ],
            "type": "histogram2dcontour"
           }
          ],
          "mesh3d": [
           {
            "colorbar": {
             "outlinewidth": 0,
             "ticks": ""
            },
            "type": "mesh3d"
           }
          ],
          "parcoords": [
           {
            "line": {
             "colorbar": {
              "outlinewidth": 0,
              "ticks": ""
             }
            },
            "type": "parcoords"
           }
          ],
          "pie": [
           {
            "automargin": true,
            "type": "pie"
           }
          ],
          "scatter": [
           {
            "marker": {
             "colorbar": {
              "outlinewidth": 0,
              "ticks": ""
             }
            },
            "type": "scatter"
           }
          ],
          "scatter3d": [
           {
            "line": {
             "colorbar": {
              "outlinewidth": 0,
              "ticks": ""
             }
            },
            "marker": {
             "colorbar": {
              "outlinewidth": 0,
              "ticks": ""
             }
            },
            "type": "scatter3d"
           }
          ],
          "scattercarpet": [
           {
            "marker": {
             "colorbar": {
              "outlinewidth": 0,
              "ticks": ""
             }
            },
            "type": "scattercarpet"
           }
          ],
          "scattergeo": [
           {
            "marker": {
             "colorbar": {
              "outlinewidth": 0,
              "ticks": ""
             }
            },
            "type": "scattergeo"
           }
          ],
          "scattergl": [
           {
            "marker": {
             "colorbar": {
              "outlinewidth": 0,
              "ticks": ""
             }
            },
            "type": "scattergl"
           }
          ],
          "scattermapbox": [
           {
            "marker": {
             "colorbar": {
              "outlinewidth": 0,
              "ticks": ""
             }
            },
            "type": "scattermapbox"
           }
          ],
          "scatterpolar": [
           {
            "marker": {
             "colorbar": {
              "outlinewidth": 0,
              "ticks": ""
             }
            },
            "type": "scatterpolar"
           }
          ],
          "scatterpolargl": [
           {
            "marker": {
             "colorbar": {
              "outlinewidth": 0,
              "ticks": ""
             }
            },
            "type": "scatterpolargl"
           }
          ],
          "scatterternary": [
           {
            "marker": {
             "colorbar": {
              "outlinewidth": 0,
              "ticks": ""
             }
            },
            "type": "scatterternary"
           }
          ],
          "surface": [
           {
            "colorbar": {
             "outlinewidth": 0,
             "ticks": ""
            },
            "colorscale": [
             [
              0,
              "#0d0887"
             ],
             [
              0.1111111111111111,
              "#46039f"
             ],
             [
              0.2222222222222222,
              "#7201a8"
             ],
             [
              0.3333333333333333,
              "#9c179e"
             ],
             [
              0.4444444444444444,
              "#bd3786"
             ],
             [
              0.5555555555555556,
              "#d8576b"
             ],
             [
              0.6666666666666666,
              "#ed7953"
             ],
             [
              0.7777777777777778,
              "#fb9f3a"
             ],
             [
              0.8888888888888888,
              "#fdca26"
             ],
             [
              1,
              "#f0f921"
             ]
            ],
            "type": "surface"
           }
          ],
          "table": [
           {
            "cells": {
             "fill": {
              "color": "#EBF0F8"
             },
             "line": {
              "color": "white"
             }
            },
            "header": {
             "fill": {
              "color": "#C8D4E3"
             },
             "line": {
              "color": "white"
             }
            },
            "type": "table"
           }
          ]
         },
         "layout": {
          "annotationdefaults": {
           "arrowcolor": "#2a3f5f",
           "arrowhead": 0,
           "arrowwidth": 1
          },
          "autotypenumbers": "strict",
          "coloraxis": {
           "colorbar": {
            "outlinewidth": 0,
            "ticks": ""
           }
          },
          "colorscale": {
           "diverging": [
            [
             0,
             "#8e0152"
            ],
            [
             0.1,
             "#c51b7d"
            ],
            [
             0.2,
             "#de77ae"
            ],
            [
             0.3,
             "#f1b6da"
            ],
            [
             0.4,
             "#fde0ef"
            ],
            [
             0.5,
             "#f7f7f7"
            ],
            [
             0.6,
             "#e6f5d0"
            ],
            [
             0.7,
             "#b8e186"
            ],
            [
             0.8,
             "#7fbc41"
            ],
            [
             0.9,
             "#4d9221"
            ],
            [
             1,
             "#276419"
            ]
           ],
           "sequential": [
            [
             0,
             "#0d0887"
            ],
            [
             0.1111111111111111,
             "#46039f"
            ],
            [
             0.2222222222222222,
             "#7201a8"
            ],
            [
             0.3333333333333333,
             "#9c179e"
            ],
            [
             0.4444444444444444,
             "#bd3786"
            ],
            [
             0.5555555555555556,
             "#d8576b"
            ],
            [
             0.6666666666666666,
             "#ed7953"
            ],
            [
             0.7777777777777778,
             "#fb9f3a"
            ],
            [
             0.8888888888888888,
             "#fdca26"
            ],
            [
             1,
             "#f0f921"
            ]
           ],
           "sequentialminus": [
            [
             0,
             "#0d0887"
            ],
            [
             0.1111111111111111,
             "#46039f"
            ],
            [
             0.2222222222222222,
             "#7201a8"
            ],
            [
             0.3333333333333333,
             "#9c179e"
            ],
            [
             0.4444444444444444,
             "#bd3786"
            ],
            [
             0.5555555555555556,
             "#d8576b"
            ],
            [
             0.6666666666666666,
             "#ed7953"
            ],
            [
             0.7777777777777778,
             "#fb9f3a"
            ],
            [
             0.8888888888888888,
             "#fdca26"
            ],
            [
             1,
             "#f0f921"
            ]
           ]
          },
          "colorway": [
           "#636efa",
           "#EF553B",
           "#00cc96",
           "#ab63fa",
           "#FFA15A",
           "#19d3f3",
           "#FF6692",
           "#B6E880",
           "#FF97FF",
           "#FECB52"
          ],
          "font": {
           "color": "#2a3f5f"
          },
          "geo": {
           "bgcolor": "white",
           "lakecolor": "white",
           "landcolor": "#E5ECF6",
           "showlakes": true,
           "showland": true,
           "subunitcolor": "white"
          },
          "hoverlabel": {
           "align": "left"
          },
          "hovermode": "closest",
          "mapbox": {
           "style": "light"
          },
          "paper_bgcolor": "white",
          "plot_bgcolor": "#E5ECF6",
          "polar": {
           "angularaxis": {
            "gridcolor": "white",
            "linecolor": "white",
            "ticks": ""
           },
           "bgcolor": "#E5ECF6",
           "radialaxis": {
            "gridcolor": "white",
            "linecolor": "white",
            "ticks": ""
           }
          },
          "scene": {
           "xaxis": {
            "backgroundcolor": "#E5ECF6",
            "gridcolor": "white",
            "gridwidth": 2,
            "linecolor": "white",
            "showbackground": true,
            "ticks": "",
            "zerolinecolor": "white"
           },
           "yaxis": {
            "backgroundcolor": "#E5ECF6",
            "gridcolor": "white",
            "gridwidth": 2,
            "linecolor": "white",
            "showbackground": true,
            "ticks": "",
            "zerolinecolor": "white"
           },
           "zaxis": {
            "backgroundcolor": "#E5ECF6",
            "gridcolor": "white",
            "gridwidth": 2,
            "linecolor": "white",
            "showbackground": true,
            "ticks": "",
            "zerolinecolor": "white"
           }
          },
          "shapedefaults": {
           "line": {
            "color": "#2a3f5f"
           }
          },
          "ternary": {
           "aaxis": {
            "gridcolor": "white",
            "linecolor": "white",
            "ticks": ""
           },
           "baxis": {
            "gridcolor": "white",
            "linecolor": "white",
            "ticks": ""
           },
           "bgcolor": "#E5ECF6",
           "caxis": {
            "gridcolor": "white",
            "linecolor": "white",
            "ticks": ""
           }
          },
          "title": {
           "x": 0.05
          },
          "xaxis": {
           "automargin": true,
           "gridcolor": "white",
           "linecolor": "white",
           "ticks": "",
           "title": {
            "standoff": 15
           },
           "zerolinecolor": "white",
           "zerolinewidth": 2
          },
          "yaxis": {
           "automargin": true,
           "gridcolor": "white",
           "linecolor": "white",
           "ticks": "",
           "title": {
            "standoff": 15
           },
           "zerolinecolor": "white",
           "zerolinewidth": 2
          }
         }
        },
        "title": {
         "text": "Luminosité des étoiles en fonction de leur température et classe spectrale"
        },
        "xaxis": {
         "anchor": "y",
         "domain": [
          0,
          1
         ],
         "title": {
          "text": "Température (K)"
         }
        },
        "yaxis": {
         "anchor": "x",
         "domain": [
          0,
          1
         ],
         "title": {
          "text": "Luminosité (L/Lo)"
         }
        }
       }
      }
     },
     "metadata": {},
     "output_type": "display_data"
    }
   ],
   "source": [
    "color_map = {\n",
    "    'O': 'blue',\n",
    "    'B': 'lightskyblue',\n",
    "    'A': 'gray',\n",
    "    'F': 'yellow',\n",
    "    'G': 'gold',\n",
    "    'K': 'orange',\n",
    "    'M': 'red'\n",
    "}\n",
    "\n",
    "fig = px.scatter(stars, x='Temperature (K)', y='Luminosity (L/Lo)', color='Spectral Class',\n",
    "                 color_discrete_map=color_map,\n",
    "                 title='Luminosité des étoiles en fonction de leur température et classe spectrale',\n",
    "                 labels={'Temperature (K)': 'Température (K)', 'Luminosity (L/Lo)': 'Luminosité (L/Lo)'})\n",
    "fig.show()"
   ]
  },
  {
   "cell_type": "code",
   "execution_count": 22,
   "metadata": {},
   "outputs": [
    {
     "data": {
      "application/vnd.plotly.v1+json": {
       "config": {
        "plotlyServerURL": "https://plot.ly"
       },
       "data": [
        {
         "hovertemplate": "Star category=Brown Dwarf<br>Absolute magnitude (Mv)=%{x}<br>Radius (R/Ro)=%{y}<extra></extra>",
         "legendgroup": "Brown Dwarf",
         "marker": {
          "color": "#B6E880",
          "symbol": "circle"
         },
         "mode": "markers",
         "name": "Brown Dwarf",
         "orientation": "v",
         "showlegend": true,
         "type": "scatter",
         "x": [
          16.12,
          16.6,
          18.7,
          16.65,
          20.06,
          16.98,
          17.22,
          17.4,
          17.45,
          16.05,
          16.23,
          16.94,
          16.09,
          16.96,
          18.89,
          17.13,
          18.34,
          16.45,
          17.39,
          19.43,
          17.16,
          19.94,
          20.02,
          16.92,
          17.12,
          19.63,
          16.88,
          16.71,
          19.56,
          18.09,
          16.21,
          18.39,
          17.56,
          17.34,
          17.08,
          16.93,
          17.45,
          16.67,
          19.45,
          16.35
         ],
         "xaxis": "x",
         "y": [
          0.17,
          0.1542,
          0.102,
          0.16,
          0.103,
          0.11,
          0.127,
          0.096,
          0.11,
          0.13,
          0.057,
          0.19,
          0.094,
          0.0918,
          0.116,
          0.132,
          0.093,
          0.0911,
          0.118,
          0.12,
          0.0912,
          0.0976,
          0.11,
          0.0932,
          0.109,
          0.121,
          0.0932,
          0.0899,
          0.0782,
          0.0856,
          0.0915,
          0.116,
          0.126,
          0.0987,
          0.0773,
          0.0973,
          0.119,
          0.0998,
          0.112,
          0.129
         ],
         "yaxis": "y"
        },
        {
         "hovertemplate": "Star category=Red Dwarf<br>Absolute magnitude (Mv)=%{x}<br>Radius (R/Ro)=%{y}<extra></extra>",
         "legendgroup": "Red Dwarf",
         "marker": {
          "color": "#FF97FF",
          "symbol": "circle"
         },
         "mode": "markers",
         "name": "Red Dwarf",
         "orientation": "v",
         "showlegend": true,
         "type": "scatter",
         "x": [
          10.69,
          11.79,
          13.21,
          10.48,
          11.782,
          13.07,
          14.79,
          10.8,
          13.53,
          11.18,
          12.3,
          10.12,
          13.2,
          11.94,
          10.89,
          11.76,
          13.46,
          11.87,
          12.81,
          13.98,
          10.87,
          10.34,
          11.17,
          13.12,
          14.23,
          14.75,
          11.43,
          14.26,
          12.23,
          14.33,
          11.47,
          10.73,
          13.45,
          12.854,
          12.43,
          13.667,
          14.12,
          14.94,
          12.78,
          14.776
         ],
         "xaxis": "x",
         "y": [
          0.51,
          0.3761,
          0.196,
          0.393,
          0.14,
          0.24,
          0.16,
          0.47,
          0.1967,
          0.351,
          0.273,
          0.38,
          0.18,
          0.35,
          0.291,
          0.35,
          0.24,
          0.307,
          0.098,
          0.161,
          0.492,
          0.38,
          0.31,
          0.34,
          0.62,
          0.73,
          0.24,
          0.56,
          0.34,
          0.256,
          0.148,
          0.46,
          0.28,
          0.378,
          0.319,
          0.67,
          0.258,
          0.336,
          0.471,
          0.675
         ],
         "yaxis": "y"
        },
        {
         "hovertemplate": "Star category=White Dwarf<br>Absolute magnitude (Mv)=%{x}<br>Radius (R/Ro)=%{y}<extra></extra>",
         "legendgroup": "White Dwarf",
         "marker": {
          "color": "#FECB52",
          "symbol": "circle"
         },
         "mode": "markers",
         "name": "White Dwarf",
         "orientation": "v",
         "showlegend": true,
         "type": "scatter",
         "x": [
          10.58,
          14.02,
          14.23,
          14.5,
          11.89,
          12.23,
          14.2,
          14.47,
          12.59,
          14.08,
          14.09,
          12.02,
          13.78,
          12.45,
          12.17,
          13.98,
          12.13,
          11.19,
          12.97,
          11.34,
          13.67,
          11.52,
          12.78,
          11.92,
          11.38,
          14.87,
          12.83,
          12.89,
          14.81,
          11.23,
          12.87,
          11.92,
          12.23,
          12.9,
          11.22,
          11.34,
          10.55,
          10.18,
          11.66,
          11.62
         ],
         "xaxis": "x",
         "y": [
          0.0084,
          0.01234,
          0.011,
          0.01,
          0.014,
          0.00984,
          0.0097,
          0.0128,
          0.011,
          0.013,
          0.012,
          0.0092,
          0.0095,
          0.015,
          0.0089,
          0.0109,
          0.0092,
          0.0087,
          0.00892,
          0.0131,
          0.00981,
          0.0112,
          0.00934,
          0.00972,
          0.00898,
          0.00879,
          0.00945,
          0.00892,
          0.00878,
          0.00996,
          0.0121,
          0.0114,
          0.0113,
          0.0116,
          0.0124,
          0.0142,
          0.0127,
          0.0104,
          0.0106,
          0.00998
         ],
         "yaxis": "y"
        },
        {
         "hovertemplate": "Star category=Main Sequence<br>Absolute magnitude (Mv)=%{x}<br>Radius (R/Ro)=%{y}<extra></extra>",
         "legendgroup": "Main Sequence",
         "marker": {
          "color": "#636efa",
          "symbol": "circle"
         },
         "mode": "markers",
         "name": "Main Sequence",
         "orientation": "v",
         "showlegend": true,
         "type": "scatter",
         "x": [
          -4.7,
          -4.2,
          -1.97,
          0.16,
          5.05,
          2.42,
          2.41,
          2.93,
          4.46,
          5.03,
          5.49,
          6.506,
          6.228,
          4.78,
          1.45,
          -2.3,
          4.68,
          2.44,
          0.02,
          -4.4,
          -4.01,
          0.12,
          -2.04,
          -3.32,
          -3.98,
          -4.09,
          -3.8,
          -3.4,
          -1.38,
          -4.56,
          -3.67,
          0.013,
          -0.12,
          -2.55,
          -4.57,
          -4.36,
          1.236,
          -3.08,
          -2.64,
          -0.98
         ],
         "xaxis": "x",
         "y": [
          10.6,
          6.3,
          7.2,
          2.89,
          0.9,
          1.8,
          1.12,
          0.98,
          1.106,
          0.99,
          0.91,
          0.865,
          0.795,
          1.13,
          2.63,
          6.98,
          0.876,
          1.34,
          7.01,
          10.2,
          6.02,
          2.487,
          5.745,
          5.68,
          5.92,
          6.4,
          5.49,
          6.78,
          6.21,
          6.86,
          6.36,
          5.856,
          5.992,
          6.64,
          6.39,
          6.237,
          1.91,
          6.03,
          5.653,
          1.93
         ],
         "yaxis": "y"
        },
        {
         "hovertemplate": "Star category=Supergiant<br>Absolute magnitude (Mv)=%{x}<br>Radius (R/Ro)=%{y}<extra></extra>",
         "legendgroup": "Supergiant",
         "marker": {
          "color": "#EF553B",
          "symbol": "circle"
         },
         "mode": "markers",
         "name": "Supergiant",
         "orientation": "v",
         "showlegend": true,
         "type": "scatter",
         "x": [
          -6.93,
          -6.2,
          -6.02,
          -7.22,
          -6,
          -6.6,
          -6.78,
          -5.24,
          -6.74,
          -6.1,
          -6.5,
          -6.23,
          -5.76,
          -6.89,
          -5.91,
          -6.12,
          -5.83,
          -6.34,
          -6.24,
          -5.79,
          -5.92,
          -6.245,
          -5.62,
          -6.63,
          -7.34,
          -7.22,
          -5.69,
          -5.83,
          -6.09,
          -5.99,
          -6.27,
          -7.02,
          -6.98,
          -5.975,
          -6.35,
          -7.45,
          -7.262,
          -6.224,
          -5.905,
          -7.346
         ],
         "xaxis": "x",
         "y": [
          19,
          23,
          88,
          17,
          25,
          29,
          45,
          89,
          84,
          26,
          12,
          14,
          36,
          83,
          12,
          42,
          63,
          36,
          57,
          67,
          57,
          36,
          83,
          97,
          35,
          24,
          73,
          39,
          30,
          24,
          35,
          76,
          98,
          81,
          62,
          46,
          80,
          25,
          86,
          92
         ],
         "yaxis": "y"
        },
        {
         "hovertemplate": "Star category=Hypergiant<br>Absolute magnitude (Mv)=%{x}<br>Radius (R/Ro)=%{y}<extra></extra>",
         "legendgroup": "Hypergiant",
         "marker": {
          "color": "#00cc96",
          "symbol": "circle"
         },
         "mode": "markers",
         "name": "Hypergiant",
         "orientation": "v",
         "showlegend": true,
         "type": "scatter",
         "x": [
          -9.4,
          -7.63,
          -9.2,
          -8.05,
          -7.79,
          -11.75,
          -11.92,
          -11.28,
          -11.24,
          -11.36,
          -10.7,
          -10.81,
          -11.33,
          -10.92,
          -10.86,
          -11.03,
          -11.39,
          -10.25,
          -10.07,
          -10.7,
          -7.58,
          -8.18,
          -9.2,
          -9.1,
          -7.89,
          -7.71,
          -8.3,
          -9.9,
          -7.84,
          -8.24,
          -8.84,
          -9.29,
          -10.84,
          -7.59,
          -7.67,
          -9.93,
          -10.63,
          -10.73,
          -11.23,
          -7.8
         ],
         "xaxis": "x",
         "y": [
          1520,
          1260,
          1183,
          1648,
          1324,
          1349,
          1673,
          1284,
          955,
          1546,
          1289,
          1124,
          1635,
          1486,
          1522,
          1324,
          1534,
          876,
          1467,
          1324,
          1480,
          1420,
          1315,
          1679,
          1190,
          1553,
          1045,
          1779,
          708.9,
          1134.5,
          1494,
          1356,
          1948.5,
          1252,
          1130,
          1356,
          1194,
          1423,
          1112,
          1783
         ],
         "yaxis": "y"
        }
       ],
       "layout": {
        "legend": {
         "title": {
          "text": "Star category"
         },
         "tracegroupgap": 0
        },
        "template": {
         "data": {
          "bar": [
           {
            "error_x": {
             "color": "#2a3f5f"
            },
            "error_y": {
             "color": "#2a3f5f"
            },
            "marker": {
             "line": {
              "color": "#E5ECF6",
              "width": 0.5
             },
             "pattern": {
              "fillmode": "overlay",
              "size": 10,
              "solidity": 0.2
             }
            },
            "type": "bar"
           }
          ],
          "barpolar": [
           {
            "marker": {
             "line": {
              "color": "#E5ECF6",
              "width": 0.5
             },
             "pattern": {
              "fillmode": "overlay",
              "size": 10,
              "solidity": 0.2
             }
            },
            "type": "barpolar"
           }
          ],
          "carpet": [
           {
            "aaxis": {
             "endlinecolor": "#2a3f5f",
             "gridcolor": "white",
             "linecolor": "white",
             "minorgridcolor": "white",
             "startlinecolor": "#2a3f5f"
            },
            "baxis": {
             "endlinecolor": "#2a3f5f",
             "gridcolor": "white",
             "linecolor": "white",
             "minorgridcolor": "white",
             "startlinecolor": "#2a3f5f"
            },
            "type": "carpet"
           }
          ],
          "choropleth": [
           {
            "colorbar": {
             "outlinewidth": 0,
             "ticks": ""
            },
            "type": "choropleth"
           }
          ],
          "contour": [
           {
            "colorbar": {
             "outlinewidth": 0,
             "ticks": ""
            },
            "colorscale": [
             [
              0,
              "#0d0887"
             ],
             [
              0.1111111111111111,
              "#46039f"
             ],
             [
              0.2222222222222222,
              "#7201a8"
             ],
             [
              0.3333333333333333,
              "#9c179e"
             ],
             [
              0.4444444444444444,
              "#bd3786"
             ],
             [
              0.5555555555555556,
              "#d8576b"
             ],
             [
              0.6666666666666666,
              "#ed7953"
             ],
             [
              0.7777777777777778,
              "#fb9f3a"
             ],
             [
              0.8888888888888888,
              "#fdca26"
             ],
             [
              1,
              "#f0f921"
             ]
            ],
            "type": "contour"
           }
          ],
          "contourcarpet": [
           {
            "colorbar": {
             "outlinewidth": 0,
             "ticks": ""
            },
            "type": "contourcarpet"
           }
          ],
          "heatmap": [
           {
            "colorbar": {
             "outlinewidth": 0,
             "ticks": ""
            },
            "colorscale": [
             [
              0,
              "#0d0887"
             ],
             [
              0.1111111111111111,
              "#46039f"
             ],
             [
              0.2222222222222222,
              "#7201a8"
             ],
             [
              0.3333333333333333,
              "#9c179e"
             ],
             [
              0.4444444444444444,
              "#bd3786"
             ],
             [
              0.5555555555555556,
              "#d8576b"
             ],
             [
              0.6666666666666666,
              "#ed7953"
             ],
             [
              0.7777777777777778,
              "#fb9f3a"
             ],
             [
              0.8888888888888888,
              "#fdca26"
             ],
             [
              1,
              "#f0f921"
             ]
            ],
            "type": "heatmap"
           }
          ],
          "heatmapgl": [
           {
            "colorbar": {
             "outlinewidth": 0,
             "ticks": ""
            },
            "colorscale": [
             [
              0,
              "#0d0887"
             ],
             [
              0.1111111111111111,
              "#46039f"
             ],
             [
              0.2222222222222222,
              "#7201a8"
             ],
             [
              0.3333333333333333,
              "#9c179e"
             ],
             [
              0.4444444444444444,
              "#bd3786"
             ],
             [
              0.5555555555555556,
              "#d8576b"
             ],
             [
              0.6666666666666666,
              "#ed7953"
             ],
             [
              0.7777777777777778,
              "#fb9f3a"
             ],
             [
              0.8888888888888888,
              "#fdca26"
             ],
             [
              1,
              "#f0f921"
             ]
            ],
            "type": "heatmapgl"
           }
          ],
          "histogram": [
           {
            "marker": {
             "pattern": {
              "fillmode": "overlay",
              "size": 10,
              "solidity": 0.2
             }
            },
            "type": "histogram"
           }
          ],
          "histogram2d": [
           {
            "colorbar": {
             "outlinewidth": 0,
             "ticks": ""
            },
            "colorscale": [
             [
              0,
              "#0d0887"
             ],
             [
              0.1111111111111111,
              "#46039f"
             ],
             [
              0.2222222222222222,
              "#7201a8"
             ],
             [
              0.3333333333333333,
              "#9c179e"
             ],
             [
              0.4444444444444444,
              "#bd3786"
             ],
             [
              0.5555555555555556,
              "#d8576b"
             ],
             [
              0.6666666666666666,
              "#ed7953"
             ],
             [
              0.7777777777777778,
              "#fb9f3a"
             ],
             [
              0.8888888888888888,
              "#fdca26"
             ],
             [
              1,
              "#f0f921"
             ]
            ],
            "type": "histogram2d"
           }
          ],
          "histogram2dcontour": [
           {
            "colorbar": {
             "outlinewidth": 0,
             "ticks": ""
            },
            "colorscale": [
             [
              0,
              "#0d0887"
             ],
             [
              0.1111111111111111,
              "#46039f"
             ],
             [
              0.2222222222222222,
              "#7201a8"
             ],
             [
              0.3333333333333333,
              "#9c179e"
             ],
             [
              0.4444444444444444,
              "#bd3786"
             ],
             [
              0.5555555555555556,
              "#d8576b"
             ],
             [
              0.6666666666666666,
              "#ed7953"
             ],
             [
              0.7777777777777778,
              "#fb9f3a"
             ],
             [
              0.8888888888888888,
              "#fdca26"
             ],
             [
              1,
              "#f0f921"
             ]
            ],
            "type": "histogram2dcontour"
           }
          ],
          "mesh3d": [
           {
            "colorbar": {
             "outlinewidth": 0,
             "ticks": ""
            },
            "type": "mesh3d"
           }
          ],
          "parcoords": [
           {
            "line": {
             "colorbar": {
              "outlinewidth": 0,
              "ticks": ""
             }
            },
            "type": "parcoords"
           }
          ],
          "pie": [
           {
            "automargin": true,
            "type": "pie"
           }
          ],
          "scatter": [
           {
            "marker": {
             "colorbar": {
              "outlinewidth": 0,
              "ticks": ""
             }
            },
            "type": "scatter"
           }
          ],
          "scatter3d": [
           {
            "line": {
             "colorbar": {
              "outlinewidth": 0,
              "ticks": ""
             }
            },
            "marker": {
             "colorbar": {
              "outlinewidth": 0,
              "ticks": ""
             }
            },
            "type": "scatter3d"
           }
          ],
          "scattercarpet": [
           {
            "marker": {
             "colorbar": {
              "outlinewidth": 0,
              "ticks": ""
             }
            },
            "type": "scattercarpet"
           }
          ],
          "scattergeo": [
           {
            "marker": {
             "colorbar": {
              "outlinewidth": 0,
              "ticks": ""
             }
            },
            "type": "scattergeo"
           }
          ],
          "scattergl": [
           {
            "marker": {
             "colorbar": {
              "outlinewidth": 0,
              "ticks": ""
             }
            },
            "type": "scattergl"
           }
          ],
          "scattermapbox": [
           {
            "marker": {
             "colorbar": {
              "outlinewidth": 0,
              "ticks": ""
             }
            },
            "type": "scattermapbox"
           }
          ],
          "scatterpolar": [
           {
            "marker": {
             "colorbar": {
              "outlinewidth": 0,
              "ticks": ""
             }
            },
            "type": "scatterpolar"
           }
          ],
          "scatterpolargl": [
           {
            "marker": {
             "colorbar": {
              "outlinewidth": 0,
              "ticks": ""
             }
            },
            "type": "scatterpolargl"
           }
          ],
          "scatterternary": [
           {
            "marker": {
             "colorbar": {
              "outlinewidth": 0,
              "ticks": ""
             }
            },
            "type": "scatterternary"
           }
          ],
          "surface": [
           {
            "colorbar": {
             "outlinewidth": 0,
             "ticks": ""
            },
            "colorscale": [
             [
              0,
              "#0d0887"
             ],
             [
              0.1111111111111111,
              "#46039f"
             ],
             [
              0.2222222222222222,
              "#7201a8"
             ],
             [
              0.3333333333333333,
              "#9c179e"
             ],
             [
              0.4444444444444444,
              "#bd3786"
             ],
             [
              0.5555555555555556,
              "#d8576b"
             ],
             [
              0.6666666666666666,
              "#ed7953"
             ],
             [
              0.7777777777777778,
              "#fb9f3a"
             ],
             [
              0.8888888888888888,
              "#fdca26"
             ],
             [
              1,
              "#f0f921"
             ]
            ],
            "type": "surface"
           }
          ],
          "table": [
           {
            "cells": {
             "fill": {
              "color": "#EBF0F8"
             },
             "line": {
              "color": "white"
             }
            },
            "header": {
             "fill": {
              "color": "#C8D4E3"
             },
             "line": {
              "color": "white"
             }
            },
            "type": "table"
           }
          ]
         },
         "layout": {
          "annotationdefaults": {
           "arrowcolor": "#2a3f5f",
           "arrowhead": 0,
           "arrowwidth": 1
          },
          "autotypenumbers": "strict",
          "coloraxis": {
           "colorbar": {
            "outlinewidth": 0,
            "ticks": ""
           }
          },
          "colorscale": {
           "diverging": [
            [
             0,
             "#8e0152"
            ],
            [
             0.1,
             "#c51b7d"
            ],
            [
             0.2,
             "#de77ae"
            ],
            [
             0.3,
             "#f1b6da"
            ],
            [
             0.4,
             "#fde0ef"
            ],
            [
             0.5,
             "#f7f7f7"
            ],
            [
             0.6,
             "#e6f5d0"
            ],
            [
             0.7,
             "#b8e186"
            ],
            [
             0.8,
             "#7fbc41"
            ],
            [
             0.9,
             "#4d9221"
            ],
            [
             1,
             "#276419"
            ]
           ],
           "sequential": [
            [
             0,
             "#0d0887"
            ],
            [
             0.1111111111111111,
             "#46039f"
            ],
            [
             0.2222222222222222,
             "#7201a8"
            ],
            [
             0.3333333333333333,
             "#9c179e"
            ],
            [
             0.4444444444444444,
             "#bd3786"
            ],
            [
             0.5555555555555556,
             "#d8576b"
            ],
            [
             0.6666666666666666,
             "#ed7953"
            ],
            [
             0.7777777777777778,
             "#fb9f3a"
            ],
            [
             0.8888888888888888,
             "#fdca26"
            ],
            [
             1,
             "#f0f921"
            ]
           ],
           "sequentialminus": [
            [
             0,
             "#0d0887"
            ],
            [
             0.1111111111111111,
             "#46039f"
            ],
            [
             0.2222222222222222,
             "#7201a8"
            ],
            [
             0.3333333333333333,
             "#9c179e"
            ],
            [
             0.4444444444444444,
             "#bd3786"
            ],
            [
             0.5555555555555556,
             "#d8576b"
            ],
            [
             0.6666666666666666,
             "#ed7953"
            ],
            [
             0.7777777777777778,
             "#fb9f3a"
            ],
            [
             0.8888888888888888,
             "#fdca26"
            ],
            [
             1,
             "#f0f921"
            ]
           ]
          },
          "colorway": [
           "#636efa",
           "#EF553B",
           "#00cc96",
           "#ab63fa",
           "#FFA15A",
           "#19d3f3",
           "#FF6692",
           "#B6E880",
           "#FF97FF",
           "#FECB52"
          ],
          "font": {
           "color": "#2a3f5f"
          },
          "geo": {
           "bgcolor": "white",
           "lakecolor": "white",
           "landcolor": "#E5ECF6",
           "showlakes": true,
           "showland": true,
           "subunitcolor": "white"
          },
          "hoverlabel": {
           "align": "left"
          },
          "hovermode": "closest",
          "mapbox": {
           "style": "light"
          },
          "paper_bgcolor": "white",
          "plot_bgcolor": "#E5ECF6",
          "polar": {
           "angularaxis": {
            "gridcolor": "white",
            "linecolor": "white",
            "ticks": ""
           },
           "bgcolor": "#E5ECF6",
           "radialaxis": {
            "gridcolor": "white",
            "linecolor": "white",
            "ticks": ""
           }
          },
          "scene": {
           "xaxis": {
            "backgroundcolor": "#E5ECF6",
            "gridcolor": "white",
            "gridwidth": 2,
            "linecolor": "white",
            "showbackground": true,
            "ticks": "",
            "zerolinecolor": "white"
           },
           "yaxis": {
            "backgroundcolor": "#E5ECF6",
            "gridcolor": "white",
            "gridwidth": 2,
            "linecolor": "white",
            "showbackground": true,
            "ticks": "",
            "zerolinecolor": "white"
           },
           "zaxis": {
            "backgroundcolor": "#E5ECF6",
            "gridcolor": "white",
            "gridwidth": 2,
            "linecolor": "white",
            "showbackground": true,
            "ticks": "",
            "zerolinecolor": "white"
           }
          },
          "shapedefaults": {
           "line": {
            "color": "#2a3f5f"
           }
          },
          "ternary": {
           "aaxis": {
            "gridcolor": "white",
            "linecolor": "white",
            "ticks": ""
           },
           "baxis": {
            "gridcolor": "white",
            "linecolor": "white",
            "ticks": ""
           },
           "bgcolor": "#E5ECF6",
           "caxis": {
            "gridcolor": "white",
            "linecolor": "white",
            "ticks": ""
           }
          },
          "title": {
           "x": 0.05
          },
          "xaxis": {
           "automargin": true,
           "gridcolor": "white",
           "linecolor": "white",
           "ticks": "",
           "title": {
            "standoff": 15
           },
           "zerolinecolor": "white",
           "zerolinewidth": 2
          },
          "yaxis": {
           "automargin": true,
           "gridcolor": "white",
           "linecolor": "white",
           "ticks": "",
           "title": {
            "standoff": 15
           },
           "zerolinecolor": "white",
           "zerolinewidth": 2
          }
         }
        },
        "title": {
         "text": "Rayon des étoiles en fonction de leur magnitude et classe spectrale"
        },
        "xaxis": {
         "anchor": "y",
         "domain": [
          0,
          1
         ],
         "title": {
          "text": "Absolute magnitude (Mv)"
         }
        },
        "yaxis": {
         "anchor": "x",
         "domain": [
          0,
          1
         ],
         "title": {
          "text": "Radius (R/Ro)"
         }
        }
       }
      }
     },
     "metadata": {},
     "output_type": "display_data"
    }
   ],
   "source": [
    "color_map = {\n",
    "    'O': 'blue',\n",
    "    'B': 'lightskyblue',\n",
    "    'A': 'gray',\n",
    "    'F': 'yellow',\n",
    "    'G': 'gold',\n",
    "    'K': 'orange',\n",
    "    'M': 'red'\n",
    "}\n",
    "\n",
    "fig = px.scatter(stars, x='Absolute magnitude (Mv)', y='Radius (R/Ro)', color='Star category',\n",
    "                 color_discrete_map=color_map,\n",
    "                 title='Rayon des étoiles en fonction de leur magnitude et classe spectrale')\n",
    "fig.show()"
   ]
  },
  {
   "cell_type": "markdown",
   "metadata": {},
   "source": []
  }
 ],
 "metadata": {
  "kernelspec": {
   "display_name": "base",
   "language": "python",
   "name": "python3"
  },
  "language_info": {
   "codemirror_mode": {
    "name": "ipython",
    "version": 3
   },
   "file_extension": ".py",
   "mimetype": "text/x-python",
   "name": "python",
   "nbconvert_exporter": "python",
   "pygments_lexer": "ipython3",
   "version": "3.9.12"
  }
 },
 "nbformat": 4,
 "nbformat_minor": 2
}
