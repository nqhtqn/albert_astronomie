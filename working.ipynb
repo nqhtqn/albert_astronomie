{
 "cells": [
  {
   "cell_type": "markdown",
   "metadata": {},
   "source": [
    "# Working Notebook"
   ]
  },
  {
   "cell_type": "code",
   "execution_count": null,
   "metadata": {},
   "outputs": [],
   "source": [
    "# import library\n",
    "import pandas as pd\n",
    "import numpy as np\n",
    "import plotly.express as px\n",
    "\n",
    "star = pd.read_csv ('https://github.com/YBIFoundation/Dataset/raw/main/Stars.csv')\n"
   ]
  },
  {
   "cell_type": "code",
   "execution_count": 23,
   "metadata": {},
   "outputs": [
    {
     "data": {
      "text/html": [
       "<div>\n",
       "<style scoped>\n",
       "    .dataframe tbody tr th:only-of-type {\n",
       "        vertical-align: middle;\n",
       "    }\n",
       "\n",
       "    .dataframe tbody tr th {\n",
       "        vertical-align: top;\n",
       "    }\n",
       "\n",
       "    .dataframe thead th {\n",
       "        text-align: right;\n",
       "    }\n",
       "</style>\n",
       "<table border=\"1\" class=\"dataframe\">\n",
       "  <thead>\n",
       "    <tr style=\"text-align: right;\">\n",
       "      <th></th>\n",
       "      <th>Temperature (K)</th>\n",
       "      <th>Luminosity (L/Lo)</th>\n",
       "      <th>Radius (R/Ro)</th>\n",
       "      <th>Absolute magnitude (Mv)</th>\n",
       "      <th>Star type</th>\n",
       "      <th>Star category</th>\n",
       "      <th>Star color</th>\n",
       "      <th>Spectral Class</th>\n",
       "    </tr>\n",
       "  </thead>\n",
       "  <tbody>\n",
       "    <tr>\n",
       "      <th>0</th>\n",
       "      <td>3068</td>\n",
       "      <td>0.002400</td>\n",
       "      <td>0.1700</td>\n",
       "      <td>16.12</td>\n",
       "      <td>0</td>\n",
       "      <td>Brown Dwarf</td>\n",
       "      <td>Red</td>\n",
       "      <td>M</td>\n",
       "    </tr>\n",
       "    <tr>\n",
       "      <th>1</th>\n",
       "      <td>3042</td>\n",
       "      <td>0.000500</td>\n",
       "      <td>0.1542</td>\n",
       "      <td>16.60</td>\n",
       "      <td>0</td>\n",
       "      <td>Brown Dwarf</td>\n",
       "      <td>Red</td>\n",
       "      <td>M</td>\n",
       "    </tr>\n",
       "    <tr>\n",
       "      <th>2</th>\n",
       "      <td>2600</td>\n",
       "      <td>0.000300</td>\n",
       "      <td>0.1020</td>\n",
       "      <td>18.70</td>\n",
       "      <td>0</td>\n",
       "      <td>Brown Dwarf</td>\n",
       "      <td>Red</td>\n",
       "      <td>M</td>\n",
       "    </tr>\n",
       "    <tr>\n",
       "      <th>3</th>\n",
       "      <td>2800</td>\n",
       "      <td>0.000200</td>\n",
       "      <td>0.1600</td>\n",
       "      <td>16.65</td>\n",
       "      <td>0</td>\n",
       "      <td>Brown Dwarf</td>\n",
       "      <td>Red</td>\n",
       "      <td>M</td>\n",
       "    </tr>\n",
       "    <tr>\n",
       "      <th>4</th>\n",
       "      <td>1939</td>\n",
       "      <td>0.000138</td>\n",
       "      <td>0.1030</td>\n",
       "      <td>20.06</td>\n",
       "      <td>0</td>\n",
       "      <td>Brown Dwarf</td>\n",
       "      <td>Red</td>\n",
       "      <td>M</td>\n",
       "    </tr>\n",
       "  </tbody>\n",
       "</table>\n",
       "</div>"
      ],
      "text/plain": [
       "   Temperature (K)  Luminosity (L/Lo)  Radius (R/Ro)  Absolute magnitude (Mv)  \\\n",
       "0             3068           0.002400         0.1700                    16.12   \n",
       "1             3042           0.000500         0.1542                    16.60   \n",
       "2             2600           0.000300         0.1020                    18.70   \n",
       "3             2800           0.000200         0.1600                    16.65   \n",
       "4             1939           0.000138         0.1030                    20.06   \n",
       "\n",
       "   Star type Star category Star color Spectral Class  \n",
       "0          0   Brown Dwarf        Red              M  \n",
       "1          0   Brown Dwarf        Red              M  \n",
       "2          0   Brown Dwarf        Red              M  \n",
       "3          0   Brown Dwarf        Red              M  \n",
       "4          0   Brown Dwarf        Red              M  "
      ]
     },
     "execution_count": 23,
     "metadata": {},
     "output_type": "execute_result"
    }
   ],
   "source": [
    "star.head()"
   ]
  },
  {
   "cell_type": "code",
   "execution_count": 30,
   "metadata": {
    "vscode": {
     "languageId": "javascript"
    }
   },
   "outputs": [
    {
     "data": {
      "application/vnd.plotly.v1+json": {
       "config": {
        "plotlyServerURL": "https://plot.ly"
       },
       "data": [
        {
         "hovertemplate": "Spectral Class=M<br>Température (K)=%{x}<br>Luminosité (L/Lo)=%{y}<extra></extra>",
         "legendgroup": "M",
         "marker": {
          "color": "red",
          "symbol": "circle"
         },
         "mode": "markers",
         "name": "M",
         "orientation": "v",
         "showlegend": true,
         "type": "scatter",
         "x": [
          3068,
          3042,
          2600,
          2800,
          1939,
          2840,
          2637,
          2600,
          2650,
          2700,
          3600,
          3129,
          3134,
          3628,
          2650,
          3340,
          2799,
          3692,
          3192,
          3441,
          3826,
          3365,
          3270,
          3200,
          3008,
          3600,
          3575,
          3574,
          3625,
          3490,
          3750,
          3834,
          3749,
          3650,
          3450,
          3660,
          3450,
          3752,
          3535,
          3341,
          3432,
          2983,
          2835,
          2935,
          3295,
          2945,
          2817,
          2774,
          2871,
          3345,
          3607,
          3304,
          3150,
          3550,
          3180,
          2890,
          3342,
          2621,
          3158,
          3459,
          3605,
          3615,
          3399,
          3610,
          3553,
          3625,
          3780,
          3323,
          3531,
          3218,
          3146,
          3511,
          3225,
          2935,
          2861,
          2856,
          2731,
          3095,
          3607,
          3100,
          2989,
          3542,
          3243,
          3091,
          3598,
          3324,
          3541,
          3570,
          3500,
          3600,
          3614,
          2831,
          2914,
          3419,
          3218,
          3453,
          2889,
          2968,
          3484,
          2778,
          3523,
          3462,
          3257,
          2994,
          3212,
          3523,
          3598,
          3142,
          3496,
          3324,
          3463
         ],
         "xaxis": "x",
         "y": [
          0.0024,
          0.0005,
          0.0003,
          0.0002,
          0.000138,
          0.00065,
          0.00073,
          0.0004,
          0.00069,
          0.00018,
          0.0029,
          0.0122,
          0.0004,
          0.0055,
          0.0006,
          0.0038,
          0.0018,
          0.00367,
          0.00362,
          0.039,
          200000,
          340000,
          150000,
          195000,
          280000,
          320000,
          123000,
          200000,
          184000,
          270000,
          283000,
          272000,
          550000,
          310000,
          263000,
          363000,
          174000,
          209000,
          195000,
          0.0056,
          0.00067,
          0.00024,
          0.00034,
          0.00014,
          0.00098,
          0.00032,
          0.00098,
          0.00036,
          0.00072,
          0.021,
          0.022,
          0.0085,
          0.0088,
          0.004,
          0.001,
          0.0034,
          0.0015,
          0.0006,
          0.00135,
          100000,
          126000,
          200000,
          117000,
          132000,
          145000,
          74000,
          200000,
          0.00043,
          0.00093,
          0.00054,
          0.00015,
          0.00064,
          0.00076,
          0.00087,
          0.00019,
          0.000896,
          0.000437,
          0.00019,
          0.00023,
          0.008,
          0.0087,
          0.0009,
          0.0023,
          0.0081,
          0.0011,
          0.0034,
          0.0013,
          320000,
          138000,
          240000,
          145000,
          0.000231,
          0.000631,
          0.000245,
          0.000452,
          0.000621,
          0.000352,
          0.000461,
          0.000551,
          0.000849,
          0.000957,
          0.0053,
          0.0024,
          0.0072,
          0.0016,
          0.0054,
          0.0027,
          0.00132,
          0.00125,
          0.0065,
          0.0027
         ],
         "yaxis": "y"
        },
        {
         "hovertemplate": "Spectral Class=B<br>Température (K)=%{x}<br>Luminosité (L/Lo)=%{y}<extra></extra>",
         "legendgroup": "B",
         "marker": {
          "color": "lightskyblue",
          "symbol": "circle"
         },
         "mode": "markers",
         "name": "B",
         "orientation": "v",
         "showlegend": true,
         "type": "scatter",
         "x": [
          25000,
          16500,
          30000,
          15276,
          9700,
          33750,
          17200,
          14100,
          12010,
          10980,
          19860,
          33300,
          13420,
          21020,
          18290,
          14520,
          11900,
          12912,
          12984,
          29560,
          16390,
          25070,
          28700,
          26140,
          20120,
          26000,
          11000,
          12100,
          24490,
          16790,
          15680,
          14982,
          13340,
          18340,
          19920,
          24020,
          23092,
          17920,
          19360,
          22350,
          22012,
          19400,
          17140,
          24145,
          27739,
          21904
         ],
         "xaxis": "x",
         "y": [
          0.056,
          0.013,
          28840,
          1136,
          74,
          220000,
          0.00098,
          0.00067,
          0.00078,
          0.00074,
          0.0011,
          240000,
          0.00059,
          0.0015,
          0.0013,
          0.00082,
          0.00067,
          0.00071,
          0.00088,
          188000,
          1278,
          14500,
          16790,
          14520,
          4720,
          316000,
          170000,
          120000,
          248490,
          0.0014,
          0.00122,
          0.00118,
          0.00109,
          0.00134,
          0.00156,
          0.00159,
          0.00132,
          0.00111,
          0.00125,
          12450,
          6748,
          10920,
          883,
          382993,
          849420,
          748490
         ],
         "yaxis": "y"
        },
        {
         "hovertemplate": "Spectral Class=A<br>Température (K)=%{x}<br>Luminosité (L/Lo)=%{y}<extra></extra>",
         "legendgroup": "A",
         "marker": {
          "color": "gray",
          "symbol": "circle"
         },
         "mode": "markers",
         "name": "A",
         "orientation": "v",
         "showlegend": true,
         "type": "scatter",
         "x": [
          7740,
          8500,
          8570,
          8052,
          8930,
          9675,
          9030,
          11250,
          12098,
          8924,
          7723,
          8945,
          14060,
          13023,
          10012,
          13089,
          9320,
          8829,
          9235
         ],
         "xaxis": "x",
         "y": [
          0.00049,
          0.0005,
          0.00081,
          8.7,
          0.00056,
          0.00045,
          45,
          672,
          689,
          0.00028,
          0.00014,
          38,
          1092,
          998,
          552,
          788,
          29,
          537493,
          404940
         ],
         "yaxis": "y"
        },
        {
         "hovertemplate": "Spectral Class=F<br>Température (K)=%{x}<br>Luminosité (L/Lo)=%{y}<extra></extra>",
         "legendgroup": "F",
         "marker": {
          "color": "yellow",
          "symbol": "circle"
         },
         "mode": "markers",
         "name": "F",
         "orientation": "v",
         "showlegend": true,
         "type": "scatter",
         "x": [
          7220,
          12990,
          7700,
          11790,
          7230,
          5800,
          6757,
          6380,
          5936,
          5587,
          7100,
          10574,
          13720,
          5300,
          7720,
          14732,
          8250
         ],
         "xaxis": "x",
         "y": [
          0.00017,
          0.000085,
          0.00011,
          0.00015,
          0.00008,
          0.81,
          1.43,
          1.35,
          1.357,
          0.819,
          0.00029,
          0.00014,
          0.00018,
          0.59,
          7.92,
          0.00011,
          9.25
         ],
         "yaxis": "y"
        },
        {
         "hovertemplate": "Spectral Class=O<br>Température (K)=%{x}<br>Luminosité (L/Lo)=%{y}<extra></extra>",
         "legendgroup": "O",
         "marker": {
          "color": "blue",
          "symbol": "circle"
         },
         "mode": "markers",
         "name": "O",
         "orientation": "v",
         "showlegend": true,
         "type": "scatter",
         "x": [
          39000,
          36108,
          40000,
          23000,
          17120,
          11096,
          14245,
          24630,
          12893,
          24345,
          33421,
          37800,
          25390,
          11567,
          12675,
          5752,
          8927,
          7282,
          19923,
          26373,
          17383,
          9373,
          18000,
          34190,
          32460,
          23678,
          12749,
          9383,
          23440,
          16787,
          18734,
          9892,
          10930,
          23095,
          21738,
          38234,
          32489,
          38940,
          30839,
          37882
         ],
         "xaxis": "x",
         "y": [
          204000,
          198000,
          813000,
          127000,
          235000,
          112000,
          231000,
          363000,
          184000,
          142000,
          352000,
          202900,
          223000,
          251000,
          452000,
          245000,
          239000,
          131000,
          152000,
          198000,
          342900,
          424520,
          200000,
          198200,
          173800,
          244290,
          332520,
          342940,
          537430,
          246730,
          224780,
          593900,
          783930,
          347820,
          748890,
          272830,
          648430,
          374830,
          834042,
          294903
         ],
         "yaxis": "y"
        },
        {
         "hovertemplate": "Spectral Class=K<br>Température (K)=%{x}<br>Luminosité (L/Lo)=%{y}<extra></extra>",
         "legendgroup": "K",
         "marker": {
          "color": "orange",
          "symbol": "circle"
         },
         "mode": "markers",
         "name": "K",
         "orientation": "v",
         "showlegend": true,
         "type": "scatter",
         "x": [
          4526,
          4077,
          4980,
          5112,
          4015,
          4287
         ],
         "xaxis": "x",
         "y": [
          0.153,
          0.085,
          0.357,
          0.63,
          282000,
          630000
         ],
         "yaxis": "y"
        },
        {
         "hovertemplate": "Spectral Class=G<br>Température (K)=%{x}<br>Luminosité (L/Lo)=%{y}<extra></extra>",
         "legendgroup": "G",
         "marker": {
          "color": "gold",
          "symbol": "circle"
         },
         "mode": "markers",
         "name": "G",
         "orientation": "v",
         "showlegend": true,
         "type": "scatter",
         "x": [
          6850
         ],
         "xaxis": "x",
         "y": [
          229000
         ],
         "yaxis": "y"
        }
       ],
       "layout": {
        "legend": {
         "title": {
          "text": "Spectral Class"
         },
         "tracegroupgap": 0
        },
        "template": {
         "data": {
          "bar": [
           {
            "error_x": {
             "color": "#2a3f5f"
            },
            "error_y": {
             "color": "#2a3f5f"
            },
            "marker": {
             "line": {
              "color": "#E5ECF6",
              "width": 0.5
             },
             "pattern": {
              "fillmode": "overlay",
              "size": 10,
              "solidity": 0.2
             }
            },
            "type": "bar"
           }
          ],
          "barpolar": [
           {
            "marker": {
             "line": {
              "color": "#E5ECF6",
              "width": 0.5
             },
             "pattern": {
              "fillmode": "overlay",
              "size": 10,
              "solidity": 0.2
             }
            },
            "type": "barpolar"
           }
          ],
          "carpet": [
           {
            "aaxis": {
             "endlinecolor": "#2a3f5f",
             "gridcolor": "white",
             "linecolor": "white",
             "minorgridcolor": "white",
             "startlinecolor": "#2a3f5f"
            },
            "baxis": {
             "endlinecolor": "#2a3f5f",
             "gridcolor": "white",
             "linecolor": "white",
             "minorgridcolor": "white",
             "startlinecolor": "#2a3f5f"
            },
            "type": "carpet"
           }
          ],
          "choropleth": [
           {
            "colorbar": {
             "outlinewidth": 0,
             "ticks": ""
            },
            "type": "choropleth"
           }
          ],
          "contour": [
           {
            "colorbar": {
             "outlinewidth": 0,
             "ticks": ""
            },
            "colorscale": [
             [
              0,
              "#0d0887"
             ],
             [
              0.1111111111111111,
              "#46039f"
             ],
             [
              0.2222222222222222,
              "#7201a8"
             ],
             [
              0.3333333333333333,
              "#9c179e"
             ],
             [
              0.4444444444444444,
              "#bd3786"
             ],
             [
              0.5555555555555556,
              "#d8576b"
             ],
             [
              0.6666666666666666,
              "#ed7953"
             ],
             [
              0.7777777777777778,
              "#fb9f3a"
             ],
             [
              0.8888888888888888,
              "#fdca26"
             ],
             [
              1,
              "#f0f921"
             ]
            ],
            "type": "contour"
           }
          ],
          "contourcarpet": [
           {
            "colorbar": {
             "outlinewidth": 0,
             "ticks": ""
            },
            "type": "contourcarpet"
           }
          ],
          "heatmap": [
           {
            "colorbar": {
             "outlinewidth": 0,
             "ticks": ""
            },
            "colorscale": [
             [
              0,
              "#0d0887"
             ],
             [
              0.1111111111111111,
              "#46039f"
             ],
             [
              0.2222222222222222,
              "#7201a8"
             ],
             [
              0.3333333333333333,
              "#9c179e"
             ],
             [
              0.4444444444444444,
              "#bd3786"
             ],
             [
              0.5555555555555556,
              "#d8576b"
             ],
             [
              0.6666666666666666,
              "#ed7953"
             ],
             [
              0.7777777777777778,
              "#fb9f3a"
             ],
             [
              0.8888888888888888,
              "#fdca26"
             ],
             [
              1,
              "#f0f921"
             ]
            ],
            "type": "heatmap"
           }
          ],
          "heatmapgl": [
           {
            "colorbar": {
             "outlinewidth": 0,
             "ticks": ""
            },
            "colorscale": [
             [
              0,
              "#0d0887"
             ],
             [
              0.1111111111111111,
              "#46039f"
             ],
             [
              0.2222222222222222,
              "#7201a8"
             ],
             [
              0.3333333333333333,
              "#9c179e"
             ],
             [
              0.4444444444444444,
              "#bd3786"
             ],
             [
              0.5555555555555556,
              "#d8576b"
             ],
             [
              0.6666666666666666,
              "#ed7953"
             ],
             [
              0.7777777777777778,
              "#fb9f3a"
             ],
             [
              0.8888888888888888,
              "#fdca26"
             ],
             [
              1,
              "#f0f921"
             ]
            ],
            "type": "heatmapgl"
           }
          ],
          "histogram": [
           {
            "marker": {
             "pattern": {
              "fillmode": "overlay",
              "size": 10,
              "solidity": 0.2
             }
            },
            "type": "histogram"
           }
          ],
          "histogram2d": [
           {
            "colorbar": {
             "outlinewidth": 0,
             "ticks": ""
            },
            "colorscale": [
             [
              0,
              "#0d0887"
             ],
             [
              0.1111111111111111,
              "#46039f"
             ],
             [
              0.2222222222222222,
              "#7201a8"
             ],
             [
              0.3333333333333333,
              "#9c179e"
             ],
             [
              0.4444444444444444,
              "#bd3786"
             ],
             [
              0.5555555555555556,
              "#d8576b"
             ],
             [
              0.6666666666666666,
              "#ed7953"
             ],
             [
              0.7777777777777778,
              "#fb9f3a"
             ],
             [
              0.8888888888888888,
              "#fdca26"
             ],
             [
              1,
              "#f0f921"
             ]
            ],
            "type": "histogram2d"
           }
          ],
          "histogram2dcontour": [
           {
            "colorbar": {
             "outlinewidth": 0,
             "ticks": ""
            },
            "colorscale": [
             [
              0,
              "#0d0887"
             ],
             [
              0.1111111111111111,
              "#46039f"
             ],
             [
              0.2222222222222222,
              "#7201a8"
             ],
             [
              0.3333333333333333,
              "#9c179e"
             ],
             [
              0.4444444444444444,
              "#bd3786"
             ],
             [
              0.5555555555555556,
              "#d8576b"
             ],
             [
              0.6666666666666666,
              "#ed7953"
             ],
             [
              0.7777777777777778,
              "#fb9f3a"
             ],
             [
              0.8888888888888888,
              "#fdca26"
             ],
             [
              1,
              "#f0f921"
             ]
            ],
            "type": "histogram2dcontour"
           }
          ],
          "mesh3d": [
           {
            "colorbar": {
             "outlinewidth": 0,
             "ticks": ""
            },
            "type": "mesh3d"
           }
          ],
          "parcoords": [
           {
            "line": {
             "colorbar": {
              "outlinewidth": 0,
              "ticks": ""
             }
            },
            "type": "parcoords"
           }
          ],
          "pie": [
           {
            "automargin": true,
            "type": "pie"
           }
          ],
          "scatter": [
           {
            "marker": {
             "colorbar": {
              "outlinewidth": 0,
              "ticks": ""
             }
            },
            "type": "scatter"
           }
          ],
          "scatter3d": [
           {
            "line": {
             "colorbar": {
              "outlinewidth": 0,
              "ticks": ""
             }
            },
            "marker": {
             "colorbar": {
              "outlinewidth": 0,
              "ticks": ""
             }
            },
            "type": "scatter3d"
           }
          ],
          "scattercarpet": [
           {
            "marker": {
             "colorbar": {
              "outlinewidth": 0,
              "ticks": ""
             }
            },
            "type": "scattercarpet"
           }
          ],
          "scattergeo": [
           {
            "marker": {
             "colorbar": {
              "outlinewidth": 0,
              "ticks": ""
             }
            },
            "type": "scattergeo"
           }
          ],
          "scattergl": [
           {
            "marker": {
             "colorbar": {
              "outlinewidth": 0,
              "ticks": ""
             }
            },
            "type": "scattergl"
           }
          ],
          "scattermapbox": [
           {
            "marker": {
             "colorbar": {
              "outlinewidth": 0,
              "ticks": ""
             }
            },
            "type": "scattermapbox"
           }
          ],
          "scatterpolar": [
           {
            "marker": {
             "colorbar": {
              "outlinewidth": 0,
              "ticks": ""
             }
            },
            "type": "scatterpolar"
           }
          ],
          "scatterpolargl": [
           {
            "marker": {
             "colorbar": {
              "outlinewidth": 0,
              "ticks": ""
             }
            },
            "type": "scatterpolargl"
           }
          ],
          "scatterternary": [
           {
            "marker": {
             "colorbar": {
              "outlinewidth": 0,
              "ticks": ""
             }
            },
            "type": "scatterternary"
           }
          ],
          "surface": [
           {
            "colorbar": {
             "outlinewidth": 0,
             "ticks": ""
            },
            "colorscale": [
             [
              0,
              "#0d0887"
             ],
             [
              0.1111111111111111,
              "#46039f"
             ],
             [
              0.2222222222222222,
              "#7201a8"
             ],
             [
              0.3333333333333333,
              "#9c179e"
             ],
             [
              0.4444444444444444,
              "#bd3786"
             ],
             [
              0.5555555555555556,
              "#d8576b"
             ],
             [
              0.6666666666666666,
              "#ed7953"
             ],
             [
              0.7777777777777778,
              "#fb9f3a"
             ],
             [
              0.8888888888888888,
              "#fdca26"
             ],
             [
              1,
              "#f0f921"
             ]
            ],
            "type": "surface"
           }
          ],
          "table": [
           {
            "cells": {
             "fill": {
              "color": "#EBF0F8"
             },
             "line": {
              "color": "white"
             }
            },
            "header": {
             "fill": {
              "color": "#C8D4E3"
             },
             "line": {
              "color": "white"
             }
            },
            "type": "table"
           }
          ]
         },
         "layout": {
          "annotationdefaults": {
           "arrowcolor": "#2a3f5f",
           "arrowhead": 0,
           "arrowwidth": 1
          },
          "autotypenumbers": "strict",
          "coloraxis": {
           "colorbar": {
            "outlinewidth": 0,
            "ticks": ""
           }
          },
          "colorscale": {
           "diverging": [
            [
             0,
             "#8e0152"
            ],
            [
             0.1,
             "#c51b7d"
            ],
            [
             0.2,
             "#de77ae"
            ],
            [
             0.3,
             "#f1b6da"
            ],
            [
             0.4,
             "#fde0ef"
            ],
            [
             0.5,
             "#f7f7f7"
            ],
            [
             0.6,
             "#e6f5d0"
            ],
            [
             0.7,
             "#b8e186"
            ],
            [
             0.8,
             "#7fbc41"
            ],
            [
             0.9,
             "#4d9221"
            ],
            [
             1,
             "#276419"
            ]
           ],
           "sequential": [
            [
             0,
             "#0d0887"
            ],
            [
             0.1111111111111111,
             "#46039f"
            ],
            [
             0.2222222222222222,
             "#7201a8"
            ],
            [
             0.3333333333333333,
             "#9c179e"
            ],
            [
             0.4444444444444444,
             "#bd3786"
            ],
            [
             0.5555555555555556,
             "#d8576b"
            ],
            [
             0.6666666666666666,
             "#ed7953"
            ],
            [
             0.7777777777777778,
             "#fb9f3a"
            ],
            [
             0.8888888888888888,
             "#fdca26"
            ],
            [
             1,
             "#f0f921"
            ]
           ],
           "sequentialminus": [
            [
             0,
             "#0d0887"
            ],
            [
             0.1111111111111111,
             "#46039f"
            ],
            [
             0.2222222222222222,
             "#7201a8"
            ],
            [
             0.3333333333333333,
             "#9c179e"
            ],
            [
             0.4444444444444444,
             "#bd3786"
            ],
            [
             0.5555555555555556,
             "#d8576b"
            ],
            [
             0.6666666666666666,
             "#ed7953"
            ],
            [
             0.7777777777777778,
             "#fb9f3a"
            ],
            [
             0.8888888888888888,
             "#fdca26"
            ],
            [
             1,
             "#f0f921"
            ]
           ]
          },
          "colorway": [
           "#636efa",
           "#EF553B",
           "#00cc96",
           "#ab63fa",
           "#FFA15A",
           "#19d3f3",
           "#FF6692",
           "#B6E880",
           "#FF97FF",
           "#FECB52"
          ],
          "font": {
           "color": "#2a3f5f"
          },
          "geo": {
           "bgcolor": "white",
           "lakecolor": "white",
           "landcolor": "#E5ECF6",
           "showlakes": true,
           "showland": true,
           "subunitcolor": "white"
          },
          "hoverlabel": {
           "align": "left"
          },
          "hovermode": "closest",
          "mapbox": {
           "style": "light"
          },
          "paper_bgcolor": "white",
          "plot_bgcolor": "#E5ECF6",
          "polar": {
           "angularaxis": {
            "gridcolor": "white",
            "linecolor": "white",
            "ticks": ""
           },
           "bgcolor": "#E5ECF6",
           "radialaxis": {
            "gridcolor": "white",
            "linecolor": "white",
            "ticks": ""
           }
          },
          "scene": {
           "xaxis": {
            "backgroundcolor": "#E5ECF6",
            "gridcolor": "white",
            "gridwidth": 2,
            "linecolor": "white",
            "showbackground": true,
            "ticks": "",
            "zerolinecolor": "white"
           },
           "yaxis": {
            "backgroundcolor": "#E5ECF6",
            "gridcolor": "white",
            "gridwidth": 2,
            "linecolor": "white",
            "showbackground": true,
            "ticks": "",
            "zerolinecolor": "white"
           },
           "zaxis": {
            "backgroundcolor": "#E5ECF6",
            "gridcolor": "white",
            "gridwidth": 2,
            "linecolor": "white",
            "showbackground": true,
            "ticks": "",
            "zerolinecolor": "white"
           }
          },
          "shapedefaults": {
           "line": {
            "color": "#2a3f5f"
           }
          },
          "ternary": {
           "aaxis": {
            "gridcolor": "white",
            "linecolor": "white",
            "ticks": ""
           },
           "baxis": {
            "gridcolor": "white",
            "linecolor": "white",
            "ticks": ""
           },
           "bgcolor": "#E5ECF6",
           "caxis": {
            "gridcolor": "white",
            "linecolor": "white",
            "ticks": ""
           }
          },
          "title": {
           "x": 0.05
          },
          "xaxis": {
           "automargin": true,
           "gridcolor": "white",
           "linecolor": "white",
           "ticks": "",
           "title": {
            "standoff": 15
           },
           "zerolinecolor": "white",
           "zerolinewidth": 2
          },
          "yaxis": {
           "automargin": true,
           "gridcolor": "white",
           "linecolor": "white",
           "ticks": "",
           "title": {
            "standoff": 15
           },
           "zerolinecolor": "white",
           "zerolinewidth": 2
          }
         }
        },
        "title": {
         "text": "Luminosité des étoiles en fonction de leur température et classe spectrale"
        },
        "xaxis": {
         "anchor": "y",
         "domain": [
          0,
          1
         ],
         "title": {
          "text": "Température (K)"
         }
        },
        "yaxis": {
         "anchor": "x",
         "domain": [
          0,
          1
         ],
         "title": {
          "text": "Luminosité (L/Lo)"
         }
        }
       }
      }
     },
     "metadata": {},
     "output_type": "display_data"
    }
   ],
   "source": [
    "\n",
    "color_map = {\n",
    "    'O': 'blue',\n",
    "    'B': 'lightskyblue',\n",
    "    'A': 'gray',\n",
    "    'F': 'yellow',\n",
    "    'G': 'gold',\n",
    "    'K': 'orange',\n",
    "    'M': 'red'\n",
    "}\n",
    "\n",
    "fig = px.scatter(star, x='Temperature (K)', y='Luminosity (L/Lo)', color='Spectral Class',\n",
    "                 color_discrete_map=color_map,\n",
    "                 title='Luminosité des étoiles en fonction de leur température et classe spectrale',\n",
    "                 labels={'Temperature (K)': 'Température (K)', 'Luminosity (L/Lo)': 'Luminosité (L/Lo)'})\n",
    "fig.show()"
   ]
  },
  {
   "cell_type": "code",
   "execution_count": null,
   "metadata": {},
   "outputs": [],
   "source": []
  }
 ],
 "metadata": {
  "kernelspec": {
   "display_name": "base",
   "language": "python",
   "name": "python3"
  },
  "language_info": {
   "codemirror_mode": {
    "name": "ipython",
    "version": 3
   },
   "file_extension": ".py",
   "mimetype": "text/x-python",
   "name": "python",
   "nbconvert_exporter": "python",
   "pygments_lexer": "ipython3",
   "version": "3.9.12"
  }
 },
 "nbformat": 4,
 "nbformat_minor": 2
}
